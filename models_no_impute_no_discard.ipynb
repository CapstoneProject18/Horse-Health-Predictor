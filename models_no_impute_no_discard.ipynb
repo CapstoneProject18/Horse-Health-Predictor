{
 "cells": [
  {
   "cell_type": "code",
   "execution_count": 1,
   "metadata": {},
   "outputs": [],
   "source": [
    "import numpy as np\n",
    "import pandas as pd\n",
    "import matplotlib.pyplot as plt\n",
    "import seaborn as sns\n",
    "from sklearn.preprocessing import Imputer\n",
    "from sklearn.preprocessing import LabelEncoder\n",
    "from sklearn.model_selection import train_test_split\n",
    "from sklearn.linear_model import LogisticRegression\n",
    "from sklearn.tree import DecisionTreeClassifier\n",
    "from sklearn.ensemble import RandomForestClassifier\n",
    "from sklearn.svm import SVC\n",
    "from sklearn.neighbors import KNeighborsClassifier\n",
    "from sklearn.metrics import classification_report,confusion_matrix\n",
    "%matplotlib inline"
   ]
  },
  {
   "cell_type": "code",
   "execution_count": 2,
   "metadata": {},
   "outputs": [],
   "source": [
    "df = pd.read_csv('horse.csv')\n",
    "imputer = Imputer()"
   ]
  },
  {
   "cell_type": "code",
   "execution_count": 3,
   "metadata": {},
   "outputs": [
    {
     "data": {
      "text/html": [
       "<div>\n",
       "<style scoped>\n",
       "    .dataframe tbody tr th:only-of-type {\n",
       "        vertical-align: middle;\n",
       "    }\n",
       "\n",
       "    .dataframe tbody tr th {\n",
       "        vertical-align: top;\n",
       "    }\n",
       "\n",
       "    .dataframe thead th {\n",
       "        text-align: right;\n",
       "    }\n",
       "</style>\n",
       "<table border=\"1\" class=\"dataframe\">\n",
       "  <thead>\n",
       "    <tr style=\"text-align: right;\">\n",
       "      <th></th>\n",
       "      <th>surgery</th>\n",
       "      <th>age</th>\n",
       "      <th>hospital_number</th>\n",
       "      <th>rectal_temp</th>\n",
       "      <th>pulse</th>\n",
       "      <th>respiratory_rate</th>\n",
       "      <th>temp_of_extremities</th>\n",
       "      <th>peripheral_pulse</th>\n",
       "      <th>mucous_membrane</th>\n",
       "      <th>capillary_refill_time</th>\n",
       "      <th>...</th>\n",
       "      <th>packed_cell_volume</th>\n",
       "      <th>total_protein</th>\n",
       "      <th>abdomo_appearance</th>\n",
       "      <th>abdomo_protein</th>\n",
       "      <th>outcome</th>\n",
       "      <th>surgical_lesion</th>\n",
       "      <th>lesion_1</th>\n",
       "      <th>lesion_2</th>\n",
       "      <th>lesion_3</th>\n",
       "      <th>cp_data</th>\n",
       "    </tr>\n",
       "  </thead>\n",
       "  <tbody>\n",
       "    <tr>\n",
       "      <th>0</th>\n",
       "      <td>no</td>\n",
       "      <td>adult</td>\n",
       "      <td>530101</td>\n",
       "      <td>38.5</td>\n",
       "      <td>66.0</td>\n",
       "      <td>28.0</td>\n",
       "      <td>cool</td>\n",
       "      <td>reduced</td>\n",
       "      <td>NaN</td>\n",
       "      <td>more_3_sec</td>\n",
       "      <td>...</td>\n",
       "      <td>45.0</td>\n",
       "      <td>8.4</td>\n",
       "      <td>NaN</td>\n",
       "      <td>NaN</td>\n",
       "      <td>died</td>\n",
       "      <td>no</td>\n",
       "      <td>11300</td>\n",
       "      <td>0</td>\n",
       "      <td>0</td>\n",
       "      <td>no</td>\n",
       "    </tr>\n",
       "    <tr>\n",
       "      <th>1</th>\n",
       "      <td>yes</td>\n",
       "      <td>adult</td>\n",
       "      <td>534817</td>\n",
       "      <td>39.2</td>\n",
       "      <td>88.0</td>\n",
       "      <td>20.0</td>\n",
       "      <td>NaN</td>\n",
       "      <td>NaN</td>\n",
       "      <td>pale_cyanotic</td>\n",
       "      <td>less_3_sec</td>\n",
       "      <td>...</td>\n",
       "      <td>50.0</td>\n",
       "      <td>85.0</td>\n",
       "      <td>cloudy</td>\n",
       "      <td>2.0</td>\n",
       "      <td>euthanized</td>\n",
       "      <td>no</td>\n",
       "      <td>2208</td>\n",
       "      <td>0</td>\n",
       "      <td>0</td>\n",
       "      <td>no</td>\n",
       "    </tr>\n",
       "    <tr>\n",
       "      <th>2</th>\n",
       "      <td>no</td>\n",
       "      <td>adult</td>\n",
       "      <td>530334</td>\n",
       "      <td>38.3</td>\n",
       "      <td>40.0</td>\n",
       "      <td>24.0</td>\n",
       "      <td>normal</td>\n",
       "      <td>normal</td>\n",
       "      <td>pale_pink</td>\n",
       "      <td>less_3_sec</td>\n",
       "      <td>...</td>\n",
       "      <td>33.0</td>\n",
       "      <td>6.7</td>\n",
       "      <td>NaN</td>\n",
       "      <td>NaN</td>\n",
       "      <td>lived</td>\n",
       "      <td>no</td>\n",
       "      <td>0</td>\n",
       "      <td>0</td>\n",
       "      <td>0</td>\n",
       "      <td>yes</td>\n",
       "    </tr>\n",
       "    <tr>\n",
       "      <th>3</th>\n",
       "      <td>yes</td>\n",
       "      <td>young</td>\n",
       "      <td>5290409</td>\n",
       "      <td>39.1</td>\n",
       "      <td>164.0</td>\n",
       "      <td>84.0</td>\n",
       "      <td>cold</td>\n",
       "      <td>normal</td>\n",
       "      <td>dark_cyanotic</td>\n",
       "      <td>more_3_sec</td>\n",
       "      <td>...</td>\n",
       "      <td>48.0</td>\n",
       "      <td>7.2</td>\n",
       "      <td>serosanguious</td>\n",
       "      <td>5.3</td>\n",
       "      <td>died</td>\n",
       "      <td>yes</td>\n",
       "      <td>2208</td>\n",
       "      <td>0</td>\n",
       "      <td>0</td>\n",
       "      <td>yes</td>\n",
       "    </tr>\n",
       "    <tr>\n",
       "      <th>4</th>\n",
       "      <td>no</td>\n",
       "      <td>adult</td>\n",
       "      <td>530255</td>\n",
       "      <td>37.3</td>\n",
       "      <td>104.0</td>\n",
       "      <td>35.0</td>\n",
       "      <td>NaN</td>\n",
       "      <td>NaN</td>\n",
       "      <td>dark_cyanotic</td>\n",
       "      <td>more_3_sec</td>\n",
       "      <td>...</td>\n",
       "      <td>74.0</td>\n",
       "      <td>7.4</td>\n",
       "      <td>NaN</td>\n",
       "      <td>NaN</td>\n",
       "      <td>died</td>\n",
       "      <td>no</td>\n",
       "      <td>4300</td>\n",
       "      <td>0</td>\n",
       "      <td>0</td>\n",
       "      <td>no</td>\n",
       "    </tr>\n",
       "  </tbody>\n",
       "</table>\n",
       "<p>5 rows × 28 columns</p>\n",
       "</div>"
      ],
      "text/plain": [
       "  surgery    age  hospital_number  rectal_temp  pulse  respiratory_rate  \\\n",
       "0      no  adult           530101         38.5   66.0              28.0   \n",
       "1     yes  adult           534817         39.2   88.0              20.0   \n",
       "2      no  adult           530334         38.3   40.0              24.0   \n",
       "3     yes  young          5290409         39.1  164.0              84.0   \n",
       "4      no  adult           530255         37.3  104.0              35.0   \n",
       "\n",
       "  temp_of_extremities peripheral_pulse mucous_membrane capillary_refill_time  \\\n",
       "0                cool          reduced             NaN            more_3_sec   \n",
       "1                 NaN              NaN   pale_cyanotic            less_3_sec   \n",
       "2              normal           normal       pale_pink            less_3_sec   \n",
       "3                cold           normal   dark_cyanotic            more_3_sec   \n",
       "4                 NaN              NaN   dark_cyanotic            more_3_sec   \n",
       "\n",
       "    ...    packed_cell_volume total_protein abdomo_appearance abdomo_protein  \\\n",
       "0   ...                  45.0           8.4               NaN            NaN   \n",
       "1   ...                  50.0          85.0            cloudy            2.0   \n",
       "2   ...                  33.0           6.7               NaN            NaN   \n",
       "3   ...                  48.0           7.2     serosanguious            5.3   \n",
       "4   ...                  74.0           7.4               NaN            NaN   \n",
       "\n",
       "      outcome  surgical_lesion lesion_1 lesion_2  lesion_3  cp_data  \n",
       "0        died               no    11300        0         0       no  \n",
       "1  euthanized               no     2208        0         0       no  \n",
       "2       lived               no        0        0         0      yes  \n",
       "3        died              yes     2208        0         0      yes  \n",
       "4        died               no     4300        0         0       no  \n",
       "\n",
       "[5 rows x 28 columns]"
      ]
     },
     "execution_count": 3,
     "metadata": {},
     "output_type": "execute_result"
    }
   ],
   "source": [
    "df.head()"
   ]
  },
  {
   "cell_type": "code",
   "execution_count": 4,
   "metadata": {},
   "outputs": [
    {
     "data": {
      "text/plain": [
       "<matplotlib.axes._subplots.AxesSubplot at 0x7fb4ad96f400>"
      ]
     },
     "execution_count": 4,
     "metadata": {},
     "output_type": "execute_result"
    },
    {
     "data": {
      "image/png": "[encoded data removed]",
      "text/plain": [
       "<matplotlib.figure.Figure at 0x7fb4ad9a4c18>"
      ]
     },
     "metadata": {
      "needs_background": "light"
     },
     "output_type": "display_data"
    }
   ],
   "source": [
    "sns.heatmap(df.isnull())"
   ]
  },
  {
   "cell_type": "code",
   "execution_count": 5,
   "metadata": {},
   "outputs": [
    {
     "data": {
      "text/plain": [
       "<matplotlib.axes._subplots.AxesSubplot at 0x7fb4ab858b70>"
      ]
     },
     "execution_count": 5,
     "metadata": {},
     "output_type": "execute_result"
    },
    {
     "data": {
      "image/png": "[encoded data removed]",
      "text/plain": [
       "<matplotlib.figure.Figure at 0x7fb4ab8f0828>"
      ]
     },
     "metadata": {
      "needs_background": "light"
     },
     "output_type": "display_data"
    }
   ],
   "source": [
    "sns.distplot(df['rectal_temp'].dropna())\n",
    "#close to normal distribution"
   ]
  },
  {
   "cell_type": "code",
   "execution_count": 6,
   "metadata": {},
   "outputs": [
    {
     "data": {
      "text/plain": [
       "<matplotlib.axes._subplots.AxesSubplot at 0x7fb4ab75fb70>"
      ]
     },
     "execution_count": 6,
     "metadata": {},
     "output_type": "execute_result"
    },
    {
     "data": {
      "image/png": "[encoded data removed]",
      "text/plain": [
       "<matplotlib.figure.Figure at 0x7fb4ab840d68>"
      ]
     },
     "metadata": {
      "needs_background": "light"
     },
     "output_type": "display_data"
    }
   ],
   "source": [
    "sns.distplot(df['rectal_temp'].dropna())"
   ]
  },
  {
   "cell_type": "code",
   "execution_count": 7,
   "metadata": {},
   "outputs": [
    {
     "data": {
      "text/plain": [
       "<matplotlib.axes._subplots.AxesSubplot at 0x7fb4ab6fbcc0>"
      ]
     },
     "execution_count": 7,
     "metadata": {},
     "output_type": "execute_result"
    },
    {
     "data": {
      "image/png": "[encoded data removed]",
      "text/plain": [
       "<matplotlib.figure.Figure at 0x7fb4ab73f358>"
      ]
     },
     "metadata": {
      "needs_background": "light"
     },
     "output_type": "display_data"
    }
   ],
   "source": [
    "sns.distplot(df['packed_cell_volume'].dropna())"
   ]
  },
  {
   "cell_type": "code",
   "execution_count": 8,
   "metadata": {},
   "outputs": [
    {
     "data": {
      "text/plain": [
       "<matplotlib.axes._subplots.AxesSubplot at 0x7fb4ab6fb9e8>"
      ]
     },
     "execution_count": 8,
     "metadata": {},
     "output_type": "execute_result"
    },
    {
     "data": {
      "image/png": "[encoded data removed]",
      "text/plain": [
       "<matplotlib.figure.Figure at 0x7fb4ab69e080>"
      ]
     },
     "metadata": {
      "needs_background": "light"
     },
     "output_type": "display_data"
    }
   ],
   "source": [
    "sns.distplot(df['total_protein'].dropna())"
   ]
  },
  {
   "cell_type": "code",
   "execution_count": 9,
   "metadata": {},
   "outputs": [
    {
     "data": {
      "text/plain": [
       "<seaborn.axisgrid.JointGrid at 0x7fb4ab6908d0>"
      ]
     },
     "execution_count": 9,
     "metadata": {},
     "output_type": "execute_result"
    },
    {
     "data": {
      "image/png": "[encoded data removed]",
      "text/plain": [
       "<matplotlib.figure.Figure at 0x7fb4ab690630>"
      ]
     },
     "metadata": {
      "needs_background": "light"
     },
     "output_type": "display_data"
    }
   ],
   "source": [
    "sns.jointplot(x='pulse',y='respiratory_rate',data = df,kind ='reg')"
   ]
  },
  {
   "cell_type": "code",
   "execution_count": 10,
   "metadata": {},
   "outputs": [],
   "source": [
    "df.drop('hospital_number',axis = 1,inplace = True)"
   ]
  },
  {
   "cell_type": "code",
   "execution_count": 11,
   "metadata": {},
   "outputs": [
    {
     "data": {
      "text/plain": [
       "Index(['surgery', 'age', 'rectal_temp', 'pulse', 'respiratory_rate',\n",
       "       'temp_of_extremities', 'peripheral_pulse', 'mucous_membrane',\n",
       "       'capillary_refill_time', 'pain', 'peristalsis', 'abdominal_distention',\n",
       "       'nasogastric_tube', 'nasogastric_reflux', 'nasogastric_reflux_ph',\n",
       "       'rectal_exam_feces', 'abdomen', 'packed_cell_volume', 'total_protein',\n",
       "       'abdomo_appearance', 'abdomo_protein', 'outcome', 'surgical_lesion',\n",
       "       'lesion_1', 'lesion_2', 'lesion_3', 'cp_data'],\n",
       "      dtype='object')"
      ]
     },
     "execution_count": 11,
     "metadata": {},
     "output_type": "execute_result"
    }
   ],
   "source": [
    "df.columns"
   ]
  },
  {
   "cell_type": "code",
   "execution_count": 12,
   "metadata": {},
   "outputs": [
    {
     "data": {
      "text/html": [
       "<div>\n",
       "<style scoped>\n",
       "    .dataframe tbody tr th:only-of-type {\n",
       "        vertical-align: middle;\n",
       "    }\n",
       "\n",
       "    .dataframe tbody tr th {\n",
       "        vertical-align: top;\n",
       "    }\n",
       "\n",
       "    .dataframe thead th {\n",
       "        text-align: right;\n",
       "    }\n",
       "</style>\n",
       "<table border=\"1\" class=\"dataframe\">\n",
       "  <thead>\n",
       "    <tr style=\"text-align: right;\">\n",
       "      <th></th>\n",
       "      <th>surgery</th>\n",
       "      <th>age</th>\n",
       "      <th>rectal_temp</th>\n",
       "      <th>pulse</th>\n",
       "      <th>respiratory_rate</th>\n",
       "      <th>temp_of_extremities</th>\n",
       "      <th>peripheral_pulse</th>\n",
       "      <th>mucous_membrane</th>\n",
       "      <th>capillary_refill_time</th>\n",
       "      <th>pain</th>\n",
       "      <th>...</th>\n",
       "      <th>packed_cell_volume</th>\n",
       "      <th>total_protein</th>\n",
       "      <th>abdomo_appearance</th>\n",
       "      <th>abdomo_protein</th>\n",
       "      <th>outcome</th>\n",
       "      <th>surgical_lesion</th>\n",
       "      <th>lesion_1</th>\n",
       "      <th>lesion_2</th>\n",
       "      <th>lesion_3</th>\n",
       "      <th>cp_data</th>\n",
       "    </tr>\n",
       "  </thead>\n",
       "  <tbody>\n",
       "    <tr>\n",
       "      <th>0</th>\n",
       "      <td>no</td>\n",
       "      <td>adult</td>\n",
       "      <td>38.5</td>\n",
       "      <td>66.0</td>\n",
       "      <td>28.0</td>\n",
       "      <td>cool</td>\n",
       "      <td>reduced</td>\n",
       "      <td>NaN</td>\n",
       "      <td>more_3_sec</td>\n",
       "      <td>extreme_pain</td>\n",
       "      <td>...</td>\n",
       "      <td>45.0</td>\n",
       "      <td>8.4</td>\n",
       "      <td>NaN</td>\n",
       "      <td>NaN</td>\n",
       "      <td>died</td>\n",
       "      <td>no</td>\n",
       "      <td>11300</td>\n",
       "      <td>0</td>\n",
       "      <td>0</td>\n",
       "      <td>no</td>\n",
       "    </tr>\n",
       "    <tr>\n",
       "      <th>1</th>\n",
       "      <td>yes</td>\n",
       "      <td>adult</td>\n",
       "      <td>39.2</td>\n",
       "      <td>88.0</td>\n",
       "      <td>20.0</td>\n",
       "      <td>NaN</td>\n",
       "      <td>NaN</td>\n",
       "      <td>pale_cyanotic</td>\n",
       "      <td>less_3_sec</td>\n",
       "      <td>mild_pain</td>\n",
       "      <td>...</td>\n",
       "      <td>50.0</td>\n",
       "      <td>85.0</td>\n",
       "      <td>cloudy</td>\n",
       "      <td>2.0</td>\n",
       "      <td>euthanized</td>\n",
       "      <td>no</td>\n",
       "      <td>2208</td>\n",
       "      <td>0</td>\n",
       "      <td>0</td>\n",
       "      <td>no</td>\n",
       "    </tr>\n",
       "    <tr>\n",
       "      <th>2</th>\n",
       "      <td>no</td>\n",
       "      <td>adult</td>\n",
       "      <td>38.3</td>\n",
       "      <td>40.0</td>\n",
       "      <td>24.0</td>\n",
       "      <td>normal</td>\n",
       "      <td>normal</td>\n",
       "      <td>pale_pink</td>\n",
       "      <td>less_3_sec</td>\n",
       "      <td>mild_pain</td>\n",
       "      <td>...</td>\n",
       "      <td>33.0</td>\n",
       "      <td>6.7</td>\n",
       "      <td>NaN</td>\n",
       "      <td>NaN</td>\n",
       "      <td>lived</td>\n",
       "      <td>no</td>\n",
       "      <td>0</td>\n",
       "      <td>0</td>\n",
       "      <td>0</td>\n",
       "      <td>yes</td>\n",
       "    </tr>\n",
       "    <tr>\n",
       "      <th>3</th>\n",
       "      <td>yes</td>\n",
       "      <td>young</td>\n",
       "      <td>39.1</td>\n",
       "      <td>164.0</td>\n",
       "      <td>84.0</td>\n",
       "      <td>cold</td>\n",
       "      <td>normal</td>\n",
       "      <td>dark_cyanotic</td>\n",
       "      <td>more_3_sec</td>\n",
       "      <td>depressed</td>\n",
       "      <td>...</td>\n",
       "      <td>48.0</td>\n",
       "      <td>7.2</td>\n",
       "      <td>serosanguious</td>\n",
       "      <td>5.3</td>\n",
       "      <td>died</td>\n",
       "      <td>yes</td>\n",
       "      <td>2208</td>\n",
       "      <td>0</td>\n",
       "      <td>0</td>\n",
       "      <td>yes</td>\n",
       "    </tr>\n",
       "    <tr>\n",
       "      <th>4</th>\n",
       "      <td>no</td>\n",
       "      <td>adult</td>\n",
       "      <td>37.3</td>\n",
       "      <td>104.0</td>\n",
       "      <td>35.0</td>\n",
       "      <td>NaN</td>\n",
       "      <td>NaN</td>\n",
       "      <td>dark_cyanotic</td>\n",
       "      <td>more_3_sec</td>\n",
       "      <td>NaN</td>\n",
       "      <td>...</td>\n",
       "      <td>74.0</td>\n",
       "      <td>7.4</td>\n",
       "      <td>NaN</td>\n",
       "      <td>NaN</td>\n",
       "      <td>died</td>\n",
       "      <td>no</td>\n",
       "      <td>4300</td>\n",
       "      <td>0</td>\n",
       "      <td>0</td>\n",
       "      <td>no</td>\n",
       "    </tr>\n",
       "  </tbody>\n",
       "</table>\n",
       "<p>5 rows × 27 columns</p>\n",
       "</div>"
      ],
      "text/plain": [
       "  surgery    age  rectal_temp  pulse  respiratory_rate temp_of_extremities  \\\n",
       "0      no  adult         38.5   66.0              28.0                cool   \n",
       "1     yes  adult         39.2   88.0              20.0                 NaN   \n",
       "2      no  adult         38.3   40.0              24.0              normal   \n",
       "3     yes  young         39.1  164.0              84.0                cold   \n",
       "4      no  adult         37.3  104.0              35.0                 NaN   \n",
       "\n",
       "  peripheral_pulse mucous_membrane capillary_refill_time          pain  \\\n",
       "0          reduced             NaN            more_3_sec  extreme_pain   \n",
       "1              NaN   pale_cyanotic            less_3_sec     mild_pain   \n",
       "2           normal       pale_pink            less_3_sec     mild_pain   \n",
       "3           normal   dark_cyanotic            more_3_sec     depressed   \n",
       "4              NaN   dark_cyanotic            more_3_sec           NaN   \n",
       "\n",
       "    ...   packed_cell_volume total_protein abdomo_appearance abdomo_protein  \\\n",
       "0   ...                 45.0           8.4               NaN            NaN   \n",
       "1   ...                 50.0          85.0            cloudy            2.0   \n",
       "2   ...                 33.0           6.7               NaN            NaN   \n",
       "3   ...                 48.0           7.2     serosanguious            5.3   \n",
       "4   ...                 74.0           7.4               NaN            NaN   \n",
       "\n",
       "      outcome surgical_lesion lesion_1  lesion_2  lesion_3 cp_data  \n",
       "0        died              no    11300         0         0      no  \n",
       "1  euthanized              no     2208         0         0      no  \n",
       "2       lived              no        0         0         0     yes  \n",
       "3        died             yes     2208         0         0     yes  \n",
       "4        died              no     4300         0         0      no  \n",
       "\n",
       "[5 rows x 27 columns]"
      ]
     },
     "execution_count": 12,
     "metadata": {},
     "output_type": "execute_result"
    }
   ],
   "source": [
    "df.head()"
   ]
  },
  {
   "cell_type": "code",
   "execution_count": 13,
   "metadata": {},
   "outputs": [
    {
     "data": {
      "text/plain": [
       "<matplotlib.axes._subplots.AxesSubplot at 0x7fb4ab4a58d0>"
      ]
     },
     "execution_count": 13,
     "metadata": {},
     "output_type": "execute_result"
    },
    {
     "data": {
      "image/png": "[encoded data removed]",
      "text/plain": [
       "<matplotlib.figure.Figure at 0x7fb4ab6058d0>"
      ]
     },
     "metadata": {
      "needs_background": "light"
     },
     "output_type": "display_data"
    }
   ],
   "source": [
    "sns.countplot('outcome',data = df)"
   ]
  },
  {
   "cell_type": "code",
   "execution_count": 14,
   "metadata": {},
   "outputs": [
    {
     "data": {
      "text/plain": [
       "<matplotlib.axes._subplots.AxesSubplot at 0x7fb4ab505320>"
      ]
     },
     "execution_count": 14,
     "metadata": {},
     "output_type": "execute_result"
    },
    {
     "data": {
      "image/png": "[encoded data removed]",
      "text/plain": [
       "<matplotlib.figure.Figure at 0x7fb4ab5d9c88>"
      ]
     },
     "metadata": {
      "needs_background": "light"
     },
     "output_type": "display_data"
    }
   ],
   "source": [
    "sns.countplot('outcome',hue = 'age',data = df)"
   ]
  },
  {
   "cell_type": "code",
   "execution_count": 15,
   "metadata": {},
   "outputs": [
    {
     "data": {
      "text/plain": [
       "Index(['surgery', 'age', 'rectal_temp', 'pulse', 'respiratory_rate',\n",
       "       'temp_of_extremities', 'peripheral_pulse', 'mucous_membrane',\n",
       "       'capillary_refill_time', 'pain', 'peristalsis', 'abdominal_distention',\n",
       "       'nasogastric_tube', 'nasogastric_reflux', 'nasogastric_reflux_ph',\n",
       "       'rectal_exam_feces', 'abdomen', 'packed_cell_volume', 'total_protein',\n",
       "       'abdomo_appearance', 'abdomo_protein', 'outcome', 'surgical_lesion',\n",
       "       'lesion_1', 'lesion_2', 'lesion_3', 'cp_data'],\n",
       "      dtype='object')"
      ]
     },
     "execution_count": 15,
     "metadata": {},
     "output_type": "execute_result"
    }
   ],
   "source": [
    "df.columns"
   ]
  },
  {
   "cell_type": "code",
   "execution_count": 16,
   "metadata": {},
   "outputs": [
    {
     "data": {
      "text/plain": [
       "<matplotlib.axes._subplots.AxesSubplot at 0x7fb4ab430ba8>"
      ]
     },
     "execution_count": 16,
     "metadata": {},
     "output_type": "execute_result"
    },
    {
     "data": {
      "image/png": "[encoded data removed]",
      "text/plain": [
       "<matplotlib.figure.Figure at 0x7fb4ab6b1630>"
      ]
     },
     "metadata": {
      "needs_background": "light"
     },
     "output_type": "display_data"
    }
   ],
   "source": [
    "sns.countplot('outcome',hue = 'surgery',data = df)"
   ]
  },
  {
   "cell_type": "code",
   "execution_count": 17,
   "metadata": {},
   "outputs": [
    {
     "name": "stdout",
     "output_type": "stream",
     "text": [
      "<class 'pandas.core.frame.DataFrame'>\n",
      "RangeIndex: 299 entries, 0 to 298\n",
      "Data columns (total 27 columns):\n",
      "surgery                  299 non-null object\n",
      "age                      299 non-null object\n",
      "rectal_temp              239 non-null float64\n",
      "pulse                    275 non-null float64\n",
      "respiratory_rate         241 non-null float64\n",
      "temp_of_extremities      243 non-null object\n",
      "peripheral_pulse         230 non-null object\n",
      "mucous_membrane          252 non-null object\n",
      "capillary_refill_time    267 non-null object\n",
      "pain                     244 non-null object\n",
      "peristalsis              255 non-null object\n",
      "abdominal_distention     243 non-null object\n",
      "nasogastric_tube         195 non-null object\n",
      "nasogastric_reflux       193 non-null object\n",
      "nasogastric_reflux_ph    53 non-null float64\n",
      "rectal_exam_feces        197 non-null object\n",
      "abdomen                  181 non-null object\n",
      "packed_cell_volume       270 non-null float64\n",
      "total_protein            266 non-null float64\n",
      "abdomo_appearance        134 non-null object\n",
      "abdomo_protein           101 non-null float64\n",
      "outcome                  299 non-null object\n",
      "surgical_lesion          299 non-null object\n",
      "lesion_1                 299 non-null int64\n",
      "lesion_2                 299 non-null int64\n",
      "lesion_3                 299 non-null int64\n",
      "cp_data                  299 non-null object\n",
      "dtypes: float64(7), int64(3), object(17)\n",
      "memory usage: 63.1+ KB\n"
     ]
    }
   ],
   "source": [
    "df.info()"
   ]
  },
  {
   "cell_type": "code",
   "execution_count": 18,
   "metadata": {},
   "outputs": [],
   "source": [
    "#changing categorical to numeric \n",
    "surgery = pd.get_dummies(df['surgery'],drop_first=True)"
   ]
  },
  {
   "cell_type": "code",
   "execution_count": 19,
   "metadata": {},
   "outputs": [],
   "source": [
    "age = pd.get_dummies(df['age'],drop_first=True)"
   ]
  },
  {
   "cell_type": "code",
   "execution_count": 20,
   "metadata": {},
   "outputs": [],
   "source": [
    "surgical_lesion = pd.get_dummies(df['surgical_lesion'],drop_first=True)"
   ]
  },
  {
   "cell_type": "code",
   "execution_count": 21,
   "metadata": {},
   "outputs": [],
   "source": [
    "cp_data = pd.get_dummies(df['cp_data'],drop_first=True)"
   ]
  },
  {
   "cell_type": "code",
   "execution_count": 22,
   "metadata": {},
   "outputs": [],
   "source": [
    "df.drop(['surgery','age','surgical_lesion','cp_data'],axis=1,inplace=True)"
   ]
  },
  {
   "cell_type": "code",
   "execution_count": 23,
   "metadata": {},
   "outputs": [],
   "source": [
    "df = pd.concat([df,surgery,age,surgical_lesion,cp_data],axis=1)"
   ]
  },
  {
   "cell_type": "code",
   "execution_count": 24,
   "metadata": {},
   "outputs": [
    {
     "data": {
      "text/html": [
       "<div>\n",
       "<style scoped>\n",
       "    .dataframe tbody tr th:only-of-type {\n",
       "        vertical-align: middle;\n",
       "    }\n",
       "\n",
       "    .dataframe tbody tr th {\n",
       "        vertical-align: top;\n",
       "    }\n",
       "\n",
       "    .dataframe thead th {\n",
       "        text-align: right;\n",
       "    }\n",
       "</style>\n",
       "<table border=\"1\" class=\"dataframe\">\n",
       "  <thead>\n",
       "    <tr style=\"text-align: right;\">\n",
       "      <th></th>\n",
       "      <th>rectal_temp</th>\n",
       "      <th>pulse</th>\n",
       "      <th>respiratory_rate</th>\n",
       "      <th>temp_of_extremities</th>\n",
       "      <th>peripheral_pulse</th>\n",
       "      <th>mucous_membrane</th>\n",
       "      <th>capillary_refill_time</th>\n",
       "      <th>pain</th>\n",
       "      <th>peristalsis</th>\n",
       "      <th>abdominal_distention</th>\n",
       "      <th>...</th>\n",
       "      <th>abdomo_appearance</th>\n",
       "      <th>abdomo_protein</th>\n",
       "      <th>outcome</th>\n",
       "      <th>lesion_1</th>\n",
       "      <th>lesion_2</th>\n",
       "      <th>lesion_3</th>\n",
       "      <th>yes</th>\n",
       "      <th>young</th>\n",
       "      <th>yes</th>\n",
       "      <th>yes</th>\n",
       "    </tr>\n",
       "  </thead>\n",
       "  <tbody>\n",
       "    <tr>\n",
       "      <th>0</th>\n",
       "      <td>38.5</td>\n",
       "      <td>66.0</td>\n",
       "      <td>28.0</td>\n",
       "      <td>cool</td>\n",
       "      <td>reduced</td>\n",
       "      <td>NaN</td>\n",
       "      <td>more_3_sec</td>\n",
       "      <td>extreme_pain</td>\n",
       "      <td>absent</td>\n",
       "      <td>severe</td>\n",
       "      <td>...</td>\n",
       "      <td>NaN</td>\n",
       "      <td>NaN</td>\n",
       "      <td>died</td>\n",
       "      <td>11300</td>\n",
       "      <td>0</td>\n",
       "      <td>0</td>\n",
       "      <td>0</td>\n",
       "      <td>0</td>\n",
       "      <td>0</td>\n",
       "      <td>0</td>\n",
       "    </tr>\n",
       "    <tr>\n",
       "      <th>1</th>\n",
       "      <td>39.2</td>\n",
       "      <td>88.0</td>\n",
       "      <td>20.0</td>\n",
       "      <td>NaN</td>\n",
       "      <td>NaN</td>\n",
       "      <td>pale_cyanotic</td>\n",
       "      <td>less_3_sec</td>\n",
       "      <td>mild_pain</td>\n",
       "      <td>absent</td>\n",
       "      <td>slight</td>\n",
       "      <td>...</td>\n",
       "      <td>cloudy</td>\n",
       "      <td>2.0</td>\n",
       "      <td>euthanized</td>\n",
       "      <td>2208</td>\n",
       "      <td>0</td>\n",
       "      <td>0</td>\n",
       "      <td>1</td>\n",
       "      <td>0</td>\n",
       "      <td>0</td>\n",
       "      <td>0</td>\n",
       "    </tr>\n",
       "    <tr>\n",
       "      <th>2</th>\n",
       "      <td>38.3</td>\n",
       "      <td>40.0</td>\n",
       "      <td>24.0</td>\n",
       "      <td>normal</td>\n",
       "      <td>normal</td>\n",
       "      <td>pale_pink</td>\n",
       "      <td>less_3_sec</td>\n",
       "      <td>mild_pain</td>\n",
       "      <td>hypomotile</td>\n",
       "      <td>none</td>\n",
       "      <td>...</td>\n",
       "      <td>NaN</td>\n",
       "      <td>NaN</td>\n",
       "      <td>lived</td>\n",
       "      <td>0</td>\n",
       "      <td>0</td>\n",
       "      <td>0</td>\n",
       "      <td>0</td>\n",
       "      <td>0</td>\n",
       "      <td>0</td>\n",
       "      <td>1</td>\n",
       "    </tr>\n",
       "    <tr>\n",
       "      <th>3</th>\n",
       "      <td>39.1</td>\n",
       "      <td>164.0</td>\n",
       "      <td>84.0</td>\n",
       "      <td>cold</td>\n",
       "      <td>normal</td>\n",
       "      <td>dark_cyanotic</td>\n",
       "      <td>more_3_sec</td>\n",
       "      <td>depressed</td>\n",
       "      <td>absent</td>\n",
       "      <td>severe</td>\n",
       "      <td>...</td>\n",
       "      <td>serosanguious</td>\n",
       "      <td>5.3</td>\n",
       "      <td>died</td>\n",
       "      <td>2208</td>\n",
       "      <td>0</td>\n",
       "      <td>0</td>\n",
       "      <td>1</td>\n",
       "      <td>1</td>\n",
       "      <td>1</td>\n",
       "      <td>1</td>\n",
       "    </tr>\n",
       "    <tr>\n",
       "      <th>4</th>\n",
       "      <td>37.3</td>\n",
       "      <td>104.0</td>\n",
       "      <td>35.0</td>\n",
       "      <td>NaN</td>\n",
       "      <td>NaN</td>\n",
       "      <td>dark_cyanotic</td>\n",
       "      <td>more_3_sec</td>\n",
       "      <td>NaN</td>\n",
       "      <td>NaN</td>\n",
       "      <td>NaN</td>\n",
       "      <td>...</td>\n",
       "      <td>NaN</td>\n",
       "      <td>NaN</td>\n",
       "      <td>died</td>\n",
       "      <td>4300</td>\n",
       "      <td>0</td>\n",
       "      <td>0</td>\n",
       "      <td>0</td>\n",
       "      <td>0</td>\n",
       "      <td>0</td>\n",
       "      <td>0</td>\n",
       "    </tr>\n",
       "  </tbody>\n",
       "</table>\n",
       "<p>5 rows × 27 columns</p>\n",
       "</div>"
      ],
      "text/plain": [
       "   rectal_temp  pulse  respiratory_rate temp_of_extremities peripheral_pulse  \\\n",
       "0         38.5   66.0              28.0                cool          reduced   \n",
       "1         39.2   88.0              20.0                 NaN              NaN   \n",
       "2         38.3   40.0              24.0              normal           normal   \n",
       "3         39.1  164.0              84.0                cold           normal   \n",
       "4         37.3  104.0              35.0                 NaN              NaN   \n",
       "\n",
       "  mucous_membrane capillary_refill_time          pain peristalsis  \\\n",
       "0             NaN            more_3_sec  extreme_pain      absent   \n",
       "1   pale_cyanotic            less_3_sec     mild_pain      absent   \n",
       "2       pale_pink            less_3_sec     mild_pain  hypomotile   \n",
       "3   dark_cyanotic            more_3_sec     depressed      absent   \n",
       "4   dark_cyanotic            more_3_sec           NaN         NaN   \n",
       "\n",
       "  abdominal_distention ... abdomo_appearance abdomo_protein     outcome  \\\n",
       "0               severe ...               NaN            NaN        died   \n",
       "1               slight ...            cloudy            2.0  euthanized   \n",
       "2                 none ...               NaN            NaN       lived   \n",
       "3               severe ...     serosanguious            5.3        died   \n",
       "4                  NaN ...               NaN            NaN        died   \n",
       "\n",
       "  lesion_1 lesion_2  lesion_3 yes young yes yes  \n",
       "0    11300        0         0   0     0   0   0  \n",
       "1     2208        0         0   1     0   0   0  \n",
       "2        0        0         0   0     0   0   1  \n",
       "3     2208        0         0   1     1   1   1  \n",
       "4     4300        0         0   0     0   0   0  \n",
       "\n",
       "[5 rows x 27 columns]"
      ]
     },
     "execution_count": 24,
     "metadata": {},
     "output_type": "execute_result"
    }
   ],
   "source": [
    "df.head()"
   ]
  },
  {
   "cell_type": "code",
   "execution_count": 25,
   "metadata": {},
   "outputs": [
    {
     "data": {
      "text/plain": [
       "Index(['rectal_temp', 'pulse', 'respiratory_rate', 'temp_of_extremities',\n",
       "       'peripheral_pulse', 'mucous_membrane', 'capillary_refill_time', 'pain',\n",
       "       'peristalsis', 'abdominal_distention', 'nasogastric_tube',\n",
       "       'nasogastric_reflux', 'nasogastric_reflux_ph', 'rectal_exam_feces',\n",
       "       'abdomen', 'packed_cell_volume', 'total_protein', 'abdomo_appearance',\n",
       "       'abdomo_protein', 'outcome', 'lesion_1', 'lesion_2', 'lesion_3', 'yes',\n",
       "       'young', 'yes', 'yes'],\n",
       "      dtype='object')"
      ]
     },
     "execution_count": 25,
     "metadata": {},
     "output_type": "execute_result"
    }
   ],
   "source": [
    "df.columns"
   ]
  },
  {
   "cell_type": "code",
   "execution_count": 26,
   "metadata": {},
   "outputs": [],
   "source": [
    "df.columns=['rectal_temp', 'pulse', 'respiratory_rate', 'temp_of_extremities','peripheral_pulse', 'mucous_membrane', 'capillary_refill_time', 'pain','peristalsis', 'abdominal_distention', 'nasogastric_tube','nasogastric_reflux', 'nasogastric_reflux_ph', 'rectal_exam_feces',\n",
    "       'abdomen', 'packed_cell_volume', 'total_protein', 'abdomo_appearance','abdomo_protein', 'outcome', 'lesion_1', 'lesion_2', 'lesion_3', 'surgery','young', 'surgical_lesion', 'cp_data']"
   ]
  },
  {
   "cell_type": "code",
   "execution_count": 27,
   "metadata": {},
   "outputs": [
    {
     "data": {
      "text/html": [
       "<div>\n",
       "<style scoped>\n",
       "    .dataframe tbody tr th:only-of-type {\n",
       "        vertical-align: middle;\n",
       "    }\n",
       "\n",
       "    .dataframe tbody tr th {\n",
       "        vertical-align: top;\n",
       "    }\n",
       "\n",
       "    .dataframe thead th {\n",
       "        text-align: right;\n",
       "    }\n",
       "</style>\n",
       "<table border=\"1\" class=\"dataframe\">\n",
       "  <thead>\n",
       "    <tr style=\"text-align: right;\">\n",
       "      <th></th>\n",
       "      <th>rectal_temp</th>\n",
       "      <th>pulse</th>\n",
       "      <th>respiratory_rate</th>\n",
       "      <th>temp_of_extremities</th>\n",
       "      <th>peripheral_pulse</th>\n",
       "      <th>mucous_membrane</th>\n",
       "      <th>capillary_refill_time</th>\n",
       "      <th>pain</th>\n",
       "      <th>peristalsis</th>\n",
       "      <th>abdominal_distention</th>\n",
       "      <th>...</th>\n",
       "      <th>abdomo_appearance</th>\n",
       "      <th>abdomo_protein</th>\n",
       "      <th>outcome</th>\n",
       "      <th>lesion_1</th>\n",
       "      <th>lesion_2</th>\n",
       "      <th>lesion_3</th>\n",
       "      <th>surgery</th>\n",
       "      <th>young</th>\n",
       "      <th>surgical_lesion</th>\n",
       "      <th>cp_data</th>\n",
       "    </tr>\n",
       "  </thead>\n",
       "  <tbody>\n",
       "    <tr>\n",
       "      <th>0</th>\n",
       "      <td>38.5</td>\n",
       "      <td>66.0</td>\n",
       "      <td>28.0</td>\n",
       "      <td>cool</td>\n",
       "      <td>reduced</td>\n",
       "      <td>NaN</td>\n",
       "      <td>more_3_sec</td>\n",
       "      <td>extreme_pain</td>\n",
       "      <td>absent</td>\n",
       "      <td>severe</td>\n",
       "      <td>...</td>\n",
       "      <td>NaN</td>\n",
       "      <td>NaN</td>\n",
       "      <td>died</td>\n",
       "      <td>11300</td>\n",
       "      <td>0</td>\n",
       "      <td>0</td>\n",
       "      <td>0</td>\n",
       "      <td>0</td>\n",
       "      <td>0</td>\n",
       "      <td>0</td>\n",
       "    </tr>\n",
       "    <tr>\n",
       "      <th>1</th>\n",
       "      <td>39.2</td>\n",
       "      <td>88.0</td>\n",
       "      <td>20.0</td>\n",
       "      <td>NaN</td>\n",
       "      <td>NaN</td>\n",
       "      <td>pale_cyanotic</td>\n",
       "      <td>less_3_sec</td>\n",
       "      <td>mild_pain</td>\n",
       "      <td>absent</td>\n",
       "      <td>slight</td>\n",
       "      <td>...</td>\n",
       "      <td>cloudy</td>\n",
       "      <td>2.0</td>\n",
       "      <td>euthanized</td>\n",
       "      <td>2208</td>\n",
       "      <td>0</td>\n",
       "      <td>0</td>\n",
       "      <td>1</td>\n",
       "      <td>0</td>\n",
       "      <td>0</td>\n",
       "      <td>0</td>\n",
       "    </tr>\n",
       "    <tr>\n",
       "      <th>2</th>\n",
       "      <td>38.3</td>\n",
       "      <td>40.0</td>\n",
       "      <td>24.0</td>\n",
       "      <td>normal</td>\n",
       "      <td>normal</td>\n",
       "      <td>pale_pink</td>\n",
       "      <td>less_3_sec</td>\n",
       "      <td>mild_pain</td>\n",
       "      <td>hypomotile</td>\n",
       "      <td>none</td>\n",
       "      <td>...</td>\n",
       "      <td>NaN</td>\n",
       "      <td>NaN</td>\n",
       "      <td>lived</td>\n",
       "      <td>0</td>\n",
       "      <td>0</td>\n",
       "      <td>0</td>\n",
       "      <td>0</td>\n",
       "      <td>0</td>\n",
       "      <td>0</td>\n",
       "      <td>1</td>\n",
       "    </tr>\n",
       "    <tr>\n",
       "      <th>3</th>\n",
       "      <td>39.1</td>\n",
       "      <td>164.0</td>\n",
       "      <td>84.0</td>\n",
       "      <td>cold</td>\n",
       "      <td>normal</td>\n",
       "      <td>dark_cyanotic</td>\n",
       "      <td>more_3_sec</td>\n",
       "      <td>depressed</td>\n",
       "      <td>absent</td>\n",
       "      <td>severe</td>\n",
       "      <td>...</td>\n",
       "      <td>serosanguious</td>\n",
       "      <td>5.3</td>\n",
       "      <td>died</td>\n",
       "      <td>2208</td>\n",
       "      <td>0</td>\n",
       "      <td>0</td>\n",
       "      <td>1</td>\n",
       "      <td>1</td>\n",
       "      <td>1</td>\n",
       "      <td>1</td>\n",
       "    </tr>\n",
       "    <tr>\n",
       "      <th>4</th>\n",
       "      <td>37.3</td>\n",
       "      <td>104.0</td>\n",
       "      <td>35.0</td>\n",
       "      <td>NaN</td>\n",
       "      <td>NaN</td>\n",
       "      <td>dark_cyanotic</td>\n",
       "      <td>more_3_sec</td>\n",
       "      <td>NaN</td>\n",
       "      <td>NaN</td>\n",
       "      <td>NaN</td>\n",
       "      <td>...</td>\n",
       "      <td>NaN</td>\n",
       "      <td>NaN</td>\n",
       "      <td>died</td>\n",
       "      <td>4300</td>\n",
       "      <td>0</td>\n",
       "      <td>0</td>\n",
       "      <td>0</td>\n",
       "      <td>0</td>\n",
       "      <td>0</td>\n",
       "      <td>0</td>\n",
       "    </tr>\n",
       "  </tbody>\n",
       "</table>\n",
       "<p>5 rows × 27 columns</p>\n",
       "</div>"
      ],
      "text/plain": [
       "   rectal_temp  pulse  respiratory_rate temp_of_extremities peripheral_pulse  \\\n",
       "0         38.5   66.0              28.0                cool          reduced   \n",
       "1         39.2   88.0              20.0                 NaN              NaN   \n",
       "2         38.3   40.0              24.0              normal           normal   \n",
       "3         39.1  164.0              84.0                cold           normal   \n",
       "4         37.3  104.0              35.0                 NaN              NaN   \n",
       "\n",
       "  mucous_membrane capillary_refill_time          pain peristalsis  \\\n",
       "0             NaN            more_3_sec  extreme_pain      absent   \n",
       "1   pale_cyanotic            less_3_sec     mild_pain      absent   \n",
       "2       pale_pink            less_3_sec     mild_pain  hypomotile   \n",
       "3   dark_cyanotic            more_3_sec     depressed      absent   \n",
       "4   dark_cyanotic            more_3_sec           NaN         NaN   \n",
       "\n",
       "  abdominal_distention   ...   abdomo_appearance abdomo_protein     outcome  \\\n",
       "0               severe   ...                 NaN            NaN        died   \n",
       "1               slight   ...              cloudy            2.0  euthanized   \n",
       "2                 none   ...                 NaN            NaN       lived   \n",
       "3               severe   ...       serosanguious            5.3        died   \n",
       "4                  NaN   ...                 NaN            NaN        died   \n",
       "\n",
       "  lesion_1 lesion_2  lesion_3  surgery young  surgical_lesion cp_data  \n",
       "0    11300        0         0        0     0                0       0  \n",
       "1     2208        0         0        1     0                0       0  \n",
       "2        0        0         0        0     0                0       1  \n",
       "3     2208        0         0        1     1                1       1  \n",
       "4     4300        0         0        0     0                0       0  \n",
       "\n",
       "[5 rows x 27 columns]"
      ]
     },
     "execution_count": 27,
     "metadata": {},
     "output_type": "execute_result"
    }
   ],
   "source": [
    "df.head()"
   ]
  },
  {
   "cell_type": "code",
   "execution_count": 28,
   "metadata": {},
   "outputs": [
    {
     "data": {
      "text/plain": [
       "38.168619246861923"
      ]
     },
     "execution_count": 28,
     "metadata": {},
     "output_type": "execute_result"
    }
   ],
   "source": [
    "df['rectal_temp'].mean()"
   ]
  },
  {
   "cell_type": "code",
   "execution_count": 29,
   "metadata": {},
   "outputs": [],
   "source": [
    "df['rectal_temp'] = imputer.fit_transform(df[['rectal_temp']])"
   ]
  },
  {
   "cell_type": "code",
   "execution_count": 30,
   "metadata": {},
   "outputs": [
    {
     "data": {
      "text/plain": [
       "<matplotlib.axes._subplots.AxesSubplot at 0x7fb4ab384080>"
      ]
     },
     "execution_count": 30,
     "metadata": {},
     "output_type": "execute_result"
    },
    {
     "data": {
      "image/png": "[encoded data removed]",
      "text/plain": [
       "<matplotlib.figure.Figure at 0x7fb4ab3641d0>"
      ]
     },
     "metadata": {
      "needs_background": "light"
     },
     "output_type": "display_data"
    }
   ],
   "source": [
    "sns.heatmap(df.isnull())\n",
    "#The heat map shows that there are no missing values in 'rectal_temp'"
   ]
  },
  {
   "cell_type": "code",
   "execution_count": 31,
   "metadata": {},
   "outputs": [
    {
     "data": {
      "text/plain": [
       "30.460580912863069"
      ]
     },
     "execution_count": 31,
     "metadata": {},
     "output_type": "execute_result"
    }
   ],
   "source": [
    "df['respiratory_rate'].mean()"
   ]
  },
  {
   "cell_type": "code",
   "execution_count": 32,
   "metadata": {},
   "outputs": [],
   "source": [
    "df['respiratory_rate'] = imputer.fit_transform(df[['respiratory_rate']])\n"
   ]
  },
  {
   "cell_type": "code",
   "execution_count": 33,
   "metadata": {},
   "outputs": [
    {
     "data": {
      "text/plain": [
       "<matplotlib.axes._subplots.AxesSubplot at 0x7fb4ab306198>"
      ]
     },
     "execution_count": 33,
     "metadata": {},
     "output_type": "execute_result"
    },
    {
     "data": {
      "image/png": "[encoded data removed]",
      "text/plain": [
       "<matplotlib.figure.Figure at 0x7fb4ab2724a8>"
      ]
     },
     "metadata": {
      "needs_background": "light"
     },
     "output_type": "display_data"
    }
   ],
   "source": [
    "sns.heatmap(df.isnull())"
   ]
  },
  {
   "cell_type": "code",
   "execution_count": 34,
   "metadata": {},
   "outputs": [
    {
     "data": {
      "text/plain": [
       "72.0"
      ]
     },
     "execution_count": 34,
     "metadata": {},
     "output_type": "execute_result"
    }
   ],
   "source": [
    "df['pulse'].mean()\n"
   ]
  },
  {
   "cell_type": "code",
   "execution_count": 35,
   "metadata": {},
   "outputs": [],
   "source": [
    "df['pulse'] = imputer.fit_transform(df[['pulse']])\n"
   ]
  },
  {
   "cell_type": "code",
   "execution_count": 36,
   "metadata": {},
   "outputs": [
    {
     "data": {
      "text/plain": [
       "<matplotlib.axes._subplots.AxesSubplot at 0x7fb4ab19d240>"
      ]
     },
     "execution_count": 36,
     "metadata": {},
     "output_type": "execute_result"
    },
    {
     "data": {
      "image/png": "[encoded data removed]",
      "text/plain": [
       "<matplotlib.figure.Figure at 0x7fb4ab1ad780>"
      ]
     },
     "metadata": {
      "needs_background": "light"
     },
     "output_type": "display_data"
    }
   ],
   "source": [
    "sns.heatmap(df.isnull())"
   ]
  },
  {
   "cell_type": "code",
   "execution_count": 37,
   "metadata": {
    "scrolled": true
   },
   "outputs": [
    {
     "data": {
      "text/html": [
       "<div>\n",
       "<style scoped>\n",
       "    .dataframe tbody tr th:only-of-type {\n",
       "        vertical-align: middle;\n",
       "    }\n",
       "\n",
       "    .dataframe tbody tr th {\n",
       "        vertical-align: top;\n",
       "    }\n",
       "\n",
       "    .dataframe thead th {\n",
       "        text-align: right;\n",
       "    }\n",
       "</style>\n",
       "<table border=\"1\" class=\"dataframe\">\n",
       "  <thead>\n",
       "    <tr style=\"text-align: right;\">\n",
       "      <th></th>\n",
       "      <th>rectal_temp</th>\n",
       "      <th>pulse</th>\n",
       "      <th>respiratory_rate</th>\n",
       "      <th>temp_of_extremities</th>\n",
       "      <th>peripheral_pulse</th>\n",
       "      <th>mucous_membrane</th>\n",
       "      <th>capillary_refill_time</th>\n",
       "      <th>pain</th>\n",
       "      <th>peristalsis</th>\n",
       "      <th>abdominal_distention</th>\n",
       "      <th>...</th>\n",
       "      <th>abdomo_appearance</th>\n",
       "      <th>abdomo_protein</th>\n",
       "      <th>outcome</th>\n",
       "      <th>lesion_1</th>\n",
       "      <th>lesion_2</th>\n",
       "      <th>lesion_3</th>\n",
       "      <th>surgery</th>\n",
       "      <th>young</th>\n",
       "      <th>surgical_lesion</th>\n",
       "      <th>cp_data</th>\n",
       "    </tr>\n",
       "  </thead>\n",
       "  <tbody>\n",
       "    <tr>\n",
       "      <th>0</th>\n",
       "      <td>38.500000</td>\n",
       "      <td>66.0</td>\n",
       "      <td>28.000000</td>\n",
       "      <td>cool</td>\n",
       "      <td>reduced</td>\n",
       "      <td>NaN</td>\n",
       "      <td>more_3_sec</td>\n",
       "      <td>extreme_pain</td>\n",
       "      <td>absent</td>\n",
       "      <td>severe</td>\n",
       "      <td>...</td>\n",
       "      <td>NaN</td>\n",
       "      <td>NaN</td>\n",
       "      <td>died</td>\n",
       "      <td>11300</td>\n",
       "      <td>0</td>\n",
       "      <td>0</td>\n",
       "      <td>0</td>\n",
       "      <td>0</td>\n",
       "      <td>0</td>\n",
       "      <td>0</td>\n",
       "    </tr>\n",
       "    <tr>\n",
       "      <th>1</th>\n",
       "      <td>39.200000</td>\n",
       "      <td>88.0</td>\n",
       "      <td>20.000000</td>\n",
       "      <td>NaN</td>\n",
       "      <td>NaN</td>\n",
       "      <td>pale_cyanotic</td>\n",
       "      <td>less_3_sec</td>\n",
       "      <td>mild_pain</td>\n",
       "      <td>absent</td>\n",
       "      <td>slight</td>\n",
       "      <td>...</td>\n",
       "      <td>cloudy</td>\n",
       "      <td>2.0</td>\n",
       "      <td>euthanized</td>\n",
       "      <td>2208</td>\n",
       "      <td>0</td>\n",
       "      <td>0</td>\n",
       "      <td>1</td>\n",
       "      <td>0</td>\n",
       "      <td>0</td>\n",
       "      <td>0</td>\n",
       "    </tr>\n",
       "    <tr>\n",
       "      <th>2</th>\n",
       "      <td>38.300000</td>\n",
       "      <td>40.0</td>\n",
       "      <td>24.000000</td>\n",
       "      <td>normal</td>\n",
       "      <td>normal</td>\n",
       "      <td>pale_pink</td>\n",
       "      <td>less_3_sec</td>\n",
       "      <td>mild_pain</td>\n",
       "      <td>hypomotile</td>\n",
       "      <td>none</td>\n",
       "      <td>...</td>\n",
       "      <td>NaN</td>\n",
       "      <td>NaN</td>\n",
       "      <td>lived</td>\n",
       "      <td>0</td>\n",
       "      <td>0</td>\n",
       "      <td>0</td>\n",
       "      <td>0</td>\n",
       "      <td>0</td>\n",
       "      <td>0</td>\n",
       "      <td>1</td>\n",
       "    </tr>\n",
       "    <tr>\n",
       "      <th>3</th>\n",
       "      <td>39.100000</td>\n",
       "      <td>164.0</td>\n",
       "      <td>84.000000</td>\n",
       "      <td>cold</td>\n",
       "      <td>normal</td>\n",
       "      <td>dark_cyanotic</td>\n",
       "      <td>more_3_sec</td>\n",
       "      <td>depressed</td>\n",
       "      <td>absent</td>\n",
       "      <td>severe</td>\n",
       "      <td>...</td>\n",
       "      <td>serosanguious</td>\n",
       "      <td>5.3</td>\n",
       "      <td>died</td>\n",
       "      <td>2208</td>\n",
       "      <td>0</td>\n",
       "      <td>0</td>\n",
       "      <td>1</td>\n",
       "      <td>1</td>\n",
       "      <td>1</td>\n",
       "      <td>1</td>\n",
       "    </tr>\n",
       "    <tr>\n",
       "      <th>4</th>\n",
       "      <td>37.300000</td>\n",
       "      <td>104.0</td>\n",
       "      <td>35.000000</td>\n",
       "      <td>NaN</td>\n",
       "      <td>NaN</td>\n",
       "      <td>dark_cyanotic</td>\n",
       "      <td>more_3_sec</td>\n",
       "      <td>NaN</td>\n",
       "      <td>NaN</td>\n",
       "      <td>NaN</td>\n",
       "      <td>...</td>\n",
       "      <td>NaN</td>\n",
       "      <td>NaN</td>\n",
       "      <td>died</td>\n",
       "      <td>4300</td>\n",
       "      <td>0</td>\n",
       "      <td>0</td>\n",
       "      <td>0</td>\n",
       "      <td>0</td>\n",
       "      <td>0</td>\n",
       "      <td>0</td>\n",
       "    </tr>\n",
       "    <tr>\n",
       "      <th>5</th>\n",
       "      <td>38.168619</td>\n",
       "      <td>72.0</td>\n",
       "      <td>30.460581</td>\n",
       "      <td>warm</td>\n",
       "      <td>normal</td>\n",
       "      <td>pale_pink</td>\n",
       "      <td>less_3_sec</td>\n",
       "      <td>depressed</td>\n",
       "      <td>hypomotile</td>\n",
       "      <td>slight</td>\n",
       "      <td>...</td>\n",
       "      <td>NaN</td>\n",
       "      <td>NaN</td>\n",
       "      <td>lived</td>\n",
       "      <td>0</td>\n",
       "      <td>0</td>\n",
       "      <td>0</td>\n",
       "      <td>0</td>\n",
       "      <td>0</td>\n",
       "      <td>0</td>\n",
       "      <td>0</td>\n",
       "    </tr>\n",
       "    <tr>\n",
       "      <th>6</th>\n",
       "      <td>37.900000</td>\n",
       "      <td>48.0</td>\n",
       "      <td>16.000000</td>\n",
       "      <td>normal</td>\n",
       "      <td>normal</td>\n",
       "      <td>normal_pink</td>\n",
       "      <td>less_3_sec</td>\n",
       "      <td>mild_pain</td>\n",
       "      <td>hypomotile</td>\n",
       "      <td>moderate</td>\n",
       "      <td>...</td>\n",
       "      <td>NaN</td>\n",
       "      <td>NaN</td>\n",
       "      <td>lived</td>\n",
       "      <td>3124</td>\n",
       "      <td>0</td>\n",
       "      <td>0</td>\n",
       "      <td>1</td>\n",
       "      <td>0</td>\n",
       "      <td>1</td>\n",
       "      <td>0</td>\n",
       "    </tr>\n",
       "    <tr>\n",
       "      <th>7</th>\n",
       "      <td>38.168619</td>\n",
       "      <td>60.0</td>\n",
       "      <td>30.460581</td>\n",
       "      <td>cool</td>\n",
       "      <td>NaN</td>\n",
       "      <td>NaN</td>\n",
       "      <td>less_3_sec</td>\n",
       "      <td>NaN</td>\n",
       "      <td>absent</td>\n",
       "      <td>slight</td>\n",
       "      <td>...</td>\n",
       "      <td>NaN</td>\n",
       "      <td>NaN</td>\n",
       "      <td>died</td>\n",
       "      <td>2208</td>\n",
       "      <td>0</td>\n",
       "      <td>0</td>\n",
       "      <td>1</td>\n",
       "      <td>0</td>\n",
       "      <td>1</td>\n",
       "      <td>0</td>\n",
       "    </tr>\n",
       "    <tr>\n",
       "      <th>8</th>\n",
       "      <td>38.168619</td>\n",
       "      <td>80.0</td>\n",
       "      <td>36.000000</td>\n",
       "      <td>cool</td>\n",
       "      <td>absent</td>\n",
       "      <td>pale_pink</td>\n",
       "      <td>less_3_sec</td>\n",
       "      <td>severe_pain</td>\n",
       "      <td>absent</td>\n",
       "      <td>severe</td>\n",
       "      <td>...</td>\n",
       "      <td>NaN</td>\n",
       "      <td>NaN</td>\n",
       "      <td>euthanized</td>\n",
       "      <td>3205</td>\n",
       "      <td>0</td>\n",
       "      <td>0</td>\n",
       "      <td>0</td>\n",
       "      <td>0</td>\n",
       "      <td>1</td>\n",
       "      <td>0</td>\n",
       "    </tr>\n",
       "    <tr>\n",
       "      <th>9</th>\n",
       "      <td>38.300000</td>\n",
       "      <td>90.0</td>\n",
       "      <td>30.460581</td>\n",
       "      <td>normal</td>\n",
       "      <td>NaN</td>\n",
       "      <td>normal_pink</td>\n",
       "      <td>less_3_sec</td>\n",
       "      <td>extreme_pain</td>\n",
       "      <td>hypomotile</td>\n",
       "      <td>none</td>\n",
       "      <td>...</td>\n",
       "      <td>clear</td>\n",
       "      <td>2.2</td>\n",
       "      <td>lived</td>\n",
       "      <td>0</td>\n",
       "      <td>0</td>\n",
       "      <td>0</td>\n",
       "      <td>0</td>\n",
       "      <td>1</td>\n",
       "      <td>0</td>\n",
       "      <td>1</td>\n",
       "    </tr>\n",
       "  </tbody>\n",
       "</table>\n",
       "<p>10 rows × 27 columns</p>\n",
       "</div>"
      ],
      "text/plain": [
       "   rectal_temp  pulse  respiratory_rate temp_of_extremities peripheral_pulse  \\\n",
       "0    38.500000   66.0         28.000000                cool          reduced   \n",
       "1    39.200000   88.0         20.000000                 NaN              NaN   \n",
       "2    38.300000   40.0         24.000000              normal           normal   \n",
       "3    39.100000  164.0         84.000000                cold           normal   \n",
       "4    37.300000  104.0         35.000000                 NaN              NaN   \n",
       "5    38.168619   72.0         30.460581                warm           normal   \n",
       "6    37.900000   48.0         16.000000              normal           normal   \n",
       "7    38.168619   60.0         30.460581                cool              NaN   \n",
       "8    38.168619   80.0         36.000000                cool           absent   \n",
       "9    38.300000   90.0         30.460581              normal              NaN   \n",
       "\n",
       "  mucous_membrane capillary_refill_time          pain peristalsis  \\\n",
       "0             NaN            more_3_sec  extreme_pain      absent   \n",
       "1   pale_cyanotic            less_3_sec     mild_pain      absent   \n",
       "2       pale_pink            less_3_sec     mild_pain  hypomotile   \n",
       "3   dark_cyanotic            more_3_sec     depressed      absent   \n",
       "4   dark_cyanotic            more_3_sec           NaN         NaN   \n",
       "5       pale_pink            less_3_sec     depressed  hypomotile   \n",
       "6     normal_pink            less_3_sec     mild_pain  hypomotile   \n",
       "7             NaN            less_3_sec           NaN      absent   \n",
       "8       pale_pink            less_3_sec   severe_pain      absent   \n",
       "9     normal_pink            less_3_sec  extreme_pain  hypomotile   \n",
       "\n",
       "  abdominal_distention   ...   abdomo_appearance abdomo_protein     outcome  \\\n",
       "0               severe   ...                 NaN            NaN        died   \n",
       "1               slight   ...              cloudy            2.0  euthanized   \n",
       "2                 none   ...                 NaN            NaN       lived   \n",
       "3               severe   ...       serosanguious            5.3        died   \n",
       "4                  NaN   ...                 NaN            NaN        died   \n",
       "5               slight   ...                 NaN            NaN       lived   \n",
       "6             moderate   ...                 NaN            NaN       lived   \n",
       "7               slight   ...                 NaN            NaN        died   \n",
       "8               severe   ...                 NaN            NaN  euthanized   \n",
       "9                 none   ...               clear            2.2       lived   \n",
       "\n",
       "  lesion_1 lesion_2  lesion_3  surgery young  surgical_lesion cp_data  \n",
       "0    11300        0         0        0     0                0       0  \n",
       "1     2208        0         0        1     0                0       0  \n",
       "2        0        0         0        0     0                0       1  \n",
       "3     2208        0         0        1     1                1       1  \n",
       "4     4300        0         0        0     0                0       0  \n",
       "5        0        0         0        0     0                0       0  \n",
       "6     3124        0         0        1     0                1       0  \n",
       "7     2208        0         0        1     0                1       0  \n",
       "8     3205        0         0        0     0                1       0  \n",
       "9        0        0         0        0     1                0       1  \n",
       "\n",
       "[10 rows x 27 columns]"
      ]
     },
     "execution_count": 37,
     "metadata": {},
     "output_type": "execute_result"
    }
   ],
   "source": [
    "df.head(10)"
   ]
  },
  {
   "cell_type": "code",
   "execution_count": 38,
   "metadata": {},
   "outputs": [
    {
     "data": {
      "text/plain": [
       "<matplotlib.axes._subplots.AxesSubplot at 0x7fb4ab239d30>"
      ]
     },
     "execution_count": 38,
     "metadata": {},
     "output_type": "execute_result"
    },
    {
     "data": {
      "image/png": "[encoded data removed]",
      "text/plain": [
       "<matplotlib.figure.Figure at 0x7fb4ab1bf630>"
      ]
     },
     "metadata": {
      "needs_background": "light"
     },
     "output_type": "display_data"
    }
   ],
   "source": [
    "sns.countplot(df['nasogastric_reflux_ph'].isnull())"
   ]
  },
  {
   "cell_type": "code",
   "execution_count": 39,
   "metadata": {},
   "outputs": [],
   "source": [
    "df.drop('nasogastric_reflux_ph',inplace=True,axis = 1)\n",
    "#deleted 'nasogastric_reflux_ph' due to a lot of nan values"
   ]
  },
  {
   "cell_type": "code",
   "execution_count": 40,
   "metadata": {},
   "outputs": [
    {
     "data": {
      "text/plain": [
       "<matplotlib.axes._subplots.AxesSubplot at 0x7fb4ab0b4898>"
      ]
     },
     "execution_count": 40,
     "metadata": {},
     "output_type": "execute_result"
    },
    {
     "data": {
      "image/png": "[encoded data removed]",
      "text/plain": [
       "<matplotlib.figure.Figure at 0x7fb4ab10d2e8>"
      ]
     },
     "metadata": {
      "needs_background": "light"
     },
     "output_type": "display_data"
    }
   ],
   "source": [
    "sns.heatmap(df.isnull())"
   ]
  },
  {
   "cell_type": "code",
   "execution_count": 41,
   "metadata": {},
   "outputs": [
    {
     "data": {
      "text/plain": [
       "<matplotlib.axes._subplots.AxesSubplot at 0x7fb4aaf94860>"
      ]
     },
     "execution_count": 41,
     "metadata": {},
     "output_type": "execute_result"
    },
    {
     "data": {
      "image/png": "[encoded data removed]",
      "text/plain": [
       "<matplotlib.figure.Figure at 0x7fb4ab02a7f0>"
      ]
     },
     "metadata": {
      "needs_background": "light"
     },
     "output_type": "display_data"
    }
   ],
   "source": [
    "sns.countplot(df['abdomo_protein'].isnull())"
   ]
  },
  {
   "cell_type": "code",
   "execution_count": 42,
   "metadata": {},
   "outputs": [],
   "source": [
    "df.drop('abdomo_protein',inplace=True,axis = 1)\n",
    "#deleted abdomo_protein cause of lack of values"
   ]
  },
  {
   "cell_type": "code",
   "execution_count": 43,
   "metadata": {},
   "outputs": [
    {
     "data": {
      "text/html": [
       "<div>\n",
       "<style scoped>\n",
       "    .dataframe tbody tr th:only-of-type {\n",
       "        vertical-align: middle;\n",
       "    }\n",
       "\n",
       "    .dataframe tbody tr th {\n",
       "        vertical-align: top;\n",
       "    }\n",
       "\n",
       "    .dataframe thead th {\n",
       "        text-align: right;\n",
       "    }\n",
       "</style>\n",
       "<table border=\"1\" class=\"dataframe\">\n",
       "  <thead>\n",
       "    <tr style=\"text-align: right;\">\n",
       "      <th></th>\n",
       "      <th>rectal_temp</th>\n",
       "      <th>pulse</th>\n",
       "      <th>respiratory_rate</th>\n",
       "      <th>temp_of_extremities</th>\n",
       "      <th>peripheral_pulse</th>\n",
       "      <th>mucous_membrane</th>\n",
       "      <th>capillary_refill_time</th>\n",
       "      <th>pain</th>\n",
       "      <th>peristalsis</th>\n",
       "      <th>abdominal_distention</th>\n",
       "      <th>...</th>\n",
       "      <th>total_protein</th>\n",
       "      <th>abdomo_appearance</th>\n",
       "      <th>outcome</th>\n",
       "      <th>lesion_1</th>\n",
       "      <th>lesion_2</th>\n",
       "      <th>lesion_3</th>\n",
       "      <th>surgery</th>\n",
       "      <th>young</th>\n",
       "      <th>surgical_lesion</th>\n",
       "      <th>cp_data</th>\n",
       "    </tr>\n",
       "  </thead>\n",
       "  <tbody>\n",
       "    <tr>\n",
       "      <th>0</th>\n",
       "      <td>38.5</td>\n",
       "      <td>66.0</td>\n",
       "      <td>28.0</td>\n",
       "      <td>cool</td>\n",
       "      <td>reduced</td>\n",
       "      <td>NaN</td>\n",
       "      <td>more_3_sec</td>\n",
       "      <td>extreme_pain</td>\n",
       "      <td>absent</td>\n",
       "      <td>severe</td>\n",
       "      <td>...</td>\n",
       "      <td>8.4</td>\n",
       "      <td>NaN</td>\n",
       "      <td>died</td>\n",
       "      <td>11300</td>\n",
       "      <td>0</td>\n",
       "      <td>0</td>\n",
       "      <td>0</td>\n",
       "      <td>0</td>\n",
       "      <td>0</td>\n",
       "      <td>0</td>\n",
       "    </tr>\n",
       "    <tr>\n",
       "      <th>1</th>\n",
       "      <td>39.2</td>\n",
       "      <td>88.0</td>\n",
       "      <td>20.0</td>\n",
       "      <td>NaN</td>\n",
       "      <td>NaN</td>\n",
       "      <td>pale_cyanotic</td>\n",
       "      <td>less_3_sec</td>\n",
       "      <td>mild_pain</td>\n",
       "      <td>absent</td>\n",
       "      <td>slight</td>\n",
       "      <td>...</td>\n",
       "      <td>85.0</td>\n",
       "      <td>cloudy</td>\n",
       "      <td>euthanized</td>\n",
       "      <td>2208</td>\n",
       "      <td>0</td>\n",
       "      <td>0</td>\n",
       "      <td>1</td>\n",
       "      <td>0</td>\n",
       "      <td>0</td>\n",
       "      <td>0</td>\n",
       "    </tr>\n",
       "    <tr>\n",
       "      <th>2</th>\n",
       "      <td>38.3</td>\n",
       "      <td>40.0</td>\n",
       "      <td>24.0</td>\n",
       "      <td>normal</td>\n",
       "      <td>normal</td>\n",
       "      <td>pale_pink</td>\n",
       "      <td>less_3_sec</td>\n",
       "      <td>mild_pain</td>\n",
       "      <td>hypomotile</td>\n",
       "      <td>none</td>\n",
       "      <td>...</td>\n",
       "      <td>6.7</td>\n",
       "      <td>NaN</td>\n",
       "      <td>lived</td>\n",
       "      <td>0</td>\n",
       "      <td>0</td>\n",
       "      <td>0</td>\n",
       "      <td>0</td>\n",
       "      <td>0</td>\n",
       "      <td>0</td>\n",
       "      <td>1</td>\n",
       "    </tr>\n",
       "    <tr>\n",
       "      <th>3</th>\n",
       "      <td>39.1</td>\n",
       "      <td>164.0</td>\n",
       "      <td>84.0</td>\n",
       "      <td>cold</td>\n",
       "      <td>normal</td>\n",
       "      <td>dark_cyanotic</td>\n",
       "      <td>more_3_sec</td>\n",
       "      <td>depressed</td>\n",
       "      <td>absent</td>\n",
       "      <td>severe</td>\n",
       "      <td>...</td>\n",
       "      <td>7.2</td>\n",
       "      <td>serosanguious</td>\n",
       "      <td>died</td>\n",
       "      <td>2208</td>\n",
       "      <td>0</td>\n",
       "      <td>0</td>\n",
       "      <td>1</td>\n",
       "      <td>1</td>\n",
       "      <td>1</td>\n",
       "      <td>1</td>\n",
       "    </tr>\n",
       "    <tr>\n",
       "      <th>4</th>\n",
       "      <td>37.3</td>\n",
       "      <td>104.0</td>\n",
       "      <td>35.0</td>\n",
       "      <td>NaN</td>\n",
       "      <td>NaN</td>\n",
       "      <td>dark_cyanotic</td>\n",
       "      <td>more_3_sec</td>\n",
       "      <td>NaN</td>\n",
       "      <td>NaN</td>\n",
       "      <td>NaN</td>\n",
       "      <td>...</td>\n",
       "      <td>7.4</td>\n",
       "      <td>NaN</td>\n",
       "      <td>died</td>\n",
       "      <td>4300</td>\n",
       "      <td>0</td>\n",
       "      <td>0</td>\n",
       "      <td>0</td>\n",
       "      <td>0</td>\n",
       "      <td>0</td>\n",
       "      <td>0</td>\n",
       "    </tr>\n",
       "  </tbody>\n",
       "</table>\n",
       "<p>5 rows × 25 columns</p>\n",
       "</div>"
      ],
      "text/plain": [
       "   rectal_temp  pulse  respiratory_rate temp_of_extremities peripheral_pulse  \\\n",
       "0         38.5   66.0              28.0                cool          reduced   \n",
       "1         39.2   88.0              20.0                 NaN              NaN   \n",
       "2         38.3   40.0              24.0              normal           normal   \n",
       "3         39.1  164.0              84.0                cold           normal   \n",
       "4         37.3  104.0              35.0                 NaN              NaN   \n",
       "\n",
       "  mucous_membrane capillary_refill_time          pain peristalsis  \\\n",
       "0             NaN            more_3_sec  extreme_pain      absent   \n",
       "1   pale_cyanotic            less_3_sec     mild_pain      absent   \n",
       "2       pale_pink            less_3_sec     mild_pain  hypomotile   \n",
       "3   dark_cyanotic            more_3_sec     depressed      absent   \n",
       "4   dark_cyanotic            more_3_sec           NaN         NaN   \n",
       "\n",
       "  abdominal_distention   ...    total_protein abdomo_appearance     outcome  \\\n",
       "0               severe   ...              8.4               NaN        died   \n",
       "1               slight   ...             85.0            cloudy  euthanized   \n",
       "2                 none   ...              6.7               NaN       lived   \n",
       "3               severe   ...              7.2     serosanguious        died   \n",
       "4                  NaN   ...              7.4               NaN        died   \n",
       "\n",
       "  lesion_1  lesion_2  lesion_3 surgery young  surgical_lesion  cp_data  \n",
       "0    11300         0         0       0     0                0        0  \n",
       "1     2208         0         0       1     0                0        0  \n",
       "2        0         0         0       0     0                0        1  \n",
       "3     2208         0         0       1     1                1        1  \n",
       "4     4300         0         0       0     0                0        0  \n",
       "\n",
       "[5 rows x 25 columns]"
      ]
     },
     "execution_count": 43,
     "metadata": {},
     "output_type": "execute_result"
    }
   ],
   "source": [
    "df.head()"
   ]
  },
  {
   "cell_type": "code",
   "execution_count": 44,
   "metadata": {},
   "outputs": [
    {
     "data": {
      "text/plain": [
       "<matplotlib.axes._subplots.AxesSubplot at 0x7fb4aaee9cc0>"
      ]
     },
     "execution_count": 44,
     "metadata": {},
     "output_type": "execute_result"
    },
    {
     "data": {
      "image/png": "[encoded data removed]",
      "text/plain": [
       "<matplotlib.figure.Figure at 0x7fb4aaf7dd68>"
      ]
     },
     "metadata": {
      "needs_background": "light"
     },
     "output_type": "display_data"
    }
   ],
   "source": [
    "sns.countplot(df['abdomo_appearance'].isnull())"
   ]
  },
  {
   "cell_type": "code",
   "execution_count": 45,
   "metadata": {},
   "outputs": [],
   "source": [
    "df.drop('abdomo_appearance',inplace=True,axis = 1)"
   ]
  },
  {
   "cell_type": "code",
   "execution_count": 46,
   "metadata": {},
   "outputs": [
    {
     "data": {
      "text/html": [
       "<div>\n",
       "<style scoped>\n",
       "    .dataframe tbody tr th:only-of-type {\n",
       "        vertical-align: middle;\n",
       "    }\n",
       "\n",
       "    .dataframe tbody tr th {\n",
       "        vertical-align: top;\n",
       "    }\n",
       "\n",
       "    .dataframe thead th {\n",
       "        text-align: right;\n",
       "    }\n",
       "</style>\n",
       "<table border=\"1\" class=\"dataframe\">\n",
       "  <thead>\n",
       "    <tr style=\"text-align: right;\">\n",
       "      <th></th>\n",
       "      <th>rectal_temp</th>\n",
       "      <th>pulse</th>\n",
       "      <th>respiratory_rate</th>\n",
       "      <th>temp_of_extremities</th>\n",
       "      <th>peripheral_pulse</th>\n",
       "      <th>mucous_membrane</th>\n",
       "      <th>capillary_refill_time</th>\n",
       "      <th>pain</th>\n",
       "      <th>peristalsis</th>\n",
       "      <th>abdominal_distention</th>\n",
       "      <th>...</th>\n",
       "      <th>packed_cell_volume</th>\n",
       "      <th>total_protein</th>\n",
       "      <th>outcome</th>\n",
       "      <th>lesion_1</th>\n",
       "      <th>lesion_2</th>\n",
       "      <th>lesion_3</th>\n",
       "      <th>surgery</th>\n",
       "      <th>young</th>\n",
       "      <th>surgical_lesion</th>\n",
       "      <th>cp_data</th>\n",
       "    </tr>\n",
       "  </thead>\n",
       "  <tbody>\n",
       "    <tr>\n",
       "      <th>0</th>\n",
       "      <td>38.500000</td>\n",
       "      <td>66.0</td>\n",
       "      <td>28.000000</td>\n",
       "      <td>cool</td>\n",
       "      <td>reduced</td>\n",
       "      <td>NaN</td>\n",
       "      <td>more_3_sec</td>\n",
       "      <td>extreme_pain</td>\n",
       "      <td>absent</td>\n",
       "      <td>severe</td>\n",
       "      <td>...</td>\n",
       "      <td>45.0</td>\n",
       "      <td>8.4</td>\n",
       "      <td>died</td>\n",
       "      <td>11300</td>\n",
       "      <td>0</td>\n",
       "      <td>0</td>\n",
       "      <td>0</td>\n",
       "      <td>0</td>\n",
       "      <td>0</td>\n",
       "      <td>0</td>\n",
       "    </tr>\n",
       "    <tr>\n",
       "      <th>1</th>\n",
       "      <td>39.200000</td>\n",
       "      <td>88.0</td>\n",
       "      <td>20.000000</td>\n",
       "      <td>NaN</td>\n",
       "      <td>NaN</td>\n",
       "      <td>pale_cyanotic</td>\n",
       "      <td>less_3_sec</td>\n",
       "      <td>mild_pain</td>\n",
       "      <td>absent</td>\n",
       "      <td>slight</td>\n",
       "      <td>...</td>\n",
       "      <td>50.0</td>\n",
       "      <td>85.0</td>\n",
       "      <td>euthanized</td>\n",
       "      <td>2208</td>\n",
       "      <td>0</td>\n",
       "      <td>0</td>\n",
       "      <td>1</td>\n",
       "      <td>0</td>\n",
       "      <td>0</td>\n",
       "      <td>0</td>\n",
       "    </tr>\n",
       "    <tr>\n",
       "      <th>2</th>\n",
       "      <td>38.300000</td>\n",
       "      <td>40.0</td>\n",
       "      <td>24.000000</td>\n",
       "      <td>normal</td>\n",
       "      <td>normal</td>\n",
       "      <td>pale_pink</td>\n",
       "      <td>less_3_sec</td>\n",
       "      <td>mild_pain</td>\n",
       "      <td>hypomotile</td>\n",
       "      <td>none</td>\n",
       "      <td>...</td>\n",
       "      <td>33.0</td>\n",
       "      <td>6.7</td>\n",
       "      <td>lived</td>\n",
       "      <td>0</td>\n",
       "      <td>0</td>\n",
       "      <td>0</td>\n",
       "      <td>0</td>\n",
       "      <td>0</td>\n",
       "      <td>0</td>\n",
       "      <td>1</td>\n",
       "    </tr>\n",
       "    <tr>\n",
       "      <th>3</th>\n",
       "      <td>39.100000</td>\n",
       "      <td>164.0</td>\n",
       "      <td>84.000000</td>\n",
       "      <td>cold</td>\n",
       "      <td>normal</td>\n",
       "      <td>dark_cyanotic</td>\n",
       "      <td>more_3_sec</td>\n",
       "      <td>depressed</td>\n",
       "      <td>absent</td>\n",
       "      <td>severe</td>\n",
       "      <td>...</td>\n",
       "      <td>48.0</td>\n",
       "      <td>7.2</td>\n",
       "      <td>died</td>\n",
       "      <td>2208</td>\n",
       "      <td>0</td>\n",
       "      <td>0</td>\n",
       "      <td>1</td>\n",
       "      <td>1</td>\n",
       "      <td>1</td>\n",
       "      <td>1</td>\n",
       "    </tr>\n",
       "    <tr>\n",
       "      <th>4</th>\n",
       "      <td>37.300000</td>\n",
       "      <td>104.0</td>\n",
       "      <td>35.000000</td>\n",
       "      <td>NaN</td>\n",
       "      <td>NaN</td>\n",
       "      <td>dark_cyanotic</td>\n",
       "      <td>more_3_sec</td>\n",
       "      <td>NaN</td>\n",
       "      <td>NaN</td>\n",
       "      <td>NaN</td>\n",
       "      <td>...</td>\n",
       "      <td>74.0</td>\n",
       "      <td>7.4</td>\n",
       "      <td>died</td>\n",
       "      <td>4300</td>\n",
       "      <td>0</td>\n",
       "      <td>0</td>\n",
       "      <td>0</td>\n",
       "      <td>0</td>\n",
       "      <td>0</td>\n",
       "      <td>0</td>\n",
       "    </tr>\n",
       "    <tr>\n",
       "      <th>5</th>\n",
       "      <td>38.168619</td>\n",
       "      <td>72.0</td>\n",
       "      <td>30.460581</td>\n",
       "      <td>warm</td>\n",
       "      <td>normal</td>\n",
       "      <td>pale_pink</td>\n",
       "      <td>less_3_sec</td>\n",
       "      <td>depressed</td>\n",
       "      <td>hypomotile</td>\n",
       "      <td>slight</td>\n",
       "      <td>...</td>\n",
       "      <td>NaN</td>\n",
       "      <td>NaN</td>\n",
       "      <td>lived</td>\n",
       "      <td>0</td>\n",
       "      <td>0</td>\n",
       "      <td>0</td>\n",
       "      <td>0</td>\n",
       "      <td>0</td>\n",
       "      <td>0</td>\n",
       "      <td>0</td>\n",
       "    </tr>\n",
       "    <tr>\n",
       "      <th>6</th>\n",
       "      <td>37.900000</td>\n",
       "      <td>48.0</td>\n",
       "      <td>16.000000</td>\n",
       "      <td>normal</td>\n",
       "      <td>normal</td>\n",
       "      <td>normal_pink</td>\n",
       "      <td>less_3_sec</td>\n",
       "      <td>mild_pain</td>\n",
       "      <td>hypomotile</td>\n",
       "      <td>moderate</td>\n",
       "      <td>...</td>\n",
       "      <td>37.0</td>\n",
       "      <td>7.0</td>\n",
       "      <td>lived</td>\n",
       "      <td>3124</td>\n",
       "      <td>0</td>\n",
       "      <td>0</td>\n",
       "      <td>1</td>\n",
       "      <td>0</td>\n",
       "      <td>1</td>\n",
       "      <td>0</td>\n",
       "    </tr>\n",
       "    <tr>\n",
       "      <th>7</th>\n",
       "      <td>38.168619</td>\n",
       "      <td>60.0</td>\n",
       "      <td>30.460581</td>\n",
       "      <td>cool</td>\n",
       "      <td>NaN</td>\n",
       "      <td>NaN</td>\n",
       "      <td>less_3_sec</td>\n",
       "      <td>NaN</td>\n",
       "      <td>absent</td>\n",
       "      <td>slight</td>\n",
       "      <td>...</td>\n",
       "      <td>44.0</td>\n",
       "      <td>8.3</td>\n",
       "      <td>died</td>\n",
       "      <td>2208</td>\n",
       "      <td>0</td>\n",
       "      <td>0</td>\n",
       "      <td>1</td>\n",
       "      <td>0</td>\n",
       "      <td>1</td>\n",
       "      <td>0</td>\n",
       "    </tr>\n",
       "    <tr>\n",
       "      <th>8</th>\n",
       "      <td>38.168619</td>\n",
       "      <td>80.0</td>\n",
       "      <td>36.000000</td>\n",
       "      <td>cool</td>\n",
       "      <td>absent</td>\n",
       "      <td>pale_pink</td>\n",
       "      <td>less_3_sec</td>\n",
       "      <td>severe_pain</td>\n",
       "      <td>absent</td>\n",
       "      <td>severe</td>\n",
       "      <td>...</td>\n",
       "      <td>38.0</td>\n",
       "      <td>6.2</td>\n",
       "      <td>euthanized</td>\n",
       "      <td>3205</td>\n",
       "      <td>0</td>\n",
       "      <td>0</td>\n",
       "      <td>0</td>\n",
       "      <td>0</td>\n",
       "      <td>1</td>\n",
       "      <td>0</td>\n",
       "    </tr>\n",
       "    <tr>\n",
       "      <th>9</th>\n",
       "      <td>38.300000</td>\n",
       "      <td>90.0</td>\n",
       "      <td>30.460581</td>\n",
       "      <td>normal</td>\n",
       "      <td>NaN</td>\n",
       "      <td>normal_pink</td>\n",
       "      <td>less_3_sec</td>\n",
       "      <td>extreme_pain</td>\n",
       "      <td>hypomotile</td>\n",
       "      <td>none</td>\n",
       "      <td>...</td>\n",
       "      <td>40.0</td>\n",
       "      <td>6.2</td>\n",
       "      <td>lived</td>\n",
       "      <td>0</td>\n",
       "      <td>0</td>\n",
       "      <td>0</td>\n",
       "      <td>0</td>\n",
       "      <td>1</td>\n",
       "      <td>0</td>\n",
       "      <td>1</td>\n",
       "    </tr>\n",
       "  </tbody>\n",
       "</table>\n",
       "<p>10 rows × 24 columns</p>\n",
       "</div>"
      ],
      "text/plain": [
       "   rectal_temp  pulse  respiratory_rate temp_of_extremities peripheral_pulse  \\\n",
       "0    38.500000   66.0         28.000000                cool          reduced   \n",
       "1    39.200000   88.0         20.000000                 NaN              NaN   \n",
       "2    38.300000   40.0         24.000000              normal           normal   \n",
       "3    39.100000  164.0         84.000000                cold           normal   \n",
       "4    37.300000  104.0         35.000000                 NaN              NaN   \n",
       "5    38.168619   72.0         30.460581                warm           normal   \n",
       "6    37.900000   48.0         16.000000              normal           normal   \n",
       "7    38.168619   60.0         30.460581                cool              NaN   \n",
       "8    38.168619   80.0         36.000000                cool           absent   \n",
       "9    38.300000   90.0         30.460581              normal              NaN   \n",
       "\n",
       "  mucous_membrane capillary_refill_time          pain peristalsis  \\\n",
       "0             NaN            more_3_sec  extreme_pain      absent   \n",
       "1   pale_cyanotic            less_3_sec     mild_pain      absent   \n",
       "2       pale_pink            less_3_sec     mild_pain  hypomotile   \n",
       "3   dark_cyanotic            more_3_sec     depressed      absent   \n",
       "4   dark_cyanotic            more_3_sec           NaN         NaN   \n",
       "5       pale_pink            less_3_sec     depressed  hypomotile   \n",
       "6     normal_pink            less_3_sec     mild_pain  hypomotile   \n",
       "7             NaN            less_3_sec           NaN      absent   \n",
       "8       pale_pink            less_3_sec   severe_pain      absent   \n",
       "9     normal_pink            less_3_sec  extreme_pain  hypomotile   \n",
       "\n",
       "  abdominal_distention   ...    packed_cell_volume total_protein     outcome  \\\n",
       "0               severe   ...                  45.0           8.4        died   \n",
       "1               slight   ...                  50.0          85.0  euthanized   \n",
       "2                 none   ...                  33.0           6.7       lived   \n",
       "3               severe   ...                  48.0           7.2        died   \n",
       "4                  NaN   ...                  74.0           7.4        died   \n",
       "5               slight   ...                   NaN           NaN       lived   \n",
       "6             moderate   ...                  37.0           7.0       lived   \n",
       "7               slight   ...                  44.0           8.3        died   \n",
       "8               severe   ...                  38.0           6.2  euthanized   \n",
       "9                 none   ...                  40.0           6.2       lived   \n",
       "\n",
       "  lesion_1  lesion_2  lesion_3 surgery  young  surgical_lesion  cp_data  \n",
       "0    11300         0         0       0      0                0        0  \n",
       "1     2208         0         0       1      0                0        0  \n",
       "2        0         0         0       0      0                0        1  \n",
       "3     2208         0         0       1      1                1        1  \n",
       "4     4300         0         0       0      0                0        0  \n",
       "5        0         0         0       0      0                0        0  \n",
       "6     3124         0         0       1      0                1        0  \n",
       "7     2208         0         0       1      0                1        0  \n",
       "8     3205         0         0       0      0                1        0  \n",
       "9        0         0         0       0      1                0        1  \n",
       "\n",
       "[10 rows x 24 columns]"
      ]
     },
     "execution_count": 46,
     "metadata": {},
     "output_type": "execute_result"
    }
   ],
   "source": [
    "df.head(10)"
   ]
  },
  {
   "cell_type": "code",
   "execution_count": 47,
   "metadata": {},
   "outputs": [
    {
     "data": {
      "text/plain": [
       "<matplotlib.axes._subplots.AxesSubplot at 0x7fb4aae984e0>"
      ]
     },
     "execution_count": 47,
     "metadata": {},
     "output_type": "execute_result"
    },
    {
     "data": {
      "image/png": "[encoded data removed]",
      "text/plain": [
       "<matplotlib.figure.Figure at 0x7fb4aaf06f60>"
      ]
     },
     "metadata": {
      "needs_background": "light"
     },
     "output_type": "display_data"
    }
   ],
   "source": [
    "sns.countplot(df['total_protein'].isnull())"
   ]
  },
  {
   "cell_type": "code",
   "execution_count": 48,
   "metadata": {},
   "outputs": [
    {
     "data": {
      "text/plain": [
       "<matplotlib.axes._subplots.AxesSubplot at 0x7fb4aae5eb70>"
      ]
     },
     "execution_count": 48,
     "metadata": {},
     "output_type": "execute_result"
    },
    {
     "data": {
      "image/png": "[encoded data removed]",
      "text/plain": [
       "<matplotlib.figure.Figure at 0x7fb4aae74160>"
      ]
     },
     "metadata": {
      "needs_background": "light"
     },
     "output_type": "display_data"
    }
   ],
   "source": [
    "#impute values for total_protein\n",
    "sns.distplot(df['total_protein'].dropna())\n",
    "#not normally distributed"
   ]
  },
  {
   "cell_type": "code",
   "execution_count": 49,
   "metadata": {},
   "outputs": [
    {
     "data": {
      "text/plain": [
       "24.274436090225564"
      ]
     },
     "execution_count": 49,
     "metadata": {},
     "output_type": "execute_result"
    }
   ],
   "source": [
    "df['total_protein'].mean()"
   ]
  },
  {
   "cell_type": "code",
   "execution_count": 50,
   "metadata": {},
   "outputs": [],
   "source": [
    "df['total_protein'] = imputer.fit_transform(df[['total_protein']])"
   ]
  },
  {
   "cell_type": "code",
   "execution_count": 51,
   "metadata": {},
   "outputs": [
    {
     "data": {
      "text/plain": [
       "<matplotlib.axes._subplots.AxesSubplot at 0x7fb4aae4c358>"
      ]
     },
     "execution_count": 51,
     "metadata": {},
     "output_type": "execute_result"
    },
    {
     "data": {
      "image/png": "[encoded data removed]",
      "text/plain": [
       "<matplotlib.figure.Figure at 0x7fb4aae5ee48>"
      ]
     },
     "metadata": {
      "needs_background": "light"
     },
     "output_type": "display_data"
    }
   ],
   "source": [
    "sns.countplot(df['total_protein'].isnull())"
   ]
  },
  {
   "cell_type": "code",
   "execution_count": 52,
   "metadata": {},
   "outputs": [
    {
     "data": {
      "text/plain": [
       "46.30740740740741"
      ]
     },
     "execution_count": 52,
     "metadata": {},
     "output_type": "execute_result"
    }
   ],
   "source": [
    "df['packed_cell_volume'].mean()"
   ]
  },
  {
   "cell_type": "code",
   "execution_count": 53,
   "metadata": {},
   "outputs": [],
   "source": [
    "df['packed_cell_volume'] = imputer.fit_transform(df[['packed_cell_volume']])"
   ]
  },
  {
   "cell_type": "code",
   "execution_count": 54,
   "metadata": {},
   "outputs": [
    {
     "data": {
      "text/plain": [
       "<matplotlib.axes._subplots.AxesSubplot at 0x7fb4aad77080>"
      ]
     },
     "execution_count": 54,
     "metadata": {},
     "output_type": "execute_result"
    },
    {
     "data": {
      "image/png": "[encoded data removed]",
      "text/plain": [
       "<matplotlib.figure.Figure at 0x7fb4aad77e10>"
      ]
     },
     "metadata": {
      "needs_background": "light"
     },
     "output_type": "display_data"
    }
   ],
   "source": [
    "sns.countplot(df['packed_cell_volume'].isnull())"
   ]
  },
  {
   "cell_type": "code",
   "execution_count": 55,
   "metadata": {},
   "outputs": [
    {
     "data": {
      "text/plain": [
       "<matplotlib.axes._subplots.AxesSubplot at 0x7fb4aad4e588>"
      ]
     },
     "execution_count": 55,
     "metadata": {},
     "output_type": "execute_result"
    },
    {
     "data": {
      "image/png": "[encoded data removed]",
      "text/plain": [
       "<matplotlib.figure.Figure at 0x7fb4aae0b828>"
      ]
     },
     "metadata": {
      "needs_background": "light"
     },
     "output_type": "display_data"
    }
   ],
   "source": [
    "sns.countplot(df['abdomen'].isnull())"
   ]
  },
  {
   "cell_type": "code",
   "execution_count": 56,
   "metadata": {},
   "outputs": [],
   "source": [
    "def impute_abd(cols):\n",
    "    abd = cols[0]\n",
    "   \n",
    "    \n",
    "    if pd.isnull(abd):\n",
    "        return \"<UNK>\"\n",
    "\n",
    "    else:\n",
    "        return abd"
   ]
  },
  {
   "cell_type": "code",
   "execution_count": 57,
   "metadata": {},
   "outputs": [],
   "source": [
    "df['abdomen'] = df[['abdomen']].apply(impute_abd,axis=1)"
   ]
  },
  {
   "cell_type": "code",
   "execution_count": 58,
   "metadata": {},
   "outputs": [
    {
     "data": {
      "text/plain": [
       "<matplotlib.axes._subplots.AxesSubplot at 0x7fb4aaca4eb8>"
      ]
     },
     "execution_count": 58,
     "metadata": {},
     "output_type": "execute_result"
    },
    {
     "data": {
      "image/png": "[encoded data removed]",
      "text/plain": [
       "<matplotlib.figure.Figure at 0x7fb4aaca4748>"
      ]
     },
     "metadata": {
      "needs_background": "light"
     },
     "output_type": "display_data"
    }
   ],
   "source": [
    "sns.countplot(df['abdomen'].isnull())"
   ]
  },
  {
   "cell_type": "code",
   "execution_count": 59,
   "metadata": {},
   "outputs": [
    {
     "data": {
      "text/plain": [
       "<matplotlib.axes._subplots.AxesSubplot at 0x7fb4aad0fa58>"
      ]
     },
     "execution_count": 59,
     "metadata": {},
     "output_type": "execute_result"
    },
    {
     "data": {
      "image/png": "[encoded data removed]",
      "text/plain": [
       "<matplotlib.figure.Figure at 0x7fb4aace46d8>"
      ]
     },
     "metadata": {
      "needs_background": "light"
     },
     "output_type": "display_data"
    }
   ],
   "source": [
    "sns.countplot(df['temp_of_extremities'].isnull())\n"
   ]
  },
  {
   "cell_type": "code",
   "execution_count": 60,
   "metadata": {},
   "outputs": [
    {
     "data": {
      "text/plain": [
       "array(['cool', nan, 'normal', 'cold', 'warm'], dtype=object)"
      ]
     },
     "execution_count": 60,
     "metadata": {},
     "output_type": "execute_result"
    }
   ],
   "source": [
    "df['temp_of_extremities'].unique()\n",
    "# 5 different values for temp_of_extremities - cold,cool,normal,warm,nan"
   ]
  },
  {
   "cell_type": "code",
   "execution_count": 61,
   "metadata": {},
   "outputs": [],
   "source": [
    "def impute_toe(cols):\n",
    "    temp_of_extremities = cols[0]\n",
    "   \n",
    "    \n",
    "    if pd.isnull(temp_of_extremities):\n",
    "        return \"<UNK>\"\n",
    "\n",
    "    else:\n",
    "        return temp_of_extremities"
   ]
  },
  {
   "cell_type": "code",
   "execution_count": 62,
   "metadata": {},
   "outputs": [],
   "source": [
    "df['temp_of_extremities'] = df[['temp_of_extremities']].apply(impute_toe,axis=1)"
   ]
  },
  {
   "cell_type": "code",
   "execution_count": 63,
   "metadata": {},
   "outputs": [
    {
     "data": {
      "text/plain": [
       "<matplotlib.axes._subplots.AxesSubplot at 0x7fb4aac4ff60>"
      ]
     },
     "execution_count": 63,
     "metadata": {},
     "output_type": "execute_result"
    },
    {
     "data": {
      "image/png": "[encoded data removed]",
      "text/plain": [
       "<matplotlib.figure.Figure at 0x7fb4aad72b38>"
      ]
     },
     "metadata": {
      "needs_background": "light"
     },
     "output_type": "display_data"
    }
   ],
   "source": [
    "sns.countplot(df['temp_of_extremities'].isnull())"
   ]
  },
  {
   "cell_type": "code",
   "execution_count": 64,
   "metadata": {},
   "outputs": [
    {
     "data": {
      "text/plain": [
       "<matplotlib.axes._subplots.AxesSubplot at 0x7fb4aac09fd0>"
      ]
     },
     "execution_count": 64,
     "metadata": {},
     "output_type": "execute_result"
    },
    {
     "data": {
      "image/png": "[encoded data removed]",
      "text/plain": [
       "<matplotlib.figure.Figure at 0x7fb4aac4fe80>"
      ]
     },
     "metadata": {
      "needs_background": "light"
     },
     "output_type": "display_data"
    }
   ],
   "source": [
    "sns.countplot(df['peripheral_pulse'].isnull())\n"
   ]
  },
  {
   "cell_type": "code",
   "execution_count": 65,
   "metadata": {},
   "outputs": [
    {
     "data": {
      "text/plain": [
       "array(['reduced', nan, 'normal', 'absent', 'increased'], dtype=object)"
      ]
     },
     "execution_count": 65,
     "metadata": {},
     "output_type": "execute_result"
    }
   ],
   "source": [
    "df['peripheral_pulse'].unique()"
   ]
  },
  {
   "cell_type": "code",
   "execution_count": 66,
   "metadata": {},
   "outputs": [],
   "source": [
    "def impute_pp(cols):\n",
    "    peripheral_pulse = cols[0]\n",
    "   \n",
    "    \n",
    "    if pd.isnull(peripheral_pulse):\n",
    "        return \"<UNK>\"\n",
    "\n",
    "    else:\n",
    "        return peripheral_pulse"
   ]
  },
  {
   "cell_type": "code",
   "execution_count": 67,
   "metadata": {},
   "outputs": [],
   "source": [
    "df['peripheral_pulse'] = df[['peripheral_pulse']].apply(impute_pp,axis=1)"
   ]
  },
  {
   "cell_type": "code",
   "execution_count": 68,
   "metadata": {},
   "outputs": [
    {
     "data": {
      "text/plain": [
       "<matplotlib.axes._subplots.AxesSubplot at 0x7fb4aab82550>"
      ]
     },
     "execution_count": 68,
     "metadata": {},
     "output_type": "execute_result"
    },
    {
     "data": {
      "image/png": "[encoded data removed]",
      "text/plain": [
       "<matplotlib.figure.Figure at 0x7fb4aab649b0>"
      ]
     },
     "metadata": {
      "needs_background": "light"
     },
     "output_type": "display_data"
    }
   ],
   "source": [
    "sns.countplot(df['peripheral_pulse'].isnull())\n",
    "\n"
   ]
  },
  {
   "cell_type": "code",
   "execution_count": 69,
   "metadata": {},
   "outputs": [
    {
     "data": {
      "text/plain": [
       "array([nan, 'pale_cyanotic', 'pale_pink', 'dark_cyanotic', 'normal_pink',\n",
       "       'bright_red', 'bright_pink'], dtype=object)"
      ]
     },
     "execution_count": 69,
     "metadata": {},
     "output_type": "execute_result"
    }
   ],
   "source": [
    "df['mucous_membrane'].unique()"
   ]
  },
  {
   "cell_type": "code",
   "execution_count": 70,
   "metadata": {},
   "outputs": [
    {
     "data": {
      "text/plain": [
       "<matplotlib.axes._subplots.AxesSubplot at 0x7fb4aab3d128>"
      ]
     },
     "execution_count": 70,
     "metadata": {},
     "output_type": "execute_result"
    },
    {
     "data": {
      "image/png": "[encoded data removed]",
      "text/plain": [
       "<matplotlib.figure.Figure at 0x7fb4aadc6748>"
      ]
     },
     "metadata": {
      "needs_background": "light"
     },
     "output_type": "display_data"
    }
   ],
   "source": [
    "sns.countplot(df['mucous_membrane'].isnull())"
   ]
  },
  {
   "cell_type": "code",
   "execution_count": 71,
   "metadata": {},
   "outputs": [],
   "source": [
    "def impute_mm(cols):\n",
    "    mucous_membrane = cols[0]\n",
    "   \n",
    "    \n",
    "    if pd.isnull(mucous_membrane):\n",
    "        return \"<UNK>\"\n",
    "\n",
    "    else:\n",
    "        return mucous_membrane"
   ]
  },
  {
   "cell_type": "code",
   "execution_count": 72,
   "metadata": {},
   "outputs": [],
   "source": [
    "df['mucous_membrane'] = df[['mucous_membrane']].apply(impute_mm,axis=1)"
   ]
  },
  {
   "cell_type": "code",
   "execution_count": 73,
   "metadata": {},
   "outputs": [
    {
     "data": {
      "text/plain": [
       "<matplotlib.axes._subplots.AxesSubplot at 0x7fb4aaa9dc50>"
      ]
     },
     "execution_count": 73,
     "metadata": {},
     "output_type": "execute_result"
    },
    {
     "data": {
      "image/png": "[encoded data removed]",
      "text/plain": [
       "<matplotlib.figure.Figure at 0x7fb4aab07e80>"
      ]
     },
     "metadata": {
      "needs_background": "light"
     },
     "output_type": "display_data"
    }
   ],
   "source": [
    "sns.countplot(df['mucous_membrane'].isnull())"
   ]
  },
  {
   "cell_type": "code",
   "execution_count": 74,
   "metadata": {},
   "outputs": [
    {
     "data": {
      "text/plain": [
       "<matplotlib.axes._subplots.AxesSubplot at 0x7fb4aaa71400>"
      ]
     },
     "execution_count": 74,
     "metadata": {},
     "output_type": "execute_result"
    },
    {
     "data": {
      "image/png": "[encoded data removed]",
      "text/plain": [
       "<matplotlib.figure.Figure at 0x7fb4aab91d68>"
      ]
     },
     "metadata": {
      "needs_background": "light"
     },
     "output_type": "display_data"
    }
   ],
   "source": [
    "sns.countplot(df['capillary_refill_time'].isnull())"
   ]
  },
  {
   "cell_type": "code",
   "execution_count": 75,
   "metadata": {},
   "outputs": [
    {
     "data": {
      "text/plain": [
       "array(['more_3_sec', 'less_3_sec', nan, '3'], dtype=object)"
      ]
     },
     "execution_count": 75,
     "metadata": {},
     "output_type": "execute_result"
    }
   ],
   "source": [
    "df['capillary_refill_time'].unique()"
   ]
  },
  {
   "cell_type": "code",
   "execution_count": 76,
   "metadata": {},
   "outputs": [],
   "source": [
    "def impute_crt(cols):\n",
    "    crt = cols[0]\n",
    "   \n",
    "    \n",
    "    if pd.isnull(crt):\n",
    "        return \"<UNK>\"\n",
    "\n",
    "    else:\n",
    "        return crt"
   ]
  },
  {
   "cell_type": "code",
   "execution_count": 77,
   "metadata": {},
   "outputs": [],
   "source": [
    "df['capillary_refill_time'] = df[['capillary_refill_time']].apply(impute_crt,axis=1)"
   ]
  },
  {
   "cell_type": "code",
   "execution_count": 78,
   "metadata": {},
   "outputs": [
    {
     "data": {
      "text/plain": [
       "<matplotlib.axes._subplots.AxesSubplot at 0x7fb4aaa9d550>"
      ]
     },
     "execution_count": 78,
     "metadata": {},
     "output_type": "execute_result"
    },
    {
     "data": {
      "image/png": "[encoded data removed]",
      "text/plain": [
       "<matplotlib.figure.Figure at 0x7fb4aab3d208>"
      ]
     },
     "metadata": {
      "needs_background": "light"
     },
     "output_type": "display_data"
    }
   ],
   "source": [
    "sns.countplot(df['capillary_refill_time'].isnull())"
   ]
  },
  {
   "cell_type": "code",
   "execution_count": 79,
   "metadata": {},
   "outputs": [
    {
     "data": {
      "text/plain": [
       "<matplotlib.axes._subplots.AxesSubplot at 0x7fb4aa9fd7b8>"
      ]
     },
     "execution_count": 79,
     "metadata": {},
     "output_type": "execute_result"
    },
    {
     "data": {
      "image/png": "[encoded data removed]",
      "text/plain": [
       "<matplotlib.figure.Figure at 0x7fb4aa9d75c0>"
      ]
     },
     "metadata": {
      "needs_background": "light"
     },
     "output_type": "display_data"
    }
   ],
   "source": [
    "sns.countplot(df['pain'].isnull())"
   ]
  },
  {
   "cell_type": "code",
   "execution_count": 80,
   "metadata": {},
   "outputs": [
    {
     "data": {
      "text/plain": [
       "array(['extreme_pain', 'mild_pain', 'depressed', nan, 'severe_pain',\n",
       "       'alert'], dtype=object)"
      ]
     },
     "execution_count": 80,
     "metadata": {},
     "output_type": "execute_result"
    }
   ],
   "source": [
    "df['pain'].unique()"
   ]
  },
  {
   "cell_type": "code",
   "execution_count": 81,
   "metadata": {},
   "outputs": [],
   "source": [
    "def impute_pain(cols):\n",
    "    pain = cols[0]\n",
    "   \n",
    "    \n",
    "    if pd.isnull(pain):\n",
    "        return \"<UNK>\"\n",
    "\n",
    "    else:\n",
    "        return pain"
   ]
  },
  {
   "cell_type": "code",
   "execution_count": 82,
   "metadata": {},
   "outputs": [],
   "source": [
    "df['pain'] = df[['pain']].apply(impute_pain,axis=1)"
   ]
  },
  {
   "cell_type": "code",
   "execution_count": 83,
   "metadata": {},
   "outputs": [
    {
     "data": {
      "text/plain": [
       "<matplotlib.axes._subplots.AxesSubplot at 0x7fb4aa971d30>"
      ]
     },
     "execution_count": 83,
     "metadata": {},
     "output_type": "execute_result"
    },
    {
     "data": {
      "image/png": "[encoded data removed]",
      "text/plain": [
       "<matplotlib.figure.Figure at 0x7fb4aaa712e8>"
      ]
     },
     "metadata": {
      "needs_background": "light"
     },
     "output_type": "display_data"
    }
   ],
   "source": [
    "sns.countplot(df['pain'].isnull())"
   ]
  },
  {
   "cell_type": "code",
   "execution_count": 84,
   "metadata": {},
   "outputs": [
    {
     "data": {
      "text/plain": [
       "<matplotlib.axes._subplots.AxesSubplot at 0x7fb4aa92e9e8>"
      ]
     },
     "execution_count": 84,
     "metadata": {},
     "output_type": "execute_result"
    },
    {
     "data": {
      "image/png": "[encoded data removed]",
      "text/plain": [
       "<matplotlib.figure.Figure at 0x7fb4aa9ab0b8>"
      ]
     },
     "metadata": {
      "needs_background": "light"
     },
     "output_type": "display_data"
    }
   ],
   "source": [
    "sns.countplot(df['peristalsis'].isnull())"
   ]
  },
  {
   "cell_type": "code",
   "execution_count": 85,
   "metadata": {},
   "outputs": [
    {
     "data": {
      "text/plain": [
       "array(['absent', 'hypomotile', nan, 'hypermotile', 'normal'], dtype=object)"
      ]
     },
     "execution_count": 85,
     "metadata": {},
     "output_type": "execute_result"
    }
   ],
   "source": [
    "df['peristalsis'].unique()"
   ]
  },
  {
   "cell_type": "code",
   "execution_count": 86,
   "metadata": {},
   "outputs": [],
   "source": [
    "def impute_peristalsis(cols):\n",
    "    peristalsis = cols[0]\n",
    "   \n",
    "    \n",
    "    if pd.isnull(peristalsis):\n",
    "        return \"<UNK>\"\n",
    "\n",
    "    else:\n",
    "        return peristalsis"
   ]
  },
  {
   "cell_type": "code",
   "execution_count": 87,
   "metadata": {},
   "outputs": [],
   "source": [
    "df['peristalsis'] = df[['peristalsis']].apply(impute_peristalsis,axis=1)"
   ]
  },
  {
   "cell_type": "code",
   "execution_count": 88,
   "metadata": {},
   "outputs": [
    {
     "data": {
      "text/plain": [
       "<matplotlib.axes._subplots.AxesSubplot at 0x7fb4aae88358>"
      ]
     },
     "execution_count": 88,
     "metadata": {},
     "output_type": "execute_result"
    },
    {
     "data": {
      "image/png": "[encoded data removed]",
      "text/plain": [
       "<matplotlib.figure.Figure at 0x7fb4aacc4e10>"
      ]
     },
     "metadata": {
      "needs_background": "light"
     },
     "output_type": "display_data"
    }
   ],
   "source": [
    "sns.countplot(df['peristalsis'].isnull())"
   ]
  },
  {
   "cell_type": "code",
   "execution_count": 89,
   "metadata": {},
   "outputs": [
    {
     "data": {
      "text/plain": [
       "<matplotlib.axes._subplots.AxesSubplot at 0x7fb4aa93eeb8>"
      ]
     },
     "execution_count": 89,
     "metadata": {},
     "output_type": "execute_result"
    },
    {
     "data": {
      "image/png": "[encoded data removed]",
      "text/plain": [
       "<matplotlib.figure.Figure at 0x7fb4ab0b4438>"
      ]
     },
     "metadata": {
      "needs_background": "light"
     },
     "output_type": "display_data"
    }
   ],
   "source": [
    "sns.countplot(df['abdominal_distention'].isnull())"
   ]
  },
  {
   "cell_type": "code",
   "execution_count": 90,
   "metadata": {},
   "outputs": [
    {
     "data": {
      "text/plain": [
       "array(['severe', 'slight', 'none', nan, 'moderate'], dtype=object)"
      ]
     },
     "execution_count": 90,
     "metadata": {},
     "output_type": "execute_result"
    }
   ],
   "source": [
    "df['abdominal_distention'].unique()"
   ]
  },
  {
   "cell_type": "code",
   "execution_count": 91,
   "metadata": {},
   "outputs": [],
   "source": [
    "def impute_abddist(cols):\n",
    "    abddist = cols[0]\n",
    "   \n",
    "    \n",
    "    if pd.isnull(abddist):\n",
    "        return \"<UNK>\"\n",
    "\n",
    "    else:\n",
    "        return abddist"
   ]
  },
  {
   "cell_type": "code",
   "execution_count": 92,
   "metadata": {},
   "outputs": [],
   "source": [
    "df['abdominal_distention'] = df[['abdominal_distention']].apply(impute_abddist,axis=1)"
   ]
  },
  {
   "cell_type": "code",
   "execution_count": 93,
   "metadata": {},
   "outputs": [
    {
     "data": {
      "text/plain": [
       "<matplotlib.axes._subplots.AxesSubplot at 0x7fb4aa8694e0>"
      ]
     },
     "execution_count": 93,
     "metadata": {},
     "output_type": "execute_result"
    },
    {
     "data": {
      "image/png": "[encoded data removed]",
      "text/plain": [
       "<matplotlib.figure.Figure at 0x7fb4aaaee6a0>"
      ]
     },
     "metadata": {
      "needs_background": "light"
     },
     "output_type": "display_data"
    }
   ],
   "source": [
    "sns.countplot(df['abdominal_distention'].isnull())\n"
   ]
  },
  {
   "cell_type": "code",
   "execution_count": 94,
   "metadata": {},
   "outputs": [
    {
     "data": {
      "text/plain": [
       "<matplotlib.axes._subplots.AxesSubplot at 0x7fb4aa8265f8>"
      ]
     },
     "execution_count": 94,
     "metadata": {},
     "output_type": "execute_result"
    },
    {
     "data": {
      "image/png": "[encoded data removed]",
      "text/plain": [
       "<matplotlib.figure.Figure at 0x7fb4aa8b2668>"
      ]
     },
     "metadata": {
      "needs_background": "light"
     },
     "output_type": "display_data"
    }
   ],
   "source": [
    "sns.countplot(df['nasogastric_reflux'].isnull())"
   ]
  },
  {
   "cell_type": "code",
   "execution_count": 95,
   "metadata": {},
   "outputs": [
    {
     "data": {
      "text/plain": [
       "array([nan, 'less_1_liter', 'none', 'more_1_liter'], dtype=object)"
      ]
     },
     "execution_count": 95,
     "metadata": {},
     "output_type": "execute_result"
    }
   ],
   "source": [
    "df['nasogastric_reflux'].unique()"
   ]
  },
  {
   "cell_type": "code",
   "execution_count": 96,
   "metadata": {},
   "outputs": [],
   "source": [
    "def impute_nsref(cols):\n",
    "    nsref = cols[0]\n",
    "   \n",
    "    \n",
    "    if pd.isnull(nsref):\n",
    "        return \"<UNK>\"\n",
    "\n",
    "    else:\n",
    "        return nsref"
   ]
  },
  {
   "cell_type": "code",
   "execution_count": 97,
   "metadata": {},
   "outputs": [],
   "source": [
    "df['nasogastric_reflux'] = df[['nasogastric_reflux']].apply(impute_nsref,axis=1)"
   ]
  },
  {
   "cell_type": "code",
   "execution_count": 98,
   "metadata": {},
   "outputs": [
    {
     "data": {
      "text/plain": [
       "<matplotlib.axes._subplots.AxesSubplot at 0x7fb4aa826780>"
      ]
     },
     "execution_count": 98,
     "metadata": {},
     "output_type": "execute_result"
    },
    {
     "data": {
      "image/png": "[encoded data removed]",
      "text/plain": [
       "<matplotlib.figure.Figure at 0x7fb4aa832710>"
      ]
     },
     "metadata": {
      "needs_background": "light"
     },
     "output_type": "display_data"
    }
   ],
   "source": [
    "sns.countplot(df['nasogastric_reflux'].isnull())"
   ]
  },
  {
   "cell_type": "code",
   "execution_count": 99,
   "metadata": {},
   "outputs": [
    {
     "data": {
      "text/plain": [
       "<matplotlib.axes._subplots.AxesSubplot at 0x7fb4aa785128>"
      ]
     },
     "execution_count": 99,
     "metadata": {},
     "output_type": "execute_result"
    },
    {
     "data": {
      "image/png": "[encoded data removed]",
      "text/plain": [
       "<matplotlib.figure.Figure at 0x7fb4ab3c3da0>"
      ]
     },
     "metadata": {
      "needs_background": "light"
     },
     "output_type": "display_data"
    }
   ],
   "source": [
    "sns.countplot(df['nasogastric_tube'].isnull())"
   ]
  },
  {
   "cell_type": "code",
   "execution_count": 100,
   "metadata": {},
   "outputs": [
    {
     "data": {
      "text/plain": [
       "array([nan, 'none', 'slight', 'significant'], dtype=object)"
      ]
     },
     "execution_count": 100,
     "metadata": {},
     "output_type": "execute_result"
    }
   ],
   "source": [
    "df['nasogastric_tube'].unique()"
   ]
  },
  {
   "cell_type": "code",
   "execution_count": 101,
   "metadata": {},
   "outputs": [],
   "source": [
    "def impute_nstub(cols):\n",
    "    nstub = cols[0]\n",
    "   \n",
    "    \n",
    "    if pd.isnull(nstub):\n",
    "        return \"<UNK>\"\n",
    "\n",
    "    else:\n",
    "        return nstub"
   ]
  },
  {
   "cell_type": "code",
   "execution_count": 102,
   "metadata": {},
   "outputs": [],
   "source": [
    "df['nasogastric_tube'] = df[['nasogastric_tube']].apply(impute_nstub,axis=1)"
   ]
  },
  {
   "cell_type": "code",
   "execution_count": 103,
   "metadata": {},
   "outputs": [
    {
     "data": {
      "text/plain": [
       "<matplotlib.axes._subplots.AxesSubplot at 0x7fb4aa6e4e48>"
      ]
     },
     "execution_count": 103,
     "metadata": {},
     "output_type": "execute_result"
    },
    {
     "data": {
      "image/png": "[encoded data removed]",
      "text/plain": [
       "<matplotlib.figure.Figure at 0x7fb4aa93e860>"
      ]
     },
     "metadata": {
      "needs_background": "light"
     },
     "output_type": "display_data"
    }
   ],
   "source": [
    "sns.countplot(df['nasogastric_tube'].isnull())"
   ]
  },
  {
   "cell_type": "code",
   "execution_count": 104,
   "metadata": {},
   "outputs": [
    {
     "data": {
      "text/plain": [
       "<matplotlib.axes._subplots.AxesSubplot at 0x7fb4aa78a128>"
      ]
     },
     "execution_count": 104,
     "metadata": {},
     "output_type": "execute_result"
    },
    {
     "data": {
      "image/png": "[encoded data removed]",
      "text/plain": [
       "<matplotlib.figure.Figure at 0x7fb4aa838dd8>"
      ]
     },
     "metadata": {
      "needs_background": "light"
     },
     "output_type": "display_data"
    }
   ],
   "source": [
    "sns.countplot(df['rectal_exam_feces'].isnull())"
   ]
  },
  {
   "cell_type": "code",
   "execution_count": 105,
   "metadata": {},
   "outputs": [
    {
     "data": {
      "text/plain": [
       "array(['decreased', 'absent', 'normal', nan, 'increased'], dtype=object)"
      ]
     },
     "execution_count": 105,
     "metadata": {},
     "output_type": "execute_result"
    }
   ],
   "source": [
    "df['rectal_exam_feces'].unique()"
   ]
  },
  {
   "cell_type": "code",
   "execution_count": 106,
   "metadata": {},
   "outputs": [],
   "source": [
    "def impute_recex(cols):\n",
    "    recex = cols[0]\n",
    "   \n",
    "    \n",
    "    if pd.isnull(recex):\n",
    "        return \"<UNK>\"\n",
    "\n",
    "    else:\n",
    "        return recex"
   ]
  },
  {
   "cell_type": "code",
   "execution_count": 107,
   "metadata": {},
   "outputs": [],
   "source": [
    "df['rectal_exam_feces'] = df[['rectal_exam_feces']].apply(impute_recex,axis=1)"
   ]
  },
  {
   "cell_type": "code",
   "execution_count": 108,
   "metadata": {},
   "outputs": [
    {
     "data": {
      "text/plain": [
       "<matplotlib.axes._subplots.AxesSubplot at 0x7fb4aa67c2b0>"
      ]
     },
     "execution_count": 108,
     "metadata": {},
     "output_type": "execute_result"
    },
    {
     "data": {
      "image/png": "[encoded data removed]",
      "text/plain": [
       "<matplotlib.figure.Figure at 0x7fb4aa816c88>"
      ]
     },
     "metadata": {
      "needs_background": "light"
     },
     "output_type": "display_data"
    }
   ],
   "source": [
    "sns.countplot(df['rectal_exam_feces'].isnull())"
   ]
  },
  {
   "cell_type": "code",
   "execution_count": 109,
   "metadata": {},
   "outputs": [
    {
     "data": {
      "text/plain": [
       "<matplotlib.axes._subplots.AxesSubplot at 0x7fb4aa6c9c18>"
      ]
     },
     "execution_count": 109,
     "metadata": {},
     "output_type": "execute_result"
    },
    {
     "data": {
      "image/png": "[encoded data removed]",
      "text/plain": [
       "<matplotlib.figure.Figure at 0x7fb4aa79f908>"
      ]
     },
     "metadata": {
      "needs_background": "light"
     },
     "output_type": "display_data"
    }
   ],
   "source": [
    "sns.countplot(df['lesion_1'].isnull())"
   ]
  },
  {
   "cell_type": "code",
   "execution_count": 110,
   "metadata": {},
   "outputs": [
    {
     "data": {
      "text/plain": [
       "<matplotlib.axes._subplots.AxesSubplot at 0x7fb4aa59af28>"
      ]
     },
     "execution_count": 110,
     "metadata": {},
     "output_type": "execute_result"
    },
    {
     "data": {
      "image/png": "[encoded data removed]",
      "text/plain": [
       "<matplotlib.figure.Figure at 0x7fb4aa7049b0>"
      ]
     },
     "metadata": {
      "needs_background": "light"
     },
     "output_type": "display_data"
    }
   ],
   "source": [
    "sns.countplot(df['lesion_2'].isnull())"
   ]
  },
  {
   "cell_type": "code",
   "execution_count": 111,
   "metadata": {},
   "outputs": [
    {
     "data": {
      "text/plain": [
       "<matplotlib.axes._subplots.AxesSubplot at 0x7fb4aa581be0>"
      ]
     },
     "execution_count": 111,
     "metadata": {},
     "output_type": "execute_result"
    },
    {
     "data": {
      "image/png": "[encoded data removed]",
      "text/plain": [
       "<matplotlib.figure.Figure at 0x7fb4aa59ada0>"
      ]
     },
     "metadata": {
      "needs_background": "light"
     },
     "output_type": "display_data"
    }
   ],
   "source": [
    "sns.countplot(df['lesion_3'].isnull())"
   ]
  },
  {
   "cell_type": "code",
   "execution_count": 112,
   "metadata": {},
   "outputs": [
    {
     "data": {
      "text/plain": [
       "Index(['rectal_temp', 'pulse', 'respiratory_rate', 'temp_of_extremities',\n",
       "       'peripheral_pulse', 'mucous_membrane', 'capillary_refill_time', 'pain',\n",
       "       'peristalsis', 'abdominal_distention', 'nasogastric_tube',\n",
       "       'nasogastric_reflux', 'rectal_exam_feces', 'abdomen',\n",
       "       'packed_cell_volume', 'total_protein', 'outcome', 'lesion_1',\n",
       "       'lesion_2', 'lesion_3', 'surgery', 'young', 'surgical_lesion',\n",
       "       'cp_data'],\n",
       "      dtype='object')"
      ]
     },
     "execution_count": 112,
     "metadata": {},
     "output_type": "execute_result"
    }
   ],
   "source": [
    "df.columns"
   ]
  },
  {
   "cell_type": "code",
   "execution_count": 113,
   "metadata": {},
   "outputs": [
    {
     "data": {
      "text/plain": [
       "<matplotlib.axes._subplots.AxesSubplot at 0x7fb4aa553588>"
      ]
     },
     "execution_count": 113,
     "metadata": {},
     "output_type": "execute_result"
    },
    {
     "data": {
      "image/png": "[encoded data removed]",
      "text/plain": [
       "<matplotlib.figure.Figure at 0x7fb4aa5d3390>"
      ]
     },
     "metadata": {
      "needs_background": "light"
     },
     "output_type": "display_data"
    }
   ],
   "source": [
    "sns.countplot(x='outcome',hue = 'abdominal_distention',data = df)\n",
    "#shows that majority of the hourses that lived had no abdomial distention"
   ]
  },
  {
   "cell_type": "code",
   "execution_count": 114,
   "metadata": {},
   "outputs": [
    {
     "data": {
      "text/plain": [
       "<matplotlib.axes._subplots.AxesSubplot at 0x7fb4aa514be0>"
      ]
     },
     "execution_count": 114,
     "metadata": {},
     "output_type": "execute_result"
    },
    {
     "data": {
      "image/png": "[encoded data removed]",
      "text/plain": [
       "<matplotlib.figure.Figure at 0x7fb4aa682898>"
      ]
     },
     "metadata": {
      "needs_background": "light"
     },
     "output_type": "display_data"
    }
   ],
   "source": [
    "sns.countplot(x='outcome',hue = 'peristalsis',data = df)\n",
    "#shows that majority of the hourses that lived had hypomotile peristalsis"
   ]
  },
  {
   "cell_type": "code",
   "execution_count": 115,
   "metadata": {},
   "outputs": [
    {
     "data": {
      "text/plain": [
       "<matplotlib.axes._subplots.AxesSubplot at 0x7fb4aa4f7400>"
      ]
     },
     "execution_count": 115,
     "metadata": {},
     "output_type": "execute_result"
    },
    {
     "data": {
      "image/png": "[encoded data removed]",
      "text/plain": [
       "<matplotlib.figure.Figure at 0x7fb4aa481828>"
      ]
     },
     "metadata": {
      "needs_background": "light"
     },
     "output_type": "display_data"
    }
   ],
   "source": [
    "sns.countplot(x='outcome',hue = 'rectal_exam_feces',data = df)\n"
   ]
  },
  {
   "cell_type": "code",
   "execution_count": 116,
   "metadata": {},
   "outputs": [
    {
     "data": {
      "text/plain": [
       "<matplotlib.axes._subplots.AxesSubplot at 0x7fb4aa46d208>"
      ]
     },
     "execution_count": 116,
     "metadata": {},
     "output_type": "execute_result"
    },
    {
     "data": {
      "image/png": "[encoded data removed]",
      "text/plain": [
       "<matplotlib.figure.Figure at 0x7fb4aa3f5048>"
      ]
     },
     "metadata": {
      "needs_background": "light"
     },
     "output_type": "display_data"
    }
   ],
   "source": [
    "sns.heatmap(df.isnull())\n",
    "#shows that there are no nan values"
   ]
  },
  {
   "cell_type": "code",
   "execution_count": 117,
   "metadata": {},
   "outputs": [
    {
     "data": {
      "text/plain": [
       "Index(['rectal_temp', 'pulse', 'respiratory_rate', 'temp_of_extremities',\n",
       "       'peripheral_pulse', 'mucous_membrane', 'capillary_refill_time', 'pain',\n",
       "       'peristalsis', 'abdominal_distention', 'nasogastric_tube',\n",
       "       'nasogastric_reflux', 'rectal_exam_feces', 'abdomen',\n",
       "       'packed_cell_volume', 'total_protein', 'outcome', 'lesion_1',\n",
       "       'lesion_2', 'lesion_3', 'surgery', 'young', 'surgical_lesion',\n",
       "       'cp_data'],\n",
       "      dtype='object')"
      ]
     },
     "execution_count": 117,
     "metadata": {},
     "output_type": "execute_result"
    }
   ],
   "source": [
    "df.columns"
   ]
  },
  {
   "cell_type": "code",
   "execution_count": 118,
   "metadata": {},
   "outputs": [
    {
     "data": {
      "text/html": [
       "<div>\n",
       "<style scoped>\n",
       "    .dataframe tbody tr th:only-of-type {\n",
       "        vertical-align: middle;\n",
       "    }\n",
       "\n",
       "    .dataframe tbody tr th {\n",
       "        vertical-align: top;\n",
       "    }\n",
       "\n",
       "    .dataframe thead th {\n",
       "        text-align: right;\n",
       "    }\n",
       "</style>\n",
       "<table border=\"1\" class=\"dataframe\">\n",
       "  <thead>\n",
       "    <tr style=\"text-align: right;\">\n",
       "      <th></th>\n",
       "      <th>rectal_temp</th>\n",
       "      <th>pulse</th>\n",
       "      <th>respiratory_rate</th>\n",
       "      <th>temp_of_extremities</th>\n",
       "      <th>peripheral_pulse</th>\n",
       "      <th>mucous_membrane</th>\n",
       "      <th>capillary_refill_time</th>\n",
       "      <th>pain</th>\n",
       "      <th>peristalsis</th>\n",
       "      <th>abdominal_distention</th>\n",
       "      <th>...</th>\n",
       "      <th>packed_cell_volume</th>\n",
       "      <th>total_protein</th>\n",
       "      <th>outcome</th>\n",
       "      <th>lesion_1</th>\n",
       "      <th>lesion_2</th>\n",
       "      <th>lesion_3</th>\n",
       "      <th>surgery</th>\n",
       "      <th>young</th>\n",
       "      <th>surgical_lesion</th>\n",
       "      <th>cp_data</th>\n",
       "    </tr>\n",
       "  </thead>\n",
       "  <tbody>\n",
       "    <tr>\n",
       "      <th>0</th>\n",
       "      <td>38.5</td>\n",
       "      <td>66.0</td>\n",
       "      <td>28.0</td>\n",
       "      <td>cool</td>\n",
       "      <td>reduced</td>\n",
       "      <td>&lt;UNK&gt;</td>\n",
       "      <td>more_3_sec</td>\n",
       "      <td>extreme_pain</td>\n",
       "      <td>absent</td>\n",
       "      <td>severe</td>\n",
       "      <td>...</td>\n",
       "      <td>45.0</td>\n",
       "      <td>8.4</td>\n",
       "      <td>died</td>\n",
       "      <td>11300</td>\n",
       "      <td>0</td>\n",
       "      <td>0</td>\n",
       "      <td>0</td>\n",
       "      <td>0</td>\n",
       "      <td>0</td>\n",
       "      <td>0</td>\n",
       "    </tr>\n",
       "    <tr>\n",
       "      <th>1</th>\n",
       "      <td>39.2</td>\n",
       "      <td>88.0</td>\n",
       "      <td>20.0</td>\n",
       "      <td>&lt;UNK&gt;</td>\n",
       "      <td>&lt;UNK&gt;</td>\n",
       "      <td>pale_cyanotic</td>\n",
       "      <td>less_3_sec</td>\n",
       "      <td>mild_pain</td>\n",
       "      <td>absent</td>\n",
       "      <td>slight</td>\n",
       "      <td>...</td>\n",
       "      <td>50.0</td>\n",
       "      <td>85.0</td>\n",
       "      <td>euthanized</td>\n",
       "      <td>2208</td>\n",
       "      <td>0</td>\n",
       "      <td>0</td>\n",
       "      <td>1</td>\n",
       "      <td>0</td>\n",
       "      <td>0</td>\n",
       "      <td>0</td>\n",
       "    </tr>\n",
       "    <tr>\n",
       "      <th>2</th>\n",
       "      <td>38.3</td>\n",
       "      <td>40.0</td>\n",
       "      <td>24.0</td>\n",
       "      <td>normal</td>\n",
       "      <td>normal</td>\n",
       "      <td>pale_pink</td>\n",
       "      <td>less_3_sec</td>\n",
       "      <td>mild_pain</td>\n",
       "      <td>hypomotile</td>\n",
       "      <td>none</td>\n",
       "      <td>...</td>\n",
       "      <td>33.0</td>\n",
       "      <td>6.7</td>\n",
       "      <td>lived</td>\n",
       "      <td>0</td>\n",
       "      <td>0</td>\n",
       "      <td>0</td>\n",
       "      <td>0</td>\n",
       "      <td>0</td>\n",
       "      <td>0</td>\n",
       "      <td>1</td>\n",
       "    </tr>\n",
       "    <tr>\n",
       "      <th>3</th>\n",
       "      <td>39.1</td>\n",
       "      <td>164.0</td>\n",
       "      <td>84.0</td>\n",
       "      <td>cold</td>\n",
       "      <td>normal</td>\n",
       "      <td>dark_cyanotic</td>\n",
       "      <td>more_3_sec</td>\n",
       "      <td>depressed</td>\n",
       "      <td>absent</td>\n",
       "      <td>severe</td>\n",
       "      <td>...</td>\n",
       "      <td>48.0</td>\n",
       "      <td>7.2</td>\n",
       "      <td>died</td>\n",
       "      <td>2208</td>\n",
       "      <td>0</td>\n",
       "      <td>0</td>\n",
       "      <td>1</td>\n",
       "      <td>1</td>\n",
       "      <td>1</td>\n",
       "      <td>1</td>\n",
       "    </tr>\n",
       "    <tr>\n",
       "      <th>4</th>\n",
       "      <td>37.3</td>\n",
       "      <td>104.0</td>\n",
       "      <td>35.0</td>\n",
       "      <td>&lt;UNK&gt;</td>\n",
       "      <td>&lt;UNK&gt;</td>\n",
       "      <td>dark_cyanotic</td>\n",
       "      <td>more_3_sec</td>\n",
       "      <td>&lt;UNK&gt;</td>\n",
       "      <td>&lt;UNK&gt;</td>\n",
       "      <td>&lt;UNK&gt;</td>\n",
       "      <td>...</td>\n",
       "      <td>74.0</td>\n",
       "      <td>7.4</td>\n",
       "      <td>died</td>\n",
       "      <td>4300</td>\n",
       "      <td>0</td>\n",
       "      <td>0</td>\n",
       "      <td>0</td>\n",
       "      <td>0</td>\n",
       "      <td>0</td>\n",
       "      <td>0</td>\n",
       "    </tr>\n",
       "  </tbody>\n",
       "</table>\n",
       "<p>5 rows × 24 columns</p>\n",
       "</div>"
      ],
      "text/plain": [
       "   rectal_temp  pulse  respiratory_rate temp_of_extremities peripheral_pulse  \\\n",
       "0         38.5   66.0              28.0                cool          reduced   \n",
       "1         39.2   88.0              20.0               <UNK>            <UNK>   \n",
       "2         38.3   40.0              24.0              normal           normal   \n",
       "3         39.1  164.0              84.0                cold           normal   \n",
       "4         37.3  104.0              35.0               <UNK>            <UNK>   \n",
       "\n",
       "  mucous_membrane capillary_refill_time          pain peristalsis  \\\n",
       "0           <UNK>            more_3_sec  extreme_pain      absent   \n",
       "1   pale_cyanotic            less_3_sec     mild_pain      absent   \n",
       "2       pale_pink            less_3_sec     mild_pain  hypomotile   \n",
       "3   dark_cyanotic            more_3_sec     depressed      absent   \n",
       "4   dark_cyanotic            more_3_sec         <UNK>       <UNK>   \n",
       "\n",
       "  abdominal_distention   ...    packed_cell_volume total_protein     outcome  \\\n",
       "0               severe   ...                  45.0           8.4        died   \n",
       "1               slight   ...                  50.0          85.0  euthanized   \n",
       "2                 none   ...                  33.0           6.7       lived   \n",
       "3               severe   ...                  48.0           7.2        died   \n",
       "4                <UNK>   ...                  74.0           7.4        died   \n",
       "\n",
       "  lesion_1  lesion_2  lesion_3 surgery  young  surgical_lesion  cp_data  \n",
       "0    11300         0         0       0      0                0        0  \n",
       "1     2208         0         0       1      0                0        0  \n",
       "2        0         0         0       0      0                0        1  \n",
       "3     2208         0         0       1      1                1        1  \n",
       "4     4300         0         0       0      0                0        0  \n",
       "\n",
       "[5 rows x 24 columns]"
      ]
     },
     "execution_count": 118,
     "metadata": {},
     "output_type": "execute_result"
    }
   ],
   "source": [
    "df.head()"
   ]
  },
  {
   "cell_type": "code",
   "execution_count": 119,
   "metadata": {},
   "outputs": [
    {
     "data": {
      "text/plain": [
       "<matplotlib.axes._subplots.AxesSubplot at 0x7fb4aa2f15c0>"
      ]
     },
     "execution_count": 119,
     "metadata": {},
     "output_type": "execute_result"
    },
    {
     "data": {
      "image/png": "[encoded data removed]",
      "text/plain": [
       "<matplotlib.figure.Figure at 0x7fb4aa2c3668>"
      ]
     },
     "metadata": {
      "needs_background": "light"
     },
     "output_type": "display_data"
    }
   ],
   "source": [
    "sns.boxplot(x='young',y='pulse',data = df)\n",
    "#younger horses have a higher pulse. "
   ]
  },
  {
   "cell_type": "code",
   "execution_count": 120,
   "metadata": {},
   "outputs": [
    {
     "data": {
      "text/plain": [
       "<matplotlib.axes._subplots.AxesSubplot at 0x7fb4aa24beb8>"
      ]
     },
     "execution_count": 120,
     "metadata": {},
     "output_type": "execute_result"
    },
    {
     "data": {
      "image/png": "[encoded data removed]",
      "text/plain": [
       "<matplotlib.figure.Figure at 0x7fb4aa2b5a90>"
      ]
     },
     "metadata": {
      "needs_background": "light"
     },
     "output_type": "display_data"
    }
   ],
   "source": [
    "sns.boxplot(x='outcome',y='pulse',data = df)"
   ]
  },
  {
   "cell_type": "code",
   "execution_count": 121,
   "metadata": {},
   "outputs": [
    {
     "data": {
      "text/plain": [
       "<matplotlib.axes._subplots.AxesSubplot at 0x7fb4aa1d07b8>"
      ]
     },
     "execution_count": 121,
     "metadata": {},
     "output_type": "execute_result"
    },
    {
     "data": {
      "image/png": "[encoded data removed]",
      "text/plain": [
       "<matplotlib.figure.Figure at 0x7fb4aa1c2d68>"
      ]
     },
     "metadata": {
      "needs_background": "light"
     },
     "output_type": "display_data"
    }
   ],
   "source": [
    "sns.countplot(x='lesion_1',data = df)"
   ]
  },
  {
   "cell_type": "code",
   "execution_count": 122,
   "metadata": {},
   "outputs": [
    {
     "data": {
      "text/plain": [
       "array([11300,  2208,     0,  4300,  3124,  3205,  2124,  2111,  4124,\n",
       "        2112,  3207,  1400,  4205,  3111,  4122,  2207,  2209,  1124,\n",
       "        7111,  5205,  2113,  9400,  2305,  7209,  7400,  3112,  3209,\n",
       "        2322, 11124,  3025,  2205,  5206,   400,  5000,  5400, 31110,\n",
       "        2206,  5124,  7113,  6209,  3400,  6112,  6111,  1111,  2300,\n",
       "       21110,  4111,  3133,  5111,   300,  3115,  9000,  3300,  3113,\n",
       "       41110, 11400, 12208,  4206,  4207,  8300,  8400])"
      ]
     },
     "execution_count": 122,
     "metadata": {},
     "output_type": "execute_result"
    }
   ],
   "source": [
    "df['lesion_1'].unique()"
   ]
  },
  {
   "cell_type": "code",
   "execution_count": 123,
   "metadata": {},
   "outputs": [
    {
     "data": {
      "text/plain": [
       "<matplotlib.axes._subplots.AxesSubplot at 0x7fb4aa0dee80>"
      ]
     },
     "execution_count": 123,
     "metadata": {},
     "output_type": "execute_result"
    },
    {
     "data": {
      "image/png": "[encoded data removed]",
      "text/plain": [
       "<matplotlib.figure.Figure at 0x7fb4aa0850f0>"
      ]
     },
     "metadata": {
      "needs_background": "light"
     },
     "output_type": "display_data"
    }
   ],
   "source": [
    "sns.countplot(x='lesion_2',data = df)"
   ]
  },
  {
   "cell_type": "code",
   "execution_count": 124,
   "metadata": {},
   "outputs": [
    {
     "data": {
      "text/plain": [
       "<matplotlib.axes._subplots.AxesSubplot at 0x7fb4a9fcc550>"
      ]
     },
     "execution_count": 124,
     "metadata": {},
     "output_type": "execute_result"
    },
    {
     "data": {
      "image/png": "[encoded data removed]",
      "text/plain": [
       "<matplotlib.figure.Figure at 0x7fb4aa01fcf8>"
      ]
     },
     "metadata": {
      "needs_background": "light"
     },
     "output_type": "display_data"
    }
   ],
   "source": [
    "sns.countplot(x='lesion_3',data = df)"
   ]
  },
  {
   "cell_type": "code",
   "execution_count": 125,
   "metadata": {},
   "outputs": [
    {
     "data": {
      "text/plain": [
       "<matplotlib.axes._subplots.AxesSubplot at 0x7fb4aa04b588>"
      ]
     },
     "execution_count": 125,
     "metadata": {},
     "output_type": "execute_result"
    },
    {
     "data": {
      "image/png": "[encoded data removed]",
      "text/plain": [
       "<matplotlib.figure.Figure at 0x7fb4aa377fd0>"
      ]
     },
     "metadata": {
      "needs_background": "light"
     },
     "output_type": "display_data"
    }
   ],
   "source": [
    "sns.countplot(x='surgical_lesion',data = df)"
   ]
  },
  {
   "cell_type": "code",
   "execution_count": 126,
   "metadata": {},
   "outputs": [],
   "source": [
    "## so far, an extensive eda has been performed , and missing values have been imputed for numerical data.\n",
    "##now, coming to categorical a token <UNK> has been assigned. "
   ]
  },
  {
   "cell_type": "code",
   "execution_count": 127,
   "metadata": {},
   "outputs": [
    {
     "data": {
      "text/html": [
       "<div>\n",
       "<style scoped>\n",
       "    .dataframe tbody tr th:only-of-type {\n",
       "        vertical-align: middle;\n",
       "    }\n",
       "\n",
       "    .dataframe tbody tr th {\n",
       "        vertical-align: top;\n",
       "    }\n",
       "\n",
       "    .dataframe thead th {\n",
       "        text-align: right;\n",
       "    }\n",
       "</style>\n",
       "<table border=\"1\" class=\"dataframe\">\n",
       "  <thead>\n",
       "    <tr style=\"text-align: right;\">\n",
       "      <th></th>\n",
       "      <th>rectal_temp</th>\n",
       "      <th>pulse</th>\n",
       "      <th>respiratory_rate</th>\n",
       "      <th>temp_of_extremities</th>\n",
       "      <th>peripheral_pulse</th>\n",
       "      <th>mucous_membrane</th>\n",
       "      <th>capillary_refill_time</th>\n",
       "      <th>pain</th>\n",
       "      <th>peristalsis</th>\n",
       "      <th>abdominal_distention</th>\n",
       "      <th>...</th>\n",
       "      <th>packed_cell_volume</th>\n",
       "      <th>total_protein</th>\n",
       "      <th>outcome</th>\n",
       "      <th>lesion_1</th>\n",
       "      <th>lesion_2</th>\n",
       "      <th>lesion_3</th>\n",
       "      <th>surgery</th>\n",
       "      <th>young</th>\n",
       "      <th>surgical_lesion</th>\n",
       "      <th>cp_data</th>\n",
       "    </tr>\n",
       "  </thead>\n",
       "  <tbody>\n",
       "    <tr>\n",
       "      <th>0</th>\n",
       "      <td>38.500000</td>\n",
       "      <td>66.0</td>\n",
       "      <td>28.000000</td>\n",
       "      <td>cool</td>\n",
       "      <td>reduced</td>\n",
       "      <td>&lt;UNK&gt;</td>\n",
       "      <td>more_3_sec</td>\n",
       "      <td>extreme_pain</td>\n",
       "      <td>absent</td>\n",
       "      <td>severe</td>\n",
       "      <td>...</td>\n",
       "      <td>45.000000</td>\n",
       "      <td>8.400000</td>\n",
       "      <td>died</td>\n",
       "      <td>11300</td>\n",
       "      <td>0</td>\n",
       "      <td>0</td>\n",
       "      <td>0</td>\n",
       "      <td>0</td>\n",
       "      <td>0</td>\n",
       "      <td>0</td>\n",
       "    </tr>\n",
       "    <tr>\n",
       "      <th>1</th>\n",
       "      <td>39.200000</td>\n",
       "      <td>88.0</td>\n",
       "      <td>20.000000</td>\n",
       "      <td>&lt;UNK&gt;</td>\n",
       "      <td>&lt;UNK&gt;</td>\n",
       "      <td>pale_cyanotic</td>\n",
       "      <td>less_3_sec</td>\n",
       "      <td>mild_pain</td>\n",
       "      <td>absent</td>\n",
       "      <td>slight</td>\n",
       "      <td>...</td>\n",
       "      <td>50.000000</td>\n",
       "      <td>85.000000</td>\n",
       "      <td>euthanized</td>\n",
       "      <td>2208</td>\n",
       "      <td>0</td>\n",
       "      <td>0</td>\n",
       "      <td>1</td>\n",
       "      <td>0</td>\n",
       "      <td>0</td>\n",
       "      <td>0</td>\n",
       "    </tr>\n",
       "    <tr>\n",
       "      <th>2</th>\n",
       "      <td>38.300000</td>\n",
       "      <td>40.0</td>\n",
       "      <td>24.000000</td>\n",
       "      <td>normal</td>\n",
       "      <td>normal</td>\n",
       "      <td>pale_pink</td>\n",
       "      <td>less_3_sec</td>\n",
       "      <td>mild_pain</td>\n",
       "      <td>hypomotile</td>\n",
       "      <td>none</td>\n",
       "      <td>...</td>\n",
       "      <td>33.000000</td>\n",
       "      <td>6.700000</td>\n",
       "      <td>lived</td>\n",
       "      <td>0</td>\n",
       "      <td>0</td>\n",
       "      <td>0</td>\n",
       "      <td>0</td>\n",
       "      <td>0</td>\n",
       "      <td>0</td>\n",
       "      <td>1</td>\n",
       "    </tr>\n",
       "    <tr>\n",
       "      <th>3</th>\n",
       "      <td>39.100000</td>\n",
       "      <td>164.0</td>\n",
       "      <td>84.000000</td>\n",
       "      <td>cold</td>\n",
       "      <td>normal</td>\n",
       "      <td>dark_cyanotic</td>\n",
       "      <td>more_3_sec</td>\n",
       "      <td>depressed</td>\n",
       "      <td>absent</td>\n",
       "      <td>severe</td>\n",
       "      <td>...</td>\n",
       "      <td>48.000000</td>\n",
       "      <td>7.200000</td>\n",
       "      <td>died</td>\n",
       "      <td>2208</td>\n",
       "      <td>0</td>\n",
       "      <td>0</td>\n",
       "      <td>1</td>\n",
       "      <td>1</td>\n",
       "      <td>1</td>\n",
       "      <td>1</td>\n",
       "    </tr>\n",
       "    <tr>\n",
       "      <th>4</th>\n",
       "      <td>37.300000</td>\n",
       "      <td>104.0</td>\n",
       "      <td>35.000000</td>\n",
       "      <td>&lt;UNK&gt;</td>\n",
       "      <td>&lt;UNK&gt;</td>\n",
       "      <td>dark_cyanotic</td>\n",
       "      <td>more_3_sec</td>\n",
       "      <td>&lt;UNK&gt;</td>\n",
       "      <td>&lt;UNK&gt;</td>\n",
       "      <td>&lt;UNK&gt;</td>\n",
       "      <td>...</td>\n",
       "      <td>74.000000</td>\n",
       "      <td>7.400000</td>\n",
       "      <td>died</td>\n",
       "      <td>4300</td>\n",
       "      <td>0</td>\n",
       "      <td>0</td>\n",
       "      <td>0</td>\n",
       "      <td>0</td>\n",
       "      <td>0</td>\n",
       "      <td>0</td>\n",
       "    </tr>\n",
       "    <tr>\n",
       "      <th>5</th>\n",
       "      <td>38.168619</td>\n",
       "      <td>72.0</td>\n",
       "      <td>30.460581</td>\n",
       "      <td>warm</td>\n",
       "      <td>normal</td>\n",
       "      <td>pale_pink</td>\n",
       "      <td>less_3_sec</td>\n",
       "      <td>depressed</td>\n",
       "      <td>hypomotile</td>\n",
       "      <td>slight</td>\n",
       "      <td>...</td>\n",
       "      <td>46.307407</td>\n",
       "      <td>24.274436</td>\n",
       "      <td>lived</td>\n",
       "      <td>0</td>\n",
       "      <td>0</td>\n",
       "      <td>0</td>\n",
       "      <td>0</td>\n",
       "      <td>0</td>\n",
       "      <td>0</td>\n",
       "      <td>0</td>\n",
       "    </tr>\n",
       "    <tr>\n",
       "      <th>6</th>\n",
       "      <td>37.900000</td>\n",
       "      <td>48.0</td>\n",
       "      <td>16.000000</td>\n",
       "      <td>normal</td>\n",
       "      <td>normal</td>\n",
       "      <td>normal_pink</td>\n",
       "      <td>less_3_sec</td>\n",
       "      <td>mild_pain</td>\n",
       "      <td>hypomotile</td>\n",
       "      <td>moderate</td>\n",
       "      <td>...</td>\n",
       "      <td>37.000000</td>\n",
       "      <td>7.000000</td>\n",
       "      <td>lived</td>\n",
       "      <td>3124</td>\n",
       "      <td>0</td>\n",
       "      <td>0</td>\n",
       "      <td>1</td>\n",
       "      <td>0</td>\n",
       "      <td>1</td>\n",
       "      <td>0</td>\n",
       "    </tr>\n",
       "    <tr>\n",
       "      <th>7</th>\n",
       "      <td>38.168619</td>\n",
       "      <td>60.0</td>\n",
       "      <td>30.460581</td>\n",
       "      <td>cool</td>\n",
       "      <td>&lt;UNK&gt;</td>\n",
       "      <td>&lt;UNK&gt;</td>\n",
       "      <td>less_3_sec</td>\n",
       "      <td>&lt;UNK&gt;</td>\n",
       "      <td>absent</td>\n",
       "      <td>slight</td>\n",
       "      <td>...</td>\n",
       "      <td>44.000000</td>\n",
       "      <td>8.300000</td>\n",
       "      <td>died</td>\n",
       "      <td>2208</td>\n",
       "      <td>0</td>\n",
       "      <td>0</td>\n",
       "      <td>1</td>\n",
       "      <td>0</td>\n",
       "      <td>1</td>\n",
       "      <td>0</td>\n",
       "    </tr>\n",
       "    <tr>\n",
       "      <th>8</th>\n",
       "      <td>38.168619</td>\n",
       "      <td>80.0</td>\n",
       "      <td>36.000000</td>\n",
       "      <td>cool</td>\n",
       "      <td>absent</td>\n",
       "      <td>pale_pink</td>\n",
       "      <td>less_3_sec</td>\n",
       "      <td>severe_pain</td>\n",
       "      <td>absent</td>\n",
       "      <td>severe</td>\n",
       "      <td>...</td>\n",
       "      <td>38.000000</td>\n",
       "      <td>6.200000</td>\n",
       "      <td>euthanized</td>\n",
       "      <td>3205</td>\n",
       "      <td>0</td>\n",
       "      <td>0</td>\n",
       "      <td>0</td>\n",
       "      <td>0</td>\n",
       "      <td>1</td>\n",
       "      <td>0</td>\n",
       "    </tr>\n",
       "    <tr>\n",
       "      <th>9</th>\n",
       "      <td>38.300000</td>\n",
       "      <td>90.0</td>\n",
       "      <td>30.460581</td>\n",
       "      <td>normal</td>\n",
       "      <td>&lt;UNK&gt;</td>\n",
       "      <td>normal_pink</td>\n",
       "      <td>less_3_sec</td>\n",
       "      <td>extreme_pain</td>\n",
       "      <td>hypomotile</td>\n",
       "      <td>none</td>\n",
       "      <td>...</td>\n",
       "      <td>40.000000</td>\n",
       "      <td>6.200000</td>\n",
       "      <td>lived</td>\n",
       "      <td>0</td>\n",
       "      <td>0</td>\n",
       "      <td>0</td>\n",
       "      <td>0</td>\n",
       "      <td>1</td>\n",
       "      <td>0</td>\n",
       "      <td>1</td>\n",
       "    </tr>\n",
       "    <tr>\n",
       "      <th>10</th>\n",
       "      <td>38.100000</td>\n",
       "      <td>66.0</td>\n",
       "      <td>12.000000</td>\n",
       "      <td>cool</td>\n",
       "      <td>reduced</td>\n",
       "      <td>bright_red</td>\n",
       "      <td>less_3_sec</td>\n",
       "      <td>mild_pain</td>\n",
       "      <td>hypomotile</td>\n",
       "      <td>none</td>\n",
       "      <td>...</td>\n",
       "      <td>44.000000</td>\n",
       "      <td>6.000000</td>\n",
       "      <td>lived</td>\n",
       "      <td>2124</td>\n",
       "      <td>0</td>\n",
       "      <td>0</td>\n",
       "      <td>1</td>\n",
       "      <td>0</td>\n",
       "      <td>1</td>\n",
       "      <td>1</td>\n",
       "    </tr>\n",
       "    <tr>\n",
       "      <th>11</th>\n",
       "      <td>39.100000</td>\n",
       "      <td>72.0</td>\n",
       "      <td>52.000000</td>\n",
       "      <td>warm</td>\n",
       "      <td>&lt;UNK&gt;</td>\n",
       "      <td>bright_pink</td>\n",
       "      <td>less_3_sec</td>\n",
       "      <td>depressed</td>\n",
       "      <td>hypermotile</td>\n",
       "      <td>slight</td>\n",
       "      <td>...</td>\n",
       "      <td>50.000000</td>\n",
       "      <td>7.800000</td>\n",
       "      <td>lived</td>\n",
       "      <td>2111</td>\n",
       "      <td>0</td>\n",
       "      <td>0</td>\n",
       "      <td>0</td>\n",
       "      <td>0</td>\n",
       "      <td>1</td>\n",
       "      <td>0</td>\n",
       "    </tr>\n",
       "    <tr>\n",
       "      <th>12</th>\n",
       "      <td>37.200000</td>\n",
       "      <td>42.0</td>\n",
       "      <td>12.000000</td>\n",
       "      <td>warm</td>\n",
       "      <td>normal</td>\n",
       "      <td>normal_pink</td>\n",
       "      <td>less_3_sec</td>\n",
       "      <td>mild_pain</td>\n",
       "      <td>hypomotile</td>\n",
       "      <td>moderate</td>\n",
       "      <td>...</td>\n",
       "      <td>46.307407</td>\n",
       "      <td>7.000000</td>\n",
       "      <td>lived</td>\n",
       "      <td>4124</td>\n",
       "      <td>0</td>\n",
       "      <td>0</td>\n",
       "      <td>1</td>\n",
       "      <td>0</td>\n",
       "      <td>0</td>\n",
       "      <td>0</td>\n",
       "    </tr>\n",
       "    <tr>\n",
       "      <th>13</th>\n",
       "      <td>38.000000</td>\n",
       "      <td>92.0</td>\n",
       "      <td>28.000000</td>\n",
       "      <td>normal</td>\n",
       "      <td>normal</td>\n",
       "      <td>bright_pink</td>\n",
       "      <td>less_3_sec</td>\n",
       "      <td>alert</td>\n",
       "      <td>hypomotile</td>\n",
       "      <td>slight</td>\n",
       "      <td>...</td>\n",
       "      <td>37.000000</td>\n",
       "      <td>6.100000</td>\n",
       "      <td>died</td>\n",
       "      <td>0</td>\n",
       "      <td>0</td>\n",
       "      <td>0</td>\n",
       "      <td>0</td>\n",
       "      <td>1</td>\n",
       "      <td>0</td>\n",
       "      <td>1</td>\n",
       "    </tr>\n",
       "    <tr>\n",
       "      <th>14</th>\n",
       "      <td>38.200000</td>\n",
       "      <td>76.0</td>\n",
       "      <td>28.000000</td>\n",
       "      <td>cool</td>\n",
       "      <td>normal</td>\n",
       "      <td>normal_pink</td>\n",
       "      <td>less_3_sec</td>\n",
       "      <td>mild_pain</td>\n",
       "      <td>absent</td>\n",
       "      <td>none</td>\n",
       "      <td>...</td>\n",
       "      <td>46.000000</td>\n",
       "      <td>81.000000</td>\n",
       "      <td>lived</td>\n",
       "      <td>2112</td>\n",
       "      <td>0</td>\n",
       "      <td>0</td>\n",
       "      <td>1</td>\n",
       "      <td>0</td>\n",
       "      <td>1</td>\n",
       "      <td>0</td>\n",
       "    </tr>\n",
       "    <tr>\n",
       "      <th>15</th>\n",
       "      <td>37.600000</td>\n",
       "      <td>96.0</td>\n",
       "      <td>48.000000</td>\n",
       "      <td>cool</td>\n",
       "      <td>normal</td>\n",
       "      <td>pale_cyanotic</td>\n",
       "      <td>less_3_sec</td>\n",
       "      <td>extreme_pain</td>\n",
       "      <td>hypomotile</td>\n",
       "      <td>moderate</td>\n",
       "      <td>...</td>\n",
       "      <td>45.000000</td>\n",
       "      <td>6.800000</td>\n",
       "      <td>died</td>\n",
       "      <td>3207</td>\n",
       "      <td>0</td>\n",
       "      <td>0</td>\n",
       "      <td>1</td>\n",
       "      <td>0</td>\n",
       "      <td>1</td>\n",
       "      <td>0</td>\n",
       "    </tr>\n",
       "    <tr>\n",
       "      <th>16</th>\n",
       "      <td>38.168619</td>\n",
       "      <td>128.0</td>\n",
       "      <td>36.000000</td>\n",
       "      <td>cool</td>\n",
       "      <td>reduced</td>\n",
       "      <td>pale_cyanotic</td>\n",
       "      <td>more_3_sec</td>\n",
       "      <td>severe_pain</td>\n",
       "      <td>absent</td>\n",
       "      <td>moderate</td>\n",
       "      <td>...</td>\n",
       "      <td>53.000000</td>\n",
       "      <td>7.800000</td>\n",
       "      <td>died</td>\n",
       "      <td>1400</td>\n",
       "      <td>0</td>\n",
       "      <td>0</td>\n",
       "      <td>1</td>\n",
       "      <td>1</td>\n",
       "      <td>0</td>\n",
       "      <td>1</td>\n",
       "    </tr>\n",
       "    <tr>\n",
       "      <th>17</th>\n",
       "      <td>37.500000</td>\n",
       "      <td>48.0</td>\n",
       "      <td>24.000000</td>\n",
       "      <td>&lt;UNK&gt;</td>\n",
       "      <td>&lt;UNK&gt;</td>\n",
       "      <td>&lt;UNK&gt;</td>\n",
       "      <td>&lt;UNK&gt;</td>\n",
       "      <td>&lt;UNK&gt;</td>\n",
       "      <td>&lt;UNK&gt;</td>\n",
       "      <td>&lt;UNK&gt;</td>\n",
       "      <td>...</td>\n",
       "      <td>46.307407</td>\n",
       "      <td>24.274436</td>\n",
       "      <td>lived</td>\n",
       "      <td>0</td>\n",
       "      <td>0</td>\n",
       "      <td>0</td>\n",
       "      <td>0</td>\n",
       "      <td>0</td>\n",
       "      <td>0</td>\n",
       "      <td>0</td>\n",
       "    </tr>\n",
       "    <tr>\n",
       "      <th>18</th>\n",
       "      <td>37.600000</td>\n",
       "      <td>64.0</td>\n",
       "      <td>21.000000</td>\n",
       "      <td>normal</td>\n",
       "      <td>normal</td>\n",
       "      <td>bright_pink</td>\n",
       "      <td>less_3_sec</td>\n",
       "      <td>depressed</td>\n",
       "      <td>hypomotile</td>\n",
       "      <td>none</td>\n",
       "      <td>...</td>\n",
       "      <td>40.000000</td>\n",
       "      <td>7.000000</td>\n",
       "      <td>lived</td>\n",
       "      <td>4205</td>\n",
       "      <td>0</td>\n",
       "      <td>0</td>\n",
       "      <td>1</td>\n",
       "      <td>0</td>\n",
       "      <td>1</td>\n",
       "      <td>1</td>\n",
       "    </tr>\n",
       "    <tr>\n",
       "      <th>19</th>\n",
       "      <td>39.400000</td>\n",
       "      <td>110.0</td>\n",
       "      <td>35.000000</td>\n",
       "      <td>cold</td>\n",
       "      <td>reduced</td>\n",
       "      <td>dark_cyanotic</td>\n",
       "      <td>&lt;UNK&gt;</td>\n",
       "      <td>&lt;UNK&gt;</td>\n",
       "      <td>hypomotile</td>\n",
       "      <td>moderate</td>\n",
       "      <td>...</td>\n",
       "      <td>55.000000</td>\n",
       "      <td>8.700000</td>\n",
       "      <td>lived</td>\n",
       "      <td>0</td>\n",
       "      <td>0</td>\n",
       "      <td>0</td>\n",
       "      <td>0</td>\n",
       "      <td>0</td>\n",
       "      <td>0</td>\n",
       "      <td>0</td>\n",
       "    </tr>\n",
       "  </tbody>\n",
       "</table>\n",
       "<p>20 rows × 24 columns</p>\n",
       "</div>"
      ],
      "text/plain": [
       "    rectal_temp  pulse  respiratory_rate temp_of_extremities peripheral_pulse  \\\n",
       "0     38.500000   66.0         28.000000                cool          reduced   \n",
       "1     39.200000   88.0         20.000000               <UNK>            <UNK>   \n",
       "2     38.300000   40.0         24.000000              normal           normal   \n",
       "3     39.100000  164.0         84.000000                cold           normal   \n",
       "4     37.300000  104.0         35.000000               <UNK>            <UNK>   \n",
       "5     38.168619   72.0         30.460581                warm           normal   \n",
       "6     37.900000   48.0         16.000000              normal           normal   \n",
       "7     38.168619   60.0         30.460581                cool            <UNK>   \n",
       "8     38.168619   80.0         36.000000                cool           absent   \n",
       "9     38.300000   90.0         30.460581              normal            <UNK>   \n",
       "10    38.100000   66.0         12.000000                cool          reduced   \n",
       "11    39.100000   72.0         52.000000                warm            <UNK>   \n",
       "12    37.200000   42.0         12.000000                warm           normal   \n",
       "13    38.000000   92.0         28.000000              normal           normal   \n",
       "14    38.200000   76.0         28.000000                cool           normal   \n",
       "15    37.600000   96.0         48.000000                cool           normal   \n",
       "16    38.168619  128.0         36.000000                cool          reduced   \n",
       "17    37.500000   48.0         24.000000               <UNK>            <UNK>   \n",
       "18    37.600000   64.0         21.000000              normal           normal   \n",
       "19    39.400000  110.0         35.000000                cold          reduced   \n",
       "\n",
       "   mucous_membrane capillary_refill_time          pain  peristalsis  \\\n",
       "0            <UNK>            more_3_sec  extreme_pain       absent   \n",
       "1    pale_cyanotic            less_3_sec     mild_pain       absent   \n",
       "2        pale_pink            less_3_sec     mild_pain   hypomotile   \n",
       "3    dark_cyanotic            more_3_sec     depressed       absent   \n",
       "4    dark_cyanotic            more_3_sec         <UNK>        <UNK>   \n",
       "5        pale_pink            less_3_sec     depressed   hypomotile   \n",
       "6      normal_pink            less_3_sec     mild_pain   hypomotile   \n",
       "7            <UNK>            less_3_sec         <UNK>       absent   \n",
       "8        pale_pink            less_3_sec   severe_pain       absent   \n",
       "9      normal_pink            less_3_sec  extreme_pain   hypomotile   \n",
       "10      bright_red            less_3_sec     mild_pain   hypomotile   \n",
       "11     bright_pink            less_3_sec     depressed  hypermotile   \n",
       "12     normal_pink            less_3_sec     mild_pain   hypomotile   \n",
       "13     bright_pink            less_3_sec         alert   hypomotile   \n",
       "14     normal_pink            less_3_sec     mild_pain       absent   \n",
       "15   pale_cyanotic            less_3_sec  extreme_pain   hypomotile   \n",
       "16   pale_cyanotic            more_3_sec   severe_pain       absent   \n",
       "17           <UNK>                 <UNK>         <UNK>        <UNK>   \n",
       "18     bright_pink            less_3_sec     depressed   hypomotile   \n",
       "19   dark_cyanotic                 <UNK>         <UNK>   hypomotile   \n",
       "\n",
       "   abdominal_distention   ...    packed_cell_volume total_protein     outcome  \\\n",
       "0                severe   ...             45.000000      8.400000        died   \n",
       "1                slight   ...             50.000000     85.000000  euthanized   \n",
       "2                  none   ...             33.000000      6.700000       lived   \n",
       "3                severe   ...             48.000000      7.200000        died   \n",
       "4                 <UNK>   ...             74.000000      7.400000        died   \n",
       "5                slight   ...             46.307407     24.274436       lived   \n",
       "6              moderate   ...             37.000000      7.000000       lived   \n",
       "7                slight   ...             44.000000      8.300000        died   \n",
       "8                severe   ...             38.000000      6.200000  euthanized   \n",
       "9                  none   ...             40.000000      6.200000       lived   \n",
       "10                 none   ...             44.000000      6.000000       lived   \n",
       "11               slight   ...             50.000000      7.800000       lived   \n",
       "12             moderate   ...             46.307407      7.000000       lived   \n",
       "13               slight   ...             37.000000      6.100000        died   \n",
       "14                 none   ...             46.000000     81.000000       lived   \n",
       "15             moderate   ...             45.000000      6.800000        died   \n",
       "16             moderate   ...             53.000000      7.800000        died   \n",
       "17                <UNK>   ...             46.307407     24.274436       lived   \n",
       "18                 none   ...             40.000000      7.000000       lived   \n",
       "19             moderate   ...             55.000000      8.700000       lived   \n",
       "\n",
       "   lesion_1  lesion_2  lesion_3 surgery  young  surgical_lesion  cp_data  \n",
       "0     11300         0         0       0      0                0        0  \n",
       "1      2208         0         0       1      0                0        0  \n",
       "2         0         0         0       0      0                0        1  \n",
       "3      2208         0         0       1      1                1        1  \n",
       "4      4300         0         0       0      0                0        0  \n",
       "5         0         0         0       0      0                0        0  \n",
       "6      3124         0         0       1      0                1        0  \n",
       "7      2208         0         0       1      0                1        0  \n",
       "8      3205         0         0       0      0                1        0  \n",
       "9         0         0         0       0      1                0        1  \n",
       "10     2124         0         0       1      0                1        1  \n",
       "11     2111         0         0       0      0                1        0  \n",
       "12     4124         0         0       1      0                0        0  \n",
       "13        0         0         0       0      1                0        1  \n",
       "14     2112         0         0       1      0                1        0  \n",
       "15     3207         0         0       1      0                1        0  \n",
       "16     1400         0         0       1      1                0        1  \n",
       "17        0         0         0       0      0                0        0  \n",
       "18     4205         0         0       1      0                1        1  \n",
       "19        0         0         0       0      0                0        0  \n",
       "\n",
       "[20 rows x 24 columns]"
      ]
     },
     "execution_count": 127,
     "metadata": {},
     "output_type": "execute_result"
    }
   ],
   "source": [
    "df.head(20)"
   ]
  },
  {
   "cell_type": "code",
   "execution_count": 128,
   "metadata": {},
   "outputs": [],
   "source": [
    "df_copy = df.copy()\n",
    "df_copy_2 = df.copy()\n"
   ]
  },
  {
   "cell_type": "code",
   "execution_count": 129,
   "metadata": {},
   "outputs": [
    {
     "data": {
      "text/html": [
       "<div>\n",
       "<style scoped>\n",
       "    .dataframe tbody tr th:only-of-type {\n",
       "        vertical-align: middle;\n",
       "    }\n",
       "\n",
       "    .dataframe tbody tr th {\n",
       "        vertical-align: top;\n",
       "    }\n",
       "\n",
       "    .dataframe thead th {\n",
       "        text-align: right;\n",
       "    }\n",
       "</style>\n",
       "<table border=\"1\" class=\"dataframe\">\n",
       "  <thead>\n",
       "    <tr style=\"text-align: right;\">\n",
       "      <th></th>\n",
       "      <th>rectal_temp</th>\n",
       "      <th>pulse</th>\n",
       "      <th>respiratory_rate</th>\n",
       "      <th>temp_of_extremities</th>\n",
       "      <th>peripheral_pulse</th>\n",
       "      <th>mucous_membrane</th>\n",
       "      <th>capillary_refill_time</th>\n",
       "      <th>pain</th>\n",
       "      <th>peristalsis</th>\n",
       "      <th>abdominal_distention</th>\n",
       "      <th>...</th>\n",
       "      <th>packed_cell_volume</th>\n",
       "      <th>total_protein</th>\n",
       "      <th>outcome</th>\n",
       "      <th>lesion_1</th>\n",
       "      <th>lesion_2</th>\n",
       "      <th>lesion_3</th>\n",
       "      <th>surgery</th>\n",
       "      <th>young</th>\n",
       "      <th>surgical_lesion</th>\n",
       "      <th>cp_data</th>\n",
       "    </tr>\n",
       "  </thead>\n",
       "  <tbody>\n",
       "    <tr>\n",
       "      <th>0</th>\n",
       "      <td>38.5</td>\n",
       "      <td>66.0</td>\n",
       "      <td>28.0</td>\n",
       "      <td>cool</td>\n",
       "      <td>reduced</td>\n",
       "      <td>&lt;UNK&gt;</td>\n",
       "      <td>more_3_sec</td>\n",
       "      <td>extreme_pain</td>\n",
       "      <td>absent</td>\n",
       "      <td>severe</td>\n",
       "      <td>...</td>\n",
       "      <td>45.0</td>\n",
       "      <td>8.4</td>\n",
       "      <td>died</td>\n",
       "      <td>11300</td>\n",
       "      <td>0</td>\n",
       "      <td>0</td>\n",
       "      <td>0</td>\n",
       "      <td>0</td>\n",
       "      <td>0</td>\n",
       "      <td>0</td>\n",
       "    </tr>\n",
       "    <tr>\n",
       "      <th>1</th>\n",
       "      <td>39.2</td>\n",
       "      <td>88.0</td>\n",
       "      <td>20.0</td>\n",
       "      <td>&lt;UNK&gt;</td>\n",
       "      <td>&lt;UNK&gt;</td>\n",
       "      <td>pale_cyanotic</td>\n",
       "      <td>less_3_sec</td>\n",
       "      <td>mild_pain</td>\n",
       "      <td>absent</td>\n",
       "      <td>slight</td>\n",
       "      <td>...</td>\n",
       "      <td>50.0</td>\n",
       "      <td>85.0</td>\n",
       "      <td>euthanized</td>\n",
       "      <td>2208</td>\n",
       "      <td>0</td>\n",
       "      <td>0</td>\n",
       "      <td>1</td>\n",
       "      <td>0</td>\n",
       "      <td>0</td>\n",
       "      <td>0</td>\n",
       "    </tr>\n",
       "    <tr>\n",
       "      <th>2</th>\n",
       "      <td>38.3</td>\n",
       "      <td>40.0</td>\n",
       "      <td>24.0</td>\n",
       "      <td>normal</td>\n",
       "      <td>normal</td>\n",
       "      <td>pale_pink</td>\n",
       "      <td>less_3_sec</td>\n",
       "      <td>mild_pain</td>\n",
       "      <td>hypomotile</td>\n",
       "      <td>none</td>\n",
       "      <td>...</td>\n",
       "      <td>33.0</td>\n",
       "      <td>6.7</td>\n",
       "      <td>lived</td>\n",
       "      <td>0</td>\n",
       "      <td>0</td>\n",
       "      <td>0</td>\n",
       "      <td>0</td>\n",
       "      <td>0</td>\n",
       "      <td>0</td>\n",
       "      <td>1</td>\n",
       "    </tr>\n",
       "    <tr>\n",
       "      <th>3</th>\n",
       "      <td>39.1</td>\n",
       "      <td>164.0</td>\n",
       "      <td>84.0</td>\n",
       "      <td>cold</td>\n",
       "      <td>normal</td>\n",
       "      <td>dark_cyanotic</td>\n",
       "      <td>more_3_sec</td>\n",
       "      <td>depressed</td>\n",
       "      <td>absent</td>\n",
       "      <td>severe</td>\n",
       "      <td>...</td>\n",
       "      <td>48.0</td>\n",
       "      <td>7.2</td>\n",
       "      <td>died</td>\n",
       "      <td>2208</td>\n",
       "      <td>0</td>\n",
       "      <td>0</td>\n",
       "      <td>1</td>\n",
       "      <td>1</td>\n",
       "      <td>1</td>\n",
       "      <td>1</td>\n",
       "    </tr>\n",
       "    <tr>\n",
       "      <th>4</th>\n",
       "      <td>37.3</td>\n",
       "      <td>104.0</td>\n",
       "      <td>35.0</td>\n",
       "      <td>&lt;UNK&gt;</td>\n",
       "      <td>&lt;UNK&gt;</td>\n",
       "      <td>dark_cyanotic</td>\n",
       "      <td>more_3_sec</td>\n",
       "      <td>&lt;UNK&gt;</td>\n",
       "      <td>&lt;UNK&gt;</td>\n",
       "      <td>&lt;UNK&gt;</td>\n",
       "      <td>...</td>\n",
       "      <td>74.0</td>\n",
       "      <td>7.4</td>\n",
       "      <td>died</td>\n",
       "      <td>4300</td>\n",
       "      <td>0</td>\n",
       "      <td>0</td>\n",
       "      <td>0</td>\n",
       "      <td>0</td>\n",
       "      <td>0</td>\n",
       "      <td>0</td>\n",
       "    </tr>\n",
       "  </tbody>\n",
       "</table>\n",
       "<p>5 rows × 24 columns</p>\n",
       "</div>"
      ],
      "text/plain": [
       "   rectal_temp  pulse  respiratory_rate temp_of_extremities peripheral_pulse  \\\n",
       "0         38.5   66.0              28.0                cool          reduced   \n",
       "1         39.2   88.0              20.0               <UNK>            <UNK>   \n",
       "2         38.3   40.0              24.0              normal           normal   \n",
       "3         39.1  164.0              84.0                cold           normal   \n",
       "4         37.3  104.0              35.0               <UNK>            <UNK>   \n",
       "\n",
       "  mucous_membrane capillary_refill_time          pain peristalsis  \\\n",
       "0           <UNK>            more_3_sec  extreme_pain      absent   \n",
       "1   pale_cyanotic            less_3_sec     mild_pain      absent   \n",
       "2       pale_pink            less_3_sec     mild_pain  hypomotile   \n",
       "3   dark_cyanotic            more_3_sec     depressed      absent   \n",
       "4   dark_cyanotic            more_3_sec         <UNK>       <UNK>   \n",
       "\n",
       "  abdominal_distention   ...    packed_cell_volume total_protein     outcome  \\\n",
       "0               severe   ...                  45.0           8.4        died   \n",
       "1               slight   ...                  50.0          85.0  euthanized   \n",
       "2                 none   ...                  33.0           6.7       lived   \n",
       "3               severe   ...                  48.0           7.2        died   \n",
       "4                <UNK>   ...                  74.0           7.4        died   \n",
       "\n",
       "  lesion_1  lesion_2  lesion_3 surgery  young  surgical_lesion  cp_data  \n",
       "0    11300         0         0       0      0                0        0  \n",
       "1     2208         0         0       1      0                0        0  \n",
       "2        0         0         0       0      0                0        1  \n",
       "3     2208         0         0       1      1                1        1  \n",
       "4     4300         0         0       0      0                0        0  \n",
       "\n",
       "[5 rows x 24 columns]"
      ]
     },
     "execution_count": 129,
     "metadata": {},
     "output_type": "execute_result"
    }
   ],
   "source": [
    "df_copy_2.head()#will use to concat"
   ]
  },
  {
   "cell_type": "code",
   "execution_count": 130,
   "metadata": {},
   "outputs": [],
   "source": [
    "df_copy_2.drop(['temp_of_extremities','peripheral_pulse', 'mucous_membrane', 'capillary_refill_time', 'pain','peristalsis', 'abdominal_distention', 'nasogastric_tube',\n",
    "       'nasogastric_reflux', 'rectal_exam_feces', 'abdomen','outcome'],axis=1,inplace=True)"
   ]
  },
  {
   "cell_type": "code",
   "execution_count": 131,
   "metadata": {},
   "outputs": [
    {
     "data": {
      "text/html": [
       "<div>\n",
       "<style scoped>\n",
       "    .dataframe tbody tr th:only-of-type {\n",
       "        vertical-align: middle;\n",
       "    }\n",
       "\n",
       "    .dataframe tbody tr th {\n",
       "        vertical-align: top;\n",
       "    }\n",
       "\n",
       "    .dataframe thead th {\n",
       "        text-align: right;\n",
       "    }\n",
       "</style>\n",
       "<table border=\"1\" class=\"dataframe\">\n",
       "  <thead>\n",
       "    <tr style=\"text-align: right;\">\n",
       "      <th></th>\n",
       "      <th>rectal_temp</th>\n",
       "      <th>pulse</th>\n",
       "      <th>respiratory_rate</th>\n",
       "      <th>packed_cell_volume</th>\n",
       "      <th>total_protein</th>\n",
       "      <th>lesion_1</th>\n",
       "      <th>lesion_2</th>\n",
       "      <th>lesion_3</th>\n",
       "      <th>surgery</th>\n",
       "      <th>young</th>\n",
       "      <th>surgical_lesion</th>\n",
       "      <th>cp_data</th>\n",
       "    </tr>\n",
       "  </thead>\n",
       "  <tbody>\n",
       "    <tr>\n",
       "      <th>0</th>\n",
       "      <td>38.5</td>\n",
       "      <td>66.0</td>\n",
       "      <td>28.0</td>\n",
       "      <td>45.0</td>\n",
       "      <td>8.4</td>\n",
       "      <td>11300</td>\n",
       "      <td>0</td>\n",
       "      <td>0</td>\n",
       "      <td>0</td>\n",
       "      <td>0</td>\n",
       "      <td>0</td>\n",
       "      <td>0</td>\n",
       "    </tr>\n",
       "    <tr>\n",
       "      <th>1</th>\n",
       "      <td>39.2</td>\n",
       "      <td>88.0</td>\n",
       "      <td>20.0</td>\n",
       "      <td>50.0</td>\n",
       "      <td>85.0</td>\n",
       "      <td>2208</td>\n",
       "      <td>0</td>\n",
       "      <td>0</td>\n",
       "      <td>1</td>\n",
       "      <td>0</td>\n",
       "      <td>0</td>\n",
       "      <td>0</td>\n",
       "    </tr>\n",
       "    <tr>\n",
       "      <th>2</th>\n",
       "      <td>38.3</td>\n",
       "      <td>40.0</td>\n",
       "      <td>24.0</td>\n",
       "      <td>33.0</td>\n",
       "      <td>6.7</td>\n",
       "      <td>0</td>\n",
       "      <td>0</td>\n",
       "      <td>0</td>\n",
       "      <td>0</td>\n",
       "      <td>0</td>\n",
       "      <td>0</td>\n",
       "      <td>1</td>\n",
       "    </tr>\n",
       "    <tr>\n",
       "      <th>3</th>\n",
       "      <td>39.1</td>\n",
       "      <td>164.0</td>\n",
       "      <td>84.0</td>\n",
       "      <td>48.0</td>\n",
       "      <td>7.2</td>\n",
       "      <td>2208</td>\n",
       "      <td>0</td>\n",
       "      <td>0</td>\n",
       "      <td>1</td>\n",
       "      <td>1</td>\n",
       "      <td>1</td>\n",
       "      <td>1</td>\n",
       "    </tr>\n",
       "    <tr>\n",
       "      <th>4</th>\n",
       "      <td>37.3</td>\n",
       "      <td>104.0</td>\n",
       "      <td>35.0</td>\n",
       "      <td>74.0</td>\n",
       "      <td>7.4</td>\n",
       "      <td>4300</td>\n",
       "      <td>0</td>\n",
       "      <td>0</td>\n",
       "      <td>0</td>\n",
       "      <td>0</td>\n",
       "      <td>0</td>\n",
       "      <td>0</td>\n",
       "    </tr>\n",
       "  </tbody>\n",
       "</table>\n",
       "</div>"
      ],
      "text/plain": [
       "   rectal_temp  pulse  respiratory_rate  packed_cell_volume  total_protein  \\\n",
       "0         38.5   66.0              28.0                45.0            8.4   \n",
       "1         39.2   88.0              20.0                50.0           85.0   \n",
       "2         38.3   40.0              24.0                33.0            6.7   \n",
       "3         39.1  164.0              84.0                48.0            7.2   \n",
       "4         37.3  104.0              35.0                74.0            7.4   \n",
       "\n",
       "   lesion_1  lesion_2  lesion_3  surgery  young  surgical_lesion  cp_data  \n",
       "0     11300         0         0        0      0                0        0  \n",
       "1      2208         0         0        1      0                0        0  \n",
       "2         0         0         0        0      0                0        1  \n",
       "3      2208         0         0        1      1                1        1  \n",
       "4      4300         0         0        0      0                0        0  "
      ]
     },
     "execution_count": 131,
     "metadata": {},
     "output_type": "execute_result"
    }
   ],
   "source": [
    "df_copy_2.head() #only numeric values"
   ]
  },
  {
   "cell_type": "code",
   "execution_count": 132,
   "metadata": {},
   "outputs": [],
   "source": [
    "#using df_copy\n",
    "cat_df_copy = df_copy.select_dtypes(include=['object'])"
   ]
  },
  {
   "cell_type": "code",
   "execution_count": 133,
   "metadata": {},
   "outputs": [
    {
     "data": {
      "text/html": [
       "<div>\n",
       "<style scoped>\n",
       "    .dataframe tbody tr th:only-of-type {\n",
       "        vertical-align: middle;\n",
       "    }\n",
       "\n",
       "    .dataframe tbody tr th {\n",
       "        vertical-align: top;\n",
       "    }\n",
       "\n",
       "    .dataframe thead th {\n",
       "        text-align: right;\n",
       "    }\n",
       "</style>\n",
       "<table border=\"1\" class=\"dataframe\">\n",
       "  <thead>\n",
       "    <tr style=\"text-align: right;\">\n",
       "      <th></th>\n",
       "      <th>temp_of_extremities</th>\n",
       "      <th>peripheral_pulse</th>\n",
       "      <th>mucous_membrane</th>\n",
       "      <th>capillary_refill_time</th>\n",
       "      <th>pain</th>\n",
       "      <th>peristalsis</th>\n",
       "      <th>abdominal_distention</th>\n",
       "      <th>nasogastric_tube</th>\n",
       "      <th>nasogastric_reflux</th>\n",
       "      <th>rectal_exam_feces</th>\n",
       "      <th>abdomen</th>\n",
       "      <th>outcome</th>\n",
       "    </tr>\n",
       "  </thead>\n",
       "  <tbody>\n",
       "    <tr>\n",
       "      <th>0</th>\n",
       "      <td>cool</td>\n",
       "      <td>reduced</td>\n",
       "      <td>&lt;UNK&gt;</td>\n",
       "      <td>more_3_sec</td>\n",
       "      <td>extreme_pain</td>\n",
       "      <td>absent</td>\n",
       "      <td>severe</td>\n",
       "      <td>&lt;UNK&gt;</td>\n",
       "      <td>&lt;UNK&gt;</td>\n",
       "      <td>decreased</td>\n",
       "      <td>distend_large</td>\n",
       "      <td>died</td>\n",
       "    </tr>\n",
       "    <tr>\n",
       "      <th>1</th>\n",
       "      <td>&lt;UNK&gt;</td>\n",
       "      <td>&lt;UNK&gt;</td>\n",
       "      <td>pale_cyanotic</td>\n",
       "      <td>less_3_sec</td>\n",
       "      <td>mild_pain</td>\n",
       "      <td>absent</td>\n",
       "      <td>slight</td>\n",
       "      <td>&lt;UNK&gt;</td>\n",
       "      <td>&lt;UNK&gt;</td>\n",
       "      <td>absent</td>\n",
       "      <td>other</td>\n",
       "      <td>euthanized</td>\n",
       "    </tr>\n",
       "    <tr>\n",
       "      <th>2</th>\n",
       "      <td>normal</td>\n",
       "      <td>normal</td>\n",
       "      <td>pale_pink</td>\n",
       "      <td>less_3_sec</td>\n",
       "      <td>mild_pain</td>\n",
       "      <td>hypomotile</td>\n",
       "      <td>none</td>\n",
       "      <td>&lt;UNK&gt;</td>\n",
       "      <td>&lt;UNK&gt;</td>\n",
       "      <td>normal</td>\n",
       "      <td>normal</td>\n",
       "      <td>lived</td>\n",
       "    </tr>\n",
       "    <tr>\n",
       "      <th>3</th>\n",
       "      <td>cold</td>\n",
       "      <td>normal</td>\n",
       "      <td>dark_cyanotic</td>\n",
       "      <td>more_3_sec</td>\n",
       "      <td>depressed</td>\n",
       "      <td>absent</td>\n",
       "      <td>severe</td>\n",
       "      <td>none</td>\n",
       "      <td>less_1_liter</td>\n",
       "      <td>decreased</td>\n",
       "      <td>&lt;UNK&gt;</td>\n",
       "      <td>died</td>\n",
       "    </tr>\n",
       "    <tr>\n",
       "      <th>4</th>\n",
       "      <td>&lt;UNK&gt;</td>\n",
       "      <td>&lt;UNK&gt;</td>\n",
       "      <td>dark_cyanotic</td>\n",
       "      <td>more_3_sec</td>\n",
       "      <td>&lt;UNK&gt;</td>\n",
       "      <td>&lt;UNK&gt;</td>\n",
       "      <td>&lt;UNK&gt;</td>\n",
       "      <td>&lt;UNK&gt;</td>\n",
       "      <td>&lt;UNK&gt;</td>\n",
       "      <td>&lt;UNK&gt;</td>\n",
       "      <td>&lt;UNK&gt;</td>\n",
       "      <td>died</td>\n",
       "    </tr>\n",
       "  </tbody>\n",
       "</table>\n",
       "</div>"
      ],
      "text/plain": [
       "  temp_of_extremities peripheral_pulse mucous_membrane capillary_refill_time  \\\n",
       "0                cool          reduced           <UNK>            more_3_sec   \n",
       "1               <UNK>            <UNK>   pale_cyanotic            less_3_sec   \n",
       "2              normal           normal       pale_pink            less_3_sec   \n",
       "3                cold           normal   dark_cyanotic            more_3_sec   \n",
       "4               <UNK>            <UNK>   dark_cyanotic            more_3_sec   \n",
       "\n",
       "           pain peristalsis abdominal_distention nasogastric_tube  \\\n",
       "0  extreme_pain      absent               severe            <UNK>   \n",
       "1     mild_pain      absent               slight            <UNK>   \n",
       "2     mild_pain  hypomotile                 none            <UNK>   \n",
       "3     depressed      absent               severe             none   \n",
       "4         <UNK>       <UNK>                <UNK>            <UNK>   \n",
       "\n",
       "  nasogastric_reflux rectal_exam_feces        abdomen     outcome  \n",
       "0              <UNK>         decreased  distend_large        died  \n",
       "1              <UNK>            absent          other  euthanized  \n",
       "2              <UNK>            normal         normal       lived  \n",
       "3       less_1_liter         decreased          <UNK>        died  \n",
       "4              <UNK>             <UNK>          <UNK>        died  "
      ]
     },
     "execution_count": 133,
     "metadata": {},
     "output_type": "execute_result"
    }
   ],
   "source": [
    "cat_df_copy.head()"
   ]
  },
  {
   "cell_type": "code",
   "execution_count": 134,
   "metadata": {},
   "outputs": [
    {
     "data": {
      "text/html": [
       "<div>\n",
       "<style scoped>\n",
       "    .dataframe tbody tr th:only-of-type {\n",
       "        vertical-align: middle;\n",
       "    }\n",
       "\n",
       "    .dataframe tbody tr th {\n",
       "        vertical-align: top;\n",
       "    }\n",
       "\n",
       "    .dataframe thead th {\n",
       "        text-align: right;\n",
       "    }\n",
       "</style>\n",
       "<table border=\"1\" class=\"dataframe\">\n",
       "  <thead>\n",
       "    <tr style=\"text-align: right;\">\n",
       "      <th></th>\n",
       "      <th>peripheral_pulse</th>\n",
       "      <th>mucous_membrane</th>\n",
       "      <th>capillary_refill_time</th>\n",
       "      <th>pain</th>\n",
       "      <th>peristalsis</th>\n",
       "      <th>abdominal_distention</th>\n",
       "      <th>nasogastric_tube</th>\n",
       "      <th>nasogastric_reflux</th>\n",
       "      <th>rectal_exam_feces</th>\n",
       "      <th>abdomen</th>\n",
       "      <th>outcome</th>\n",
       "      <th>toe_&lt;UNK&gt;</th>\n",
       "      <th>toe_cold</th>\n",
       "      <th>toe_cool</th>\n",
       "      <th>toe_normal</th>\n",
       "      <th>toe_warm</th>\n",
       "    </tr>\n",
       "  </thead>\n",
       "  <tbody>\n",
       "    <tr>\n",
       "      <th>0</th>\n",
       "      <td>reduced</td>\n",
       "      <td>&lt;UNK&gt;</td>\n",
       "      <td>more_3_sec</td>\n",
       "      <td>extreme_pain</td>\n",
       "      <td>absent</td>\n",
       "      <td>severe</td>\n",
       "      <td>&lt;UNK&gt;</td>\n",
       "      <td>&lt;UNK&gt;</td>\n",
       "      <td>decreased</td>\n",
       "      <td>distend_large</td>\n",
       "      <td>died</td>\n",
       "      <td>0</td>\n",
       "      <td>0</td>\n",
       "      <td>1</td>\n",
       "      <td>0</td>\n",
       "      <td>0</td>\n",
       "    </tr>\n",
       "    <tr>\n",
       "      <th>1</th>\n",
       "      <td>&lt;UNK&gt;</td>\n",
       "      <td>pale_cyanotic</td>\n",
       "      <td>less_3_sec</td>\n",
       "      <td>mild_pain</td>\n",
       "      <td>absent</td>\n",
       "      <td>slight</td>\n",
       "      <td>&lt;UNK&gt;</td>\n",
       "      <td>&lt;UNK&gt;</td>\n",
       "      <td>absent</td>\n",
       "      <td>other</td>\n",
       "      <td>euthanized</td>\n",
       "      <td>1</td>\n",
       "      <td>0</td>\n",
       "      <td>0</td>\n",
       "      <td>0</td>\n",
       "      <td>0</td>\n",
       "    </tr>\n",
       "    <tr>\n",
       "      <th>2</th>\n",
       "      <td>normal</td>\n",
       "      <td>pale_pink</td>\n",
       "      <td>less_3_sec</td>\n",
       "      <td>mild_pain</td>\n",
       "      <td>hypomotile</td>\n",
       "      <td>none</td>\n",
       "      <td>&lt;UNK&gt;</td>\n",
       "      <td>&lt;UNK&gt;</td>\n",
       "      <td>normal</td>\n",
       "      <td>normal</td>\n",
       "      <td>lived</td>\n",
       "      <td>0</td>\n",
       "      <td>0</td>\n",
       "      <td>0</td>\n",
       "      <td>1</td>\n",
       "      <td>0</td>\n",
       "    </tr>\n",
       "    <tr>\n",
       "      <th>3</th>\n",
       "      <td>normal</td>\n",
       "      <td>dark_cyanotic</td>\n",
       "      <td>more_3_sec</td>\n",
       "      <td>depressed</td>\n",
       "      <td>absent</td>\n",
       "      <td>severe</td>\n",
       "      <td>none</td>\n",
       "      <td>less_1_liter</td>\n",
       "      <td>decreased</td>\n",
       "      <td>&lt;UNK&gt;</td>\n",
       "      <td>died</td>\n",
       "      <td>0</td>\n",
       "      <td>1</td>\n",
       "      <td>0</td>\n",
       "      <td>0</td>\n",
       "      <td>0</td>\n",
       "    </tr>\n",
       "    <tr>\n",
       "      <th>4</th>\n",
       "      <td>&lt;UNK&gt;</td>\n",
       "      <td>dark_cyanotic</td>\n",
       "      <td>more_3_sec</td>\n",
       "      <td>&lt;UNK&gt;</td>\n",
       "      <td>&lt;UNK&gt;</td>\n",
       "      <td>&lt;UNK&gt;</td>\n",
       "      <td>&lt;UNK&gt;</td>\n",
       "      <td>&lt;UNK&gt;</td>\n",
       "      <td>&lt;UNK&gt;</td>\n",
       "      <td>&lt;UNK&gt;</td>\n",
       "      <td>died</td>\n",
       "      <td>1</td>\n",
       "      <td>0</td>\n",
       "      <td>0</td>\n",
       "      <td>0</td>\n",
       "      <td>0</td>\n",
       "    </tr>\n",
       "  </tbody>\n",
       "</table>\n",
       "</div>"
      ],
      "text/plain": [
       "  peripheral_pulse mucous_membrane capillary_refill_time          pain  \\\n",
       "0          reduced           <UNK>            more_3_sec  extreme_pain   \n",
       "1            <UNK>   pale_cyanotic            less_3_sec     mild_pain   \n",
       "2           normal       pale_pink            less_3_sec     mild_pain   \n",
       "3           normal   dark_cyanotic            more_3_sec     depressed   \n",
       "4            <UNK>   dark_cyanotic            more_3_sec         <UNK>   \n",
       "\n",
       "  peristalsis abdominal_distention nasogastric_tube nasogastric_reflux  \\\n",
       "0      absent               severe            <UNK>              <UNK>   \n",
       "1      absent               slight            <UNK>              <UNK>   \n",
       "2  hypomotile                 none            <UNK>              <UNK>   \n",
       "3      absent               severe             none       less_1_liter   \n",
       "4       <UNK>                <UNK>            <UNK>              <UNK>   \n",
       "\n",
       "  rectal_exam_feces        abdomen     outcome  toe_<UNK>  toe_cold  toe_cool  \\\n",
       "0         decreased  distend_large        died          0         0         1   \n",
       "1            absent          other  euthanized          1         0         0   \n",
       "2            normal         normal       lived          0         0         0   \n",
       "3         decreased          <UNK>        died          0         1         0   \n",
       "4             <UNK>          <UNK>        died          1         0         0   \n",
       "\n",
       "   toe_normal  toe_warm  \n",
       "0           0         0  \n",
       "1           0         0  \n",
       "2           1         0  \n",
       "3           0         0  \n",
       "4           0         0  "
      ]
     },
     "execution_count": 134,
     "metadata": {},
     "output_type": "execute_result"
    }
   ],
   "source": [
    "\n",
    "cat_df_copy = pd.get_dummies(cat_df_copy, columns=['temp_of_extremities'], prefix = ['toe'])\n",
    "\n",
    "cat_df_copy.head()"
   ]
  },
  {
   "cell_type": "code",
   "execution_count": 135,
   "metadata": {},
   "outputs": [
    {
     "data": {
      "text/html": [
       "<div>\n",
       "<style scoped>\n",
       "    .dataframe tbody tr th:only-of-type {\n",
       "        vertical-align: middle;\n",
       "    }\n",
       "\n",
       "    .dataframe tbody tr th {\n",
       "        vertical-align: top;\n",
       "    }\n",
       "\n",
       "    .dataframe thead th {\n",
       "        text-align: right;\n",
       "    }\n",
       "</style>\n",
       "<table border=\"1\" class=\"dataframe\">\n",
       "  <thead>\n",
       "    <tr style=\"text-align: right;\">\n",
       "      <th></th>\n",
       "      <th>mucous_membrane</th>\n",
       "      <th>capillary_refill_time</th>\n",
       "      <th>pain</th>\n",
       "      <th>peristalsis</th>\n",
       "      <th>abdominal_distention</th>\n",
       "      <th>nasogastric_tube</th>\n",
       "      <th>nasogastric_reflux</th>\n",
       "      <th>rectal_exam_feces</th>\n",
       "      <th>abdomen</th>\n",
       "      <th>outcome</th>\n",
       "      <th>toe_&lt;UNK&gt;</th>\n",
       "      <th>toe_cold</th>\n",
       "      <th>toe_cool</th>\n",
       "      <th>toe_normal</th>\n",
       "      <th>toe_warm</th>\n",
       "      <th>pp_&lt;UNK&gt;</th>\n",
       "      <th>pp_absent</th>\n",
       "      <th>pp_increased</th>\n",
       "      <th>pp_normal</th>\n",
       "      <th>pp_reduced</th>\n",
       "    </tr>\n",
       "  </thead>\n",
       "  <tbody>\n",
       "    <tr>\n",
       "      <th>0</th>\n",
       "      <td>&lt;UNK&gt;</td>\n",
       "      <td>more_3_sec</td>\n",
       "      <td>extreme_pain</td>\n",
       "      <td>absent</td>\n",
       "      <td>severe</td>\n",
       "      <td>&lt;UNK&gt;</td>\n",
       "      <td>&lt;UNK&gt;</td>\n",
       "      <td>decreased</td>\n",
       "      <td>distend_large</td>\n",
       "      <td>died</td>\n",
       "      <td>0</td>\n",
       "      <td>0</td>\n",
       "      <td>1</td>\n",
       "      <td>0</td>\n",
       "      <td>0</td>\n",
       "      <td>0</td>\n",
       "      <td>0</td>\n",
       "      <td>0</td>\n",
       "      <td>0</td>\n",
       "      <td>1</td>\n",
       "    </tr>\n",
       "    <tr>\n",
       "      <th>1</th>\n",
       "      <td>pale_cyanotic</td>\n",
       "      <td>less_3_sec</td>\n",
       "      <td>mild_pain</td>\n",
       "      <td>absent</td>\n",
       "      <td>slight</td>\n",
       "      <td>&lt;UNK&gt;</td>\n",
       "      <td>&lt;UNK&gt;</td>\n",
       "      <td>absent</td>\n",
       "      <td>other</td>\n",
       "      <td>euthanized</td>\n",
       "      <td>1</td>\n",
       "      <td>0</td>\n",
       "      <td>0</td>\n",
       "      <td>0</td>\n",
       "      <td>0</td>\n",
       "      <td>1</td>\n",
       "      <td>0</td>\n",
       "      <td>0</td>\n",
       "      <td>0</td>\n",
       "      <td>0</td>\n",
       "    </tr>\n",
       "    <tr>\n",
       "      <th>2</th>\n",
       "      <td>pale_pink</td>\n",
       "      <td>less_3_sec</td>\n",
       "      <td>mild_pain</td>\n",
       "      <td>hypomotile</td>\n",
       "      <td>none</td>\n",
       "      <td>&lt;UNK&gt;</td>\n",
       "      <td>&lt;UNK&gt;</td>\n",
       "      <td>normal</td>\n",
       "      <td>normal</td>\n",
       "      <td>lived</td>\n",
       "      <td>0</td>\n",
       "      <td>0</td>\n",
       "      <td>0</td>\n",
       "      <td>1</td>\n",
       "      <td>0</td>\n",
       "      <td>0</td>\n",
       "      <td>0</td>\n",
       "      <td>0</td>\n",
       "      <td>1</td>\n",
       "      <td>0</td>\n",
       "    </tr>\n",
       "    <tr>\n",
       "      <th>3</th>\n",
       "      <td>dark_cyanotic</td>\n",
       "      <td>more_3_sec</td>\n",
       "      <td>depressed</td>\n",
       "      <td>absent</td>\n",
       "      <td>severe</td>\n",
       "      <td>none</td>\n",
       "      <td>less_1_liter</td>\n",
       "      <td>decreased</td>\n",
       "      <td>&lt;UNK&gt;</td>\n",
       "      <td>died</td>\n",
       "      <td>0</td>\n",
       "      <td>1</td>\n",
       "      <td>0</td>\n",
       "      <td>0</td>\n",
       "      <td>0</td>\n",
       "      <td>0</td>\n",
       "      <td>0</td>\n",
       "      <td>0</td>\n",
       "      <td>1</td>\n",
       "      <td>0</td>\n",
       "    </tr>\n",
       "    <tr>\n",
       "      <th>4</th>\n",
       "      <td>dark_cyanotic</td>\n",
       "      <td>more_3_sec</td>\n",
       "      <td>&lt;UNK&gt;</td>\n",
       "      <td>&lt;UNK&gt;</td>\n",
       "      <td>&lt;UNK&gt;</td>\n",
       "      <td>&lt;UNK&gt;</td>\n",
       "      <td>&lt;UNK&gt;</td>\n",
       "      <td>&lt;UNK&gt;</td>\n",
       "      <td>&lt;UNK&gt;</td>\n",
       "      <td>died</td>\n",
       "      <td>1</td>\n",
       "      <td>0</td>\n",
       "      <td>0</td>\n",
       "      <td>0</td>\n",
       "      <td>0</td>\n",
       "      <td>1</td>\n",
       "      <td>0</td>\n",
       "      <td>0</td>\n",
       "      <td>0</td>\n",
       "      <td>0</td>\n",
       "    </tr>\n",
       "  </tbody>\n",
       "</table>\n",
       "</div>"
      ],
      "text/plain": [
       "  mucous_membrane capillary_refill_time          pain peristalsis  \\\n",
       "0           <UNK>            more_3_sec  extreme_pain      absent   \n",
       "1   pale_cyanotic            less_3_sec     mild_pain      absent   \n",
       "2       pale_pink            less_3_sec     mild_pain  hypomotile   \n",
       "3   dark_cyanotic            more_3_sec     depressed      absent   \n",
       "4   dark_cyanotic            more_3_sec         <UNK>       <UNK>   \n",
       "\n",
       "  abdominal_distention nasogastric_tube nasogastric_reflux rectal_exam_feces  \\\n",
       "0               severe            <UNK>              <UNK>         decreased   \n",
       "1               slight            <UNK>              <UNK>            absent   \n",
       "2                 none            <UNK>              <UNK>            normal   \n",
       "3               severe             none       less_1_liter         decreased   \n",
       "4                <UNK>            <UNK>              <UNK>             <UNK>   \n",
       "\n",
       "         abdomen     outcome  toe_<UNK>  toe_cold  toe_cool  toe_normal  \\\n",
       "0  distend_large        died          0         0         1           0   \n",
       "1          other  euthanized          1         0         0           0   \n",
       "2         normal       lived          0         0         0           1   \n",
       "3          <UNK>        died          0         1         0           0   \n",
       "4          <UNK>        died          1         0         0           0   \n",
       "\n",
       "   toe_warm  pp_<UNK>  pp_absent  pp_increased  pp_normal  pp_reduced  \n",
       "0         0         0          0             0          0           1  \n",
       "1         0         1          0             0          0           0  \n",
       "2         0         0          0             0          1           0  \n",
       "3         0         0          0             0          1           0  \n",
       "4         0         1          0             0          0           0  "
      ]
     },
     "execution_count": 135,
     "metadata": {},
     "output_type": "execute_result"
    }
   ],
   "source": [
    "\n",
    "cat_df_copy = pd.get_dummies(cat_df_copy, columns=['peripheral_pulse'], prefix = ['pp'])\n",
    "\n",
    "cat_df_copy.head()"
   ]
  },
  {
   "cell_type": "code",
   "execution_count": 136,
   "metadata": {},
   "outputs": [],
   "source": [
    "\n",
    "cat_df_copy = pd.get_dummies(cat_df_copy, columns=['mucous_membrane'], prefix = ['mm'])\n",
    "\n"
   ]
  },
  {
   "cell_type": "code",
   "execution_count": 137,
   "metadata": {},
   "outputs": [],
   "source": [
    "\n",
    "cat_df_copy = pd.get_dummies(cat_df_copy, columns=['capillary_refill_time'], prefix = ['crt'])\n",
    "\n"
   ]
  },
  {
   "cell_type": "code",
   "execution_count": 138,
   "metadata": {},
   "outputs": [
    {
     "data": {
      "text/html": [
       "<div>\n",
       "<style scoped>\n",
       "    .dataframe tbody tr th:only-of-type {\n",
       "        vertical-align: middle;\n",
       "    }\n",
       "\n",
       "    .dataframe tbody tr th {\n",
       "        vertical-align: top;\n",
       "    }\n",
       "\n",
       "    .dataframe thead th {\n",
       "        text-align: right;\n",
       "    }\n",
       "</style>\n",
       "<table border=\"1\" class=\"dataframe\">\n",
       "  <thead>\n",
       "    <tr style=\"text-align: right;\">\n",
       "      <th></th>\n",
       "      <th>peristalsis</th>\n",
       "      <th>abdominal_distention</th>\n",
       "      <th>nasogastric_tube</th>\n",
       "      <th>nasogastric_reflux</th>\n",
       "      <th>rectal_exam_feces</th>\n",
       "      <th>abdomen</th>\n",
       "      <th>outcome</th>\n",
       "      <th>toe_&lt;UNK&gt;</th>\n",
       "      <th>toe_cold</th>\n",
       "      <th>toe_cool</th>\n",
       "      <th>...</th>\n",
       "      <th>crt_3</th>\n",
       "      <th>crt_&lt;UNK&gt;</th>\n",
       "      <th>crt_less_3_sec</th>\n",
       "      <th>crt_more_3_sec</th>\n",
       "      <th>pain_&lt;UNK&gt;</th>\n",
       "      <th>pain_alert</th>\n",
       "      <th>pain_depressed</th>\n",
       "      <th>pain_extreme_pain</th>\n",
       "      <th>pain_mild_pain</th>\n",
       "      <th>pain_severe_pain</th>\n",
       "    </tr>\n",
       "  </thead>\n",
       "  <tbody>\n",
       "    <tr>\n",
       "      <th>0</th>\n",
       "      <td>absent</td>\n",
       "      <td>severe</td>\n",
       "      <td>&lt;UNK&gt;</td>\n",
       "      <td>&lt;UNK&gt;</td>\n",
       "      <td>decreased</td>\n",
       "      <td>distend_large</td>\n",
       "      <td>died</td>\n",
       "      <td>0</td>\n",
       "      <td>0</td>\n",
       "      <td>1</td>\n",
       "      <td>...</td>\n",
       "      <td>0</td>\n",
       "      <td>0</td>\n",
       "      <td>0</td>\n",
       "      <td>1</td>\n",
       "      <td>0</td>\n",
       "      <td>0</td>\n",
       "      <td>0</td>\n",
       "      <td>1</td>\n",
       "      <td>0</td>\n",
       "      <td>0</td>\n",
       "    </tr>\n",
       "    <tr>\n",
       "      <th>1</th>\n",
       "      <td>absent</td>\n",
       "      <td>slight</td>\n",
       "      <td>&lt;UNK&gt;</td>\n",
       "      <td>&lt;UNK&gt;</td>\n",
       "      <td>absent</td>\n",
       "      <td>other</td>\n",
       "      <td>euthanized</td>\n",
       "      <td>1</td>\n",
       "      <td>0</td>\n",
       "      <td>0</td>\n",
       "      <td>...</td>\n",
       "      <td>0</td>\n",
       "      <td>0</td>\n",
       "      <td>1</td>\n",
       "      <td>0</td>\n",
       "      <td>0</td>\n",
       "      <td>0</td>\n",
       "      <td>0</td>\n",
       "      <td>0</td>\n",
       "      <td>1</td>\n",
       "      <td>0</td>\n",
       "    </tr>\n",
       "    <tr>\n",
       "      <th>2</th>\n",
       "      <td>hypomotile</td>\n",
       "      <td>none</td>\n",
       "      <td>&lt;UNK&gt;</td>\n",
       "      <td>&lt;UNK&gt;</td>\n",
       "      <td>normal</td>\n",
       "      <td>normal</td>\n",
       "      <td>lived</td>\n",
       "      <td>0</td>\n",
       "      <td>0</td>\n",
       "      <td>0</td>\n",
       "      <td>...</td>\n",
       "      <td>0</td>\n",
       "      <td>0</td>\n",
       "      <td>1</td>\n",
       "      <td>0</td>\n",
       "      <td>0</td>\n",
       "      <td>0</td>\n",
       "      <td>0</td>\n",
       "      <td>0</td>\n",
       "      <td>1</td>\n",
       "      <td>0</td>\n",
       "    </tr>\n",
       "    <tr>\n",
       "      <th>3</th>\n",
       "      <td>absent</td>\n",
       "      <td>severe</td>\n",
       "      <td>none</td>\n",
       "      <td>less_1_liter</td>\n",
       "      <td>decreased</td>\n",
       "      <td>&lt;UNK&gt;</td>\n",
       "      <td>died</td>\n",
       "      <td>0</td>\n",
       "      <td>1</td>\n",
       "      <td>0</td>\n",
       "      <td>...</td>\n",
       "      <td>0</td>\n",
       "      <td>0</td>\n",
       "      <td>0</td>\n",
       "      <td>1</td>\n",
       "      <td>0</td>\n",
       "      <td>0</td>\n",
       "      <td>1</td>\n",
       "      <td>0</td>\n",
       "      <td>0</td>\n",
       "      <td>0</td>\n",
       "    </tr>\n",
       "    <tr>\n",
       "      <th>4</th>\n",
       "      <td>&lt;UNK&gt;</td>\n",
       "      <td>&lt;UNK&gt;</td>\n",
       "      <td>&lt;UNK&gt;</td>\n",
       "      <td>&lt;UNK&gt;</td>\n",
       "      <td>&lt;UNK&gt;</td>\n",
       "      <td>&lt;UNK&gt;</td>\n",
       "      <td>died</td>\n",
       "      <td>1</td>\n",
       "      <td>0</td>\n",
       "      <td>0</td>\n",
       "      <td>...</td>\n",
       "      <td>0</td>\n",
       "      <td>0</td>\n",
       "      <td>0</td>\n",
       "      <td>1</td>\n",
       "      <td>1</td>\n",
       "      <td>0</td>\n",
       "      <td>0</td>\n",
       "      <td>0</td>\n",
       "      <td>0</td>\n",
       "      <td>0</td>\n",
       "    </tr>\n",
       "  </tbody>\n",
       "</table>\n",
       "<p>5 rows × 34 columns</p>\n",
       "</div>"
      ],
      "text/plain": [
       "  peristalsis abdominal_distention nasogastric_tube nasogastric_reflux  \\\n",
       "0      absent               severe            <UNK>              <UNK>   \n",
       "1      absent               slight            <UNK>              <UNK>   \n",
       "2  hypomotile                 none            <UNK>              <UNK>   \n",
       "3      absent               severe             none       less_1_liter   \n",
       "4       <UNK>                <UNK>            <UNK>              <UNK>   \n",
       "\n",
       "  rectal_exam_feces        abdomen     outcome  toe_<UNK>  toe_cold  toe_cool  \\\n",
       "0         decreased  distend_large        died          0         0         1   \n",
       "1            absent          other  euthanized          1         0         0   \n",
       "2            normal         normal       lived          0         0         0   \n",
       "3         decreased          <UNK>        died          0         1         0   \n",
       "4             <UNK>          <UNK>        died          1         0         0   \n",
       "\n",
       "         ...         crt_3  crt_<UNK>  crt_less_3_sec  crt_more_3_sec  \\\n",
       "0        ...             0          0               0               1   \n",
       "1        ...             0          0               1               0   \n",
       "2        ...             0          0               1               0   \n",
       "3        ...             0          0               0               1   \n",
       "4        ...             0          0               0               1   \n",
       "\n",
       "   pain_<UNK>  pain_alert  pain_depressed  pain_extreme_pain  pain_mild_pain  \\\n",
       "0           0           0               0                  1               0   \n",
       "1           0           0               0                  0               1   \n",
       "2           0           0               0                  0               1   \n",
       "3           0           0               1                  0               0   \n",
       "4           1           0               0                  0               0   \n",
       "\n",
       "   pain_severe_pain  \n",
       "0                 0  \n",
       "1                 0  \n",
       "2                 0  \n",
       "3                 0  \n",
       "4                 0  \n",
       "\n",
       "[5 rows x 34 columns]"
      ]
     },
     "execution_count": 138,
     "metadata": {},
     "output_type": "execute_result"
    }
   ],
   "source": [
    "\n",
    "cat_df_copy = pd.get_dummies(cat_df_copy, columns=['pain'], prefix = ['pain'])\n",
    "\n",
    "cat_df_copy.head()"
   ]
  },
  {
   "cell_type": "code",
   "execution_count": 139,
   "metadata": {},
   "outputs": [],
   "source": [
    "\n",
    "cat_df_copy = pd.get_dummies(cat_df_copy, columns=['peristalsis'], prefix = ['peristalsis'])\n",
    "\n"
   ]
  },
  {
   "cell_type": "code",
   "execution_count": 140,
   "metadata": {},
   "outputs": [],
   "source": [
    "\n",
    "cat_df_copy = pd.get_dummies(cat_df_copy, columns=['abdominal_distention'], prefix = ['ad'])\n",
    "\n"
   ]
  },
  {
   "cell_type": "code",
   "execution_count": 141,
   "metadata": {},
   "outputs": [],
   "source": [
    "\n",
    "cat_df_copy = pd.get_dummies(cat_df_copy, columns=['nasogastric_tube'], prefix = ['nt'])\n",
    "\n"
   ]
  },
  {
   "cell_type": "code",
   "execution_count": 142,
   "metadata": {},
   "outputs": [],
   "source": [
    "\n",
    "cat_df_copy = pd.get_dummies(cat_df_copy, columns=['nasogastric_reflux'], prefix = ['nf'])\n",
    "\n"
   ]
  },
  {
   "cell_type": "code",
   "execution_count": 143,
   "metadata": {},
   "outputs": [],
   "source": [
    "\n",
    "cat_df_copy = pd.get_dummies(cat_df_copy, columns=['rectal_exam_feces'], prefix = ['ref'])\n",
    "\n"
   ]
  },
  {
   "cell_type": "code",
   "execution_count": 144,
   "metadata": {},
   "outputs": [],
   "source": [
    "\n",
    "cat_df_copy = pd.get_dummies(cat_df_copy, columns=['abdomen'], prefix = ['abd'])\n",
    "\n"
   ]
  },
  {
   "cell_type": "code",
   "execution_count": 145,
   "metadata": {},
   "outputs": [],
   "source": [
    "le = LabelEncoder()\n",
    "le.fit([\"died\",\"euthanized\",\"lived\"])\n",
    "cat_df_copy['outcome'] = le.transform(cat_df_copy['outcome'])"
   ]
  },
  {
   "cell_type": "code",
   "execution_count": 146,
   "metadata": {},
   "outputs": [
    {
     "data": {
      "text/html": [
       "<div>\n",
       "<style scoped>\n",
       "    .dataframe tbody tr th:only-of-type {\n",
       "        vertical-align: middle;\n",
       "    }\n",
       "\n",
       "    .dataframe tbody tr th {\n",
       "        vertical-align: top;\n",
       "    }\n",
       "\n",
       "    .dataframe thead th {\n",
       "        text-align: right;\n",
       "    }\n",
       "</style>\n",
       "<table border=\"1\" class=\"dataframe\">\n",
       "  <thead>\n",
       "    <tr style=\"text-align: right;\">\n",
       "      <th></th>\n",
       "      <th>outcome</th>\n",
       "      <th>toe_&lt;UNK&gt;</th>\n",
       "      <th>toe_cold</th>\n",
       "      <th>toe_cool</th>\n",
       "      <th>toe_normal</th>\n",
       "      <th>toe_warm</th>\n",
       "      <th>pp_&lt;UNK&gt;</th>\n",
       "      <th>pp_absent</th>\n",
       "      <th>pp_increased</th>\n",
       "      <th>pp_normal</th>\n",
       "      <th>...</th>\n",
       "      <th>ref_absent</th>\n",
       "      <th>ref_decreased</th>\n",
       "      <th>ref_increased</th>\n",
       "      <th>ref_normal</th>\n",
       "      <th>abd_&lt;UNK&gt;</th>\n",
       "      <th>abd_distend_large</th>\n",
       "      <th>abd_distend_small</th>\n",
       "      <th>abd_firm</th>\n",
       "      <th>abd_normal</th>\n",
       "      <th>abd_other</th>\n",
       "    </tr>\n",
       "  </thead>\n",
       "  <tbody>\n",
       "    <tr>\n",
       "      <th>0</th>\n",
       "      <td>0</td>\n",
       "      <td>0</td>\n",
       "      <td>0</td>\n",
       "      <td>1</td>\n",
       "      <td>0</td>\n",
       "      <td>0</td>\n",
       "      <td>0</td>\n",
       "      <td>0</td>\n",
       "      <td>0</td>\n",
       "      <td>0</td>\n",
       "      <td>...</td>\n",
       "      <td>0</td>\n",
       "      <td>1</td>\n",
       "      <td>0</td>\n",
       "      <td>0</td>\n",
       "      <td>0</td>\n",
       "      <td>1</td>\n",
       "      <td>0</td>\n",
       "      <td>0</td>\n",
       "      <td>0</td>\n",
       "      <td>0</td>\n",
       "    </tr>\n",
       "    <tr>\n",
       "      <th>1</th>\n",
       "      <td>1</td>\n",
       "      <td>1</td>\n",
       "      <td>0</td>\n",
       "      <td>0</td>\n",
       "      <td>0</td>\n",
       "      <td>0</td>\n",
       "      <td>1</td>\n",
       "      <td>0</td>\n",
       "      <td>0</td>\n",
       "      <td>0</td>\n",
       "      <td>...</td>\n",
       "      <td>1</td>\n",
       "      <td>0</td>\n",
       "      <td>0</td>\n",
       "      <td>0</td>\n",
       "      <td>0</td>\n",
       "      <td>0</td>\n",
       "      <td>0</td>\n",
       "      <td>0</td>\n",
       "      <td>0</td>\n",
       "      <td>1</td>\n",
       "    </tr>\n",
       "    <tr>\n",
       "      <th>2</th>\n",
       "      <td>2</td>\n",
       "      <td>0</td>\n",
       "      <td>0</td>\n",
       "      <td>0</td>\n",
       "      <td>1</td>\n",
       "      <td>0</td>\n",
       "      <td>0</td>\n",
       "      <td>0</td>\n",
       "      <td>0</td>\n",
       "      <td>1</td>\n",
       "      <td>...</td>\n",
       "      <td>0</td>\n",
       "      <td>0</td>\n",
       "      <td>0</td>\n",
       "      <td>1</td>\n",
       "      <td>0</td>\n",
       "      <td>0</td>\n",
       "      <td>0</td>\n",
       "      <td>0</td>\n",
       "      <td>1</td>\n",
       "      <td>0</td>\n",
       "    </tr>\n",
       "    <tr>\n",
       "      <th>3</th>\n",
       "      <td>0</td>\n",
       "      <td>0</td>\n",
       "      <td>1</td>\n",
       "      <td>0</td>\n",
       "      <td>0</td>\n",
       "      <td>0</td>\n",
       "      <td>0</td>\n",
       "      <td>0</td>\n",
       "      <td>0</td>\n",
       "      <td>1</td>\n",
       "      <td>...</td>\n",
       "      <td>0</td>\n",
       "      <td>1</td>\n",
       "      <td>0</td>\n",
       "      <td>0</td>\n",
       "      <td>1</td>\n",
       "      <td>0</td>\n",
       "      <td>0</td>\n",
       "      <td>0</td>\n",
       "      <td>0</td>\n",
       "      <td>0</td>\n",
       "    </tr>\n",
       "  </tbody>\n",
       "</table>\n",
       "<p>4 rows × 57 columns</p>\n",
       "</div>"
      ],
      "text/plain": [
       "   outcome  toe_<UNK>  toe_cold  toe_cool  toe_normal  toe_warm  pp_<UNK>  \\\n",
       "0        0          0         0         1           0         0         0   \n",
       "1        1          1         0         0           0         0         1   \n",
       "2        2          0         0         0           1         0         0   \n",
       "3        0          0         1         0           0         0         0   \n",
       "\n",
       "   pp_absent  pp_increased  pp_normal    ...      ref_absent  ref_decreased  \\\n",
       "0          0             0          0    ...               0              1   \n",
       "1          0             0          0    ...               1              0   \n",
       "2          0             0          1    ...               0              0   \n",
       "3          0             0          1    ...               0              1   \n",
       "\n",
       "   ref_increased  ref_normal  abd_<UNK>  abd_distend_large  abd_distend_small  \\\n",
       "0              0           0          0                  1                  0   \n",
       "1              0           0          0                  0                  0   \n",
       "2              0           1          0                  0                  0   \n",
       "3              0           0          1                  0                  0   \n",
       "\n",
       "   abd_firm  abd_normal  abd_other  \n",
       "0         0           0          0  \n",
       "1         0           0          1  \n",
       "2         0           1          0  \n",
       "3         0           0          0  \n",
       "\n",
       "[4 rows x 57 columns]"
      ]
     },
     "execution_count": 146,
     "metadata": {},
     "output_type": "execute_result"
    }
   ],
   "source": [
    "cat_df_copy.head(4)"
   ]
  },
  {
   "cell_type": "code",
   "execution_count": 147,
   "metadata": {},
   "outputs": [
    {
     "data": {
      "text/html": [
       "<div>\n",
       "<style scoped>\n",
       "    .dataframe tbody tr th:only-of-type {\n",
       "        vertical-align: middle;\n",
       "    }\n",
       "\n",
       "    .dataframe tbody tr th {\n",
       "        vertical-align: top;\n",
       "    }\n",
       "\n",
       "    .dataframe thead th {\n",
       "        text-align: right;\n",
       "    }\n",
       "</style>\n",
       "<table border=\"1\" class=\"dataframe\">\n",
       "  <thead>\n",
       "    <tr style=\"text-align: right;\">\n",
       "      <th></th>\n",
       "      <th>rectal_temp</th>\n",
       "      <th>pulse</th>\n",
       "      <th>respiratory_rate</th>\n",
       "      <th>packed_cell_volume</th>\n",
       "      <th>total_protein</th>\n",
       "      <th>lesion_1</th>\n",
       "      <th>lesion_2</th>\n",
       "      <th>lesion_3</th>\n",
       "      <th>surgery</th>\n",
       "      <th>young</th>\n",
       "      <th>surgical_lesion</th>\n",
       "      <th>cp_data</th>\n",
       "    </tr>\n",
       "  </thead>\n",
       "  <tbody>\n",
       "    <tr>\n",
       "      <th>0</th>\n",
       "      <td>38.5</td>\n",
       "      <td>66.0</td>\n",
       "      <td>28.0</td>\n",
       "      <td>45.0</td>\n",
       "      <td>8.4</td>\n",
       "      <td>11300</td>\n",
       "      <td>0</td>\n",
       "      <td>0</td>\n",
       "      <td>0</td>\n",
       "      <td>0</td>\n",
       "      <td>0</td>\n",
       "      <td>0</td>\n",
       "    </tr>\n",
       "    <tr>\n",
       "      <th>1</th>\n",
       "      <td>39.2</td>\n",
       "      <td>88.0</td>\n",
       "      <td>20.0</td>\n",
       "      <td>50.0</td>\n",
       "      <td>85.0</td>\n",
       "      <td>2208</td>\n",
       "      <td>0</td>\n",
       "      <td>0</td>\n",
       "      <td>1</td>\n",
       "      <td>0</td>\n",
       "      <td>0</td>\n",
       "      <td>0</td>\n",
       "    </tr>\n",
       "    <tr>\n",
       "      <th>2</th>\n",
       "      <td>38.3</td>\n",
       "      <td>40.0</td>\n",
       "      <td>24.0</td>\n",
       "      <td>33.0</td>\n",
       "      <td>6.7</td>\n",
       "      <td>0</td>\n",
       "      <td>0</td>\n",
       "      <td>0</td>\n",
       "      <td>0</td>\n",
       "      <td>0</td>\n",
       "      <td>0</td>\n",
       "      <td>1</td>\n",
       "    </tr>\n",
       "    <tr>\n",
       "      <th>3</th>\n",
       "      <td>39.1</td>\n",
       "      <td>164.0</td>\n",
       "      <td>84.0</td>\n",
       "      <td>48.0</td>\n",
       "      <td>7.2</td>\n",
       "      <td>2208</td>\n",
       "      <td>0</td>\n",
       "      <td>0</td>\n",
       "      <td>1</td>\n",
       "      <td>1</td>\n",
       "      <td>1</td>\n",
       "      <td>1</td>\n",
       "    </tr>\n",
       "    <tr>\n",
       "      <th>4</th>\n",
       "      <td>37.3</td>\n",
       "      <td>104.0</td>\n",
       "      <td>35.0</td>\n",
       "      <td>74.0</td>\n",
       "      <td>7.4</td>\n",
       "      <td>4300</td>\n",
       "      <td>0</td>\n",
       "      <td>0</td>\n",
       "      <td>0</td>\n",
       "      <td>0</td>\n",
       "      <td>0</td>\n",
       "      <td>0</td>\n",
       "    </tr>\n",
       "  </tbody>\n",
       "</table>\n",
       "</div>"
      ],
      "text/plain": [
       "   rectal_temp  pulse  respiratory_rate  packed_cell_volume  total_protein  \\\n",
       "0         38.5   66.0              28.0                45.0            8.4   \n",
       "1         39.2   88.0              20.0                50.0           85.0   \n",
       "2         38.3   40.0              24.0                33.0            6.7   \n",
       "3         39.1  164.0              84.0                48.0            7.2   \n",
       "4         37.3  104.0              35.0                74.0            7.4   \n",
       "\n",
       "   lesion_1  lesion_2  lesion_3  surgery  young  surgical_lesion  cp_data  \n",
       "0     11300         0         0        0      0                0        0  \n",
       "1      2208         0         0        1      0                0        0  \n",
       "2         0         0         0        0      0                0        1  \n",
       "3      2208         0         0        1      1                1        1  \n",
       "4      4300         0         0        0      0                0        0  "
      ]
     },
     "execution_count": 147,
     "metadata": {},
     "output_type": "execute_result"
    }
   ],
   "source": [
    "df_copy_2.head() ## all values are in the form of numbers and vectors."
   ]
  },
  {
   "cell_type": "code",
   "execution_count": 148,
   "metadata": {},
   "outputs": [
    {
     "name": "stdout",
     "output_type": "stream",
     "text": [
      "<class 'pandas.core.frame.DataFrame'>\n",
      "RangeIndex: 299 entries, 0 to 298\n",
      "Data columns (total 57 columns):\n",
      "outcome                    299 non-null int64\n",
      "toe_<UNK>                  299 non-null uint8\n",
      "toe_cold                   299 non-null uint8\n",
      "toe_cool                   299 non-null uint8\n",
      "toe_normal                 299 non-null uint8\n",
      "toe_warm                   299 non-null uint8\n",
      "pp_<UNK>                   299 non-null uint8\n",
      "pp_absent                  299 non-null uint8\n",
      "pp_increased               299 non-null uint8\n",
      "pp_normal                  299 non-null uint8\n",
      "pp_reduced                 299 non-null uint8\n",
      "mm_<UNK>                   299 non-null uint8\n",
      "mm_bright_pink             299 non-null uint8\n",
      "mm_bright_red              299 non-null uint8\n",
      "mm_dark_cyanotic           299 non-null uint8\n",
      "mm_normal_pink             299 non-null uint8\n",
      "mm_pale_cyanotic           299 non-null uint8\n",
      "mm_pale_pink               299 non-null uint8\n",
      "crt_3                      299 non-null uint8\n",
      "crt_<UNK>                  299 non-null uint8\n",
      "crt_less_3_sec             299 non-null uint8\n",
      "crt_more_3_sec             299 non-null uint8\n",
      "pain_<UNK>                 299 non-null uint8\n",
      "pain_alert                 299 non-null uint8\n",
      "pain_depressed             299 non-null uint8\n",
      "pain_extreme_pain          299 non-null uint8\n",
      "pain_mild_pain             299 non-null uint8\n",
      "pain_severe_pain           299 non-null uint8\n",
      "peristalsis_<UNK>          299 non-null uint8\n",
      "peristalsis_absent         299 non-null uint8\n",
      "peristalsis_hypermotile    299 non-null uint8\n",
      "peristalsis_hypomotile     299 non-null uint8\n",
      "peristalsis_normal         299 non-null uint8\n",
      "ad_<UNK>                   299 non-null uint8\n",
      "ad_moderate                299 non-null uint8\n",
      "ad_none                    299 non-null uint8\n",
      "ad_severe                  299 non-null uint8\n",
      "ad_slight                  299 non-null uint8\n",
      "nt_<UNK>                   299 non-null uint8\n",
      "nt_none                    299 non-null uint8\n",
      "nt_significant             299 non-null uint8\n",
      "nt_slight                  299 non-null uint8\n",
      "nf_<UNK>                   299 non-null uint8\n",
      "nf_less_1_liter            299 non-null uint8\n",
      "nf_more_1_liter            299 non-null uint8\n",
      "nf_none                    299 non-null uint8\n",
      "ref_<UNK>                  299 non-null uint8\n",
      "ref_absent                 299 non-null uint8\n",
      "ref_decreased              299 non-null uint8\n",
      "ref_increased              299 non-null uint8\n",
      "ref_normal                 299 non-null uint8\n",
      "abd_<UNK>                  299 non-null uint8\n",
      "abd_distend_large          299 non-null uint8\n",
      "abd_distend_small          299 non-null uint8\n",
      "abd_firm                   299 non-null uint8\n",
      "abd_normal                 299 non-null uint8\n",
      "abd_other                  299 non-null uint8\n",
      "dtypes: int64(1), uint8(56)\n",
      "memory usage: 18.8 KB\n"
     ]
    }
   ],
   "source": [
    "cat_df_copy.info()"
   ]
  },
  {
   "cell_type": "code",
   "execution_count": 149,
   "metadata": {},
   "outputs": [
    {
     "name": "stdout",
     "output_type": "stream",
     "text": [
      "<class 'pandas.core.frame.DataFrame'>\n",
      "RangeIndex: 299 entries, 0 to 298\n",
      "Data columns (total 12 columns):\n",
      "rectal_temp           299 non-null float64\n",
      "pulse                 299 non-null float64\n",
      "respiratory_rate      299 non-null float64\n",
      "packed_cell_volume    299 non-null float64\n",
      "total_protein         299 non-null float64\n",
      "lesion_1              299 non-null int64\n",
      "lesion_2              299 non-null int64\n",
      "lesion_3              299 non-null int64\n",
      "surgery               299 non-null uint8\n",
      "young                 299 non-null uint8\n",
      "surgical_lesion       299 non-null uint8\n",
      "cp_data               299 non-null uint8\n",
      "dtypes: float64(5), int64(3), uint8(4)\n",
      "memory usage: 19.9 KB\n"
     ]
    }
   ],
   "source": [
    "df_copy_2.info()"
   ]
  },
  {
   "cell_type": "code",
   "execution_count": 150,
   "metadata": {},
   "outputs": [],
   "source": [
    "df_copy_2.drop('cp_data',axis=1,inplace=True)"
   ]
  },
  {
   "cell_type": "code",
   "execution_count": 151,
   "metadata": {},
   "outputs": [
    {
     "data": {
      "text/html": [
       "<div>\n",
       "<style scoped>\n",
       "    .dataframe tbody tr th:only-of-type {\n",
       "        vertical-align: middle;\n",
       "    }\n",
       "\n",
       "    .dataframe tbody tr th {\n",
       "        vertical-align: top;\n",
       "    }\n",
       "\n",
       "    .dataframe thead th {\n",
       "        text-align: right;\n",
       "    }\n",
       "</style>\n",
       "<table border=\"1\" class=\"dataframe\">\n",
       "  <thead>\n",
       "    <tr style=\"text-align: right;\">\n",
       "      <th></th>\n",
       "      <th>outcome</th>\n",
       "      <th>toe_&lt;UNK&gt;</th>\n",
       "      <th>toe_cold</th>\n",
       "      <th>toe_cool</th>\n",
       "      <th>toe_normal</th>\n",
       "      <th>toe_warm</th>\n",
       "      <th>pp_&lt;UNK&gt;</th>\n",
       "      <th>pp_absent</th>\n",
       "      <th>pp_increased</th>\n",
       "      <th>pp_normal</th>\n",
       "      <th>...</th>\n",
       "      <th>pulse</th>\n",
       "      <th>respiratory_rate</th>\n",
       "      <th>packed_cell_volume</th>\n",
       "      <th>total_protein</th>\n",
       "      <th>lesion_1</th>\n",
       "      <th>lesion_2</th>\n",
       "      <th>lesion_3</th>\n",
       "      <th>surgery</th>\n",
       "      <th>young</th>\n",
       "      <th>surgical_lesion</th>\n",
       "    </tr>\n",
       "  </thead>\n",
       "  <tbody>\n",
       "    <tr>\n",
       "      <th>0</th>\n",
       "      <td>0</td>\n",
       "      <td>0</td>\n",
       "      <td>0</td>\n",
       "      <td>1</td>\n",
       "      <td>0</td>\n",
       "      <td>0</td>\n",
       "      <td>0</td>\n",
       "      <td>0</td>\n",
       "      <td>0</td>\n",
       "      <td>0</td>\n",
       "      <td>...</td>\n",
       "      <td>66.0</td>\n",
       "      <td>28.0</td>\n",
       "      <td>45.0</td>\n",
       "      <td>8.4</td>\n",
       "      <td>11300</td>\n",
       "      <td>0</td>\n",
       "      <td>0</td>\n",
       "      <td>0</td>\n",
       "      <td>0</td>\n",
       "      <td>0</td>\n",
       "    </tr>\n",
       "    <tr>\n",
       "      <th>1</th>\n",
       "      <td>1</td>\n",
       "      <td>1</td>\n",
       "      <td>0</td>\n",
       "      <td>0</td>\n",
       "      <td>0</td>\n",
       "      <td>0</td>\n",
       "      <td>1</td>\n",
       "      <td>0</td>\n",
       "      <td>0</td>\n",
       "      <td>0</td>\n",
       "      <td>...</td>\n",
       "      <td>88.0</td>\n",
       "      <td>20.0</td>\n",
       "      <td>50.0</td>\n",
       "      <td>85.0</td>\n",
       "      <td>2208</td>\n",
       "      <td>0</td>\n",
       "      <td>0</td>\n",
       "      <td>1</td>\n",
       "      <td>0</td>\n",
       "      <td>0</td>\n",
       "    </tr>\n",
       "    <tr>\n",
       "      <th>2</th>\n",
       "      <td>2</td>\n",
       "      <td>0</td>\n",
       "      <td>0</td>\n",
       "      <td>0</td>\n",
       "      <td>1</td>\n",
       "      <td>0</td>\n",
       "      <td>0</td>\n",
       "      <td>0</td>\n",
       "      <td>0</td>\n",
       "      <td>1</td>\n",
       "      <td>...</td>\n",
       "      <td>40.0</td>\n",
       "      <td>24.0</td>\n",
       "      <td>33.0</td>\n",
       "      <td>6.7</td>\n",
       "      <td>0</td>\n",
       "      <td>0</td>\n",
       "      <td>0</td>\n",
       "      <td>0</td>\n",
       "      <td>0</td>\n",
       "      <td>0</td>\n",
       "    </tr>\n",
       "    <tr>\n",
       "      <th>3</th>\n",
       "      <td>0</td>\n",
       "      <td>0</td>\n",
       "      <td>1</td>\n",
       "      <td>0</td>\n",
       "      <td>0</td>\n",
       "      <td>0</td>\n",
       "      <td>0</td>\n",
       "      <td>0</td>\n",
       "      <td>0</td>\n",
       "      <td>1</td>\n",
       "      <td>...</td>\n",
       "      <td>164.0</td>\n",
       "      <td>84.0</td>\n",
       "      <td>48.0</td>\n",
       "      <td>7.2</td>\n",
       "      <td>2208</td>\n",
       "      <td>0</td>\n",
       "      <td>0</td>\n",
       "      <td>1</td>\n",
       "      <td>1</td>\n",
       "      <td>1</td>\n",
       "    </tr>\n",
       "    <tr>\n",
       "      <th>4</th>\n",
       "      <td>0</td>\n",
       "      <td>1</td>\n",
       "      <td>0</td>\n",
       "      <td>0</td>\n",
       "      <td>0</td>\n",
       "      <td>0</td>\n",
       "      <td>1</td>\n",
       "      <td>0</td>\n",
       "      <td>0</td>\n",
       "      <td>0</td>\n",
       "      <td>...</td>\n",
       "      <td>104.0</td>\n",
       "      <td>35.0</td>\n",
       "      <td>74.0</td>\n",
       "      <td>7.4</td>\n",
       "      <td>4300</td>\n",
       "      <td>0</td>\n",
       "      <td>0</td>\n",
       "      <td>0</td>\n",
       "      <td>0</td>\n",
       "      <td>0</td>\n",
       "    </tr>\n",
       "  </tbody>\n",
       "</table>\n",
       "<p>5 rows × 68 columns</p>\n",
       "</div>"
      ],
      "text/plain": [
       "   outcome  toe_<UNK>  toe_cold  toe_cool  toe_normal  toe_warm  pp_<UNK>  \\\n",
       "0        0          0         0         1           0         0         0   \n",
       "1        1          1         0         0           0         0         1   \n",
       "2        2          0         0         0           1         0         0   \n",
       "3        0          0         1         0           0         0         0   \n",
       "4        0          1         0         0           0         0         1   \n",
       "\n",
       "   pp_absent  pp_increased  pp_normal       ...         pulse  \\\n",
       "0          0             0          0       ...          66.0   \n",
       "1          0             0          0       ...          88.0   \n",
       "2          0             0          1       ...          40.0   \n",
       "3          0             0          1       ...         164.0   \n",
       "4          0             0          0       ...         104.0   \n",
       "\n",
       "   respiratory_rate  packed_cell_volume  total_protein  lesion_1  lesion_2  \\\n",
       "0              28.0                45.0            8.4     11300         0   \n",
       "1              20.0                50.0           85.0      2208         0   \n",
       "2              24.0                33.0            6.7         0         0   \n",
       "3              84.0                48.0            7.2      2208         0   \n",
       "4              35.0                74.0            7.4      4300         0   \n",
       "\n",
       "   lesion_3  surgery  young  surgical_lesion  \n",
       "0         0        0      0                0  \n",
       "1         0        1      0                0  \n",
       "2         0        0      0                0  \n",
       "3         0        1      1                1  \n",
       "4         0        0      0                0  \n",
       "\n",
       "[5 rows x 68 columns]"
      ]
     },
     "execution_count": 151,
     "metadata": {},
     "output_type": "execute_result"
    }
   ],
   "source": [
    "X = pd.DataFrame(data=pd.concat([cat_df_copy,df_copy_2],axis=1))\n",
    "X.head()"
   ]
  },
  {
   "cell_type": "code",
   "execution_count": 152,
   "metadata": {},
   "outputs": [],
   "source": [
    "x = X.drop('outcome',axis=1).values\n",
    "y = X['outcome'].values"
   ]
  },
  {
   "cell_type": "code",
   "execution_count": 153,
   "metadata": {},
   "outputs": [],
   "source": [
    "X_train, X_test, y_train, y_test = train_test_split(x, y, test_size=0.20, random_state=10)"
   ]
  },
  {
   "cell_type": "code",
   "execution_count": 154,
   "metadata": {},
   "outputs": [],
   "source": [
    "algo = {'LR':LogisticRegression(),\n",
    "        'DT':DecisionTreeClassifier(),\n",
    "        'RFC':RandomForestClassifier(n_estimators=100),\n",
    "        'SVM':SVC(gamma=0.001,kernel='rbf'),\n",
    "        'KNN':KNeighborsClassifier(n_neighbors=10)}"
   ]
  },
  {
   "cell_type": "code",
   "execution_count": 168,
   "metadata": {},
   "outputs": [
    {
     "name": "stdout",
     "output_type": "stream",
     "text": [
      "Confusion Matrix : \n",
      "[[ 8  0  1]\n",
      " [ 5  1  2]\n",
      " [ 2  3 38]]\n",
      "Acurracy of LR is 78.33\n",
      "             precision    recall  f1-score   support\n",
      "\n",
      "          0       0.53      0.89      0.67         9\n",
      "          1       0.25      0.12      0.17         8\n",
      "          2       0.93      0.88      0.90        43\n",
      "\n",
      "avg / total       0.78      0.78      0.77        60\n",
      "\n",
      "\n",
      "\n",
      "Confusion Matrix : \n",
      "[[ 7  0  2]\n",
      " [ 2  4  2]\n",
      " [ 6  3 34]]\n",
      "Acurracy of DT is 75.00\n",
      "             precision    recall  f1-score   support\n",
      "\n",
      "          0       0.47      0.78      0.58         9\n",
      "          1       0.57      0.50      0.53         8\n",
      "          2       0.89      0.79      0.84        43\n",
      "\n",
      "avg / total       0.79      0.75      0.76        60\n",
      "\n",
      "\n",
      "\n",
      "Confusion Matrix : \n",
      "[[ 6  0  3]\n",
      " [ 4  1  3]\n",
      " [ 3  0 40]]\n",
      "Acurracy of RFC is 78.33\n",
      "             precision    recall  f1-score   support\n",
      "\n",
      "          0       0.46      0.67      0.55         9\n",
      "          1       1.00      0.12      0.22         8\n",
      "          2       0.87      0.93      0.90        43\n",
      "\n",
      "avg / total       0.83      0.78      0.76        60\n",
      "\n",
      "\n",
      "\n",
      "Confusion Matrix : \n",
      "[[ 4  0  5]\n",
      " [ 1  2  5]\n",
      " [ 1  1 41]]\n",
      "Acurracy of SVM is 78.33\n",
      "             precision    recall  f1-score   support\n",
      "\n",
      "          0       0.67      0.44      0.53         9\n",
      "          1       0.67      0.25      0.36         8\n",
      "          2       0.80      0.95      0.87        43\n",
      "\n",
      "avg / total       0.77      0.78      0.75        60\n",
      "\n",
      "\n",
      "\n",
      "Confusion Matrix : \n",
      "[[ 6  0  3]\n",
      " [ 3  2  3]\n",
      " [ 9  3 31]]\n",
      "Acurracy of KNN is 65.00\n",
      "             precision    recall  f1-score   support\n",
      "\n",
      "          0       0.33      0.67      0.44         9\n",
      "          1       0.40      0.25      0.31         8\n",
      "          2       0.84      0.72      0.77        43\n",
      "\n",
      "avg / total       0.70      0.65      0.66        60\n",
      "\n",
      "\n",
      "\n"
     ]
    }
   ],
   "source": [
    "for k, v in algo.items():\n",
    "    model = v\n",
    "    model.fit(X_train, y_train)\n",
    "    print('Confusion Matrix : \\n'+format(confusion_matrix(y_test, model.predict(X_test),labels = [0,1,2])))\n",
    "    print('Acurracy of ' + k + ' is {0:.2f}'.format(model.score(X_test, y_test)*100))\n",
    "    print(classification_report(y_test, model.predict(X_test)))\n",
    "    print('\\n')"
   ]
  },
  {
   "cell_type": "code",
   "execution_count": null,
   "metadata": {},
   "outputs": [],
   "source": []
  },
  {
   "cell_type": "code",
   "execution_count": null,
   "metadata": {},
   "outputs": [],
   "source": []
  },
  {
   "cell_type": "code",
   "execution_count": null,
   "metadata": {},
   "outputs": [],
   "source": []
  },
  {
   "cell_type": "code",
   "execution_count": null,
   "metadata": {},
   "outputs": [],
   "source": []
  },
  {
   "cell_type": "code",
   "execution_count": null,
   "metadata": {},
   "outputs": [],
   "source": []
  },
  {
   "cell_type": "code",
   "execution_count": null,
   "metadata": {},
   "outputs": [],
   "source": []
  },
  {
   "cell_type": "code",
   "execution_count": null,
   "metadata": {},
   "outputs": [],
   "source": []
  },
  {
   "cell_type": "code",
   "execution_count": null,
   "metadata": {},
   "outputs": [],
   "source": []
  },
  {
   "cell_type": "code",
   "execution_count": null,
   "metadata": {},
   "outputs": [],
   "source": []
  },
  {
   "cell_type": "code",
   "execution_count": null,
   "metadata": {},
   "outputs": [],
   "source": []
  },
  {
   "cell_type": "code",
   "execution_count": null,
   "metadata": {},
   "outputs": [],
   "source": []
  },
  {
   "cell_type": "code",
   "execution_count": null,
   "metadata": {},
   "outputs": [],
   "source": []
  },
  {
   "cell_type": "code",
   "execution_count": null,
   "metadata": {},
   "outputs": [],
   "source": []
  },
  {
   "cell_type": "code",
   "execution_count": null,
   "metadata": {},
   "outputs": [],
   "source": []
  },
  {
   "cell_type": "code",
   "execution_count": null,
   "metadata": {},
   "outputs": [],
   "source": []
  },
  {
   "cell_type": "code",
   "execution_count": null,
   "metadata": {},
   "outputs": [],
   "source": []
  },
  {
   "cell_type": "code",
   "execution_count": null,
   "metadata": {},
   "outputs": [],
   "source": []
  },
  {
   "cell_type": "code",
   "execution_count": null,
   "metadata": {},
   "outputs": [],
   "source": []
  },
  {
   "cell_type": "code",
   "execution_count": null,
   "metadata": {},
   "outputs": [],
   "source": []
  },
  {
   "cell_type": "code",
   "execution_count": null,
   "metadata": {},
   "outputs": [],
   "source": []
  },
  {
   "cell_type": "code",
   "execution_count": null,
   "metadata": {},
   "outputs": [],
   "source": []
  },
  {
   "cell_type": "code",
   "execution_count": null,
   "metadata": {},
   "outputs": [],
   "source": []
  },
  {
   "cell_type": "code",
   "execution_count": null,
   "metadata": {},
   "outputs": [],
   "source": []
  },
  {
   "cell_type": "code",
   "execution_count": null,
   "metadata": {},
   "outputs": [],
   "source": []
  },
  {
   "cell_type": "code",
   "execution_count": null,
   "metadata": {},
   "outputs": [],
   "source": []
  },
  {
   "cell_type": "code",
   "execution_count": null,
   "metadata": {},
   "outputs": [],
   "source": []
  },
  {
   "cell_type": "code",
   "execution_count": null,
   "metadata": {},
   "outputs": [],
   "source": []
  },
  {
   "cell_type": "code",
   "execution_count": null,
   "metadata": {},
   "outputs": [],
   "source": []
  },
  {
   "cell_type": "code",
   "execution_count": null,
   "metadata": {},
   "outputs": [],
   "source": []
  },
  {
   "cell_type": "code",
   "execution_count": null,
   "metadata": {},
   "outputs": [],
   "source": []
  },
  {
   "cell_type": "code",
   "execution_count": null,
   "metadata": {},
   "outputs": [],
   "source": []
  },
  {
   "cell_type": "code",
   "execution_count": null,
   "metadata": {},
   "outputs": [],
   "source": []
  },
  {
   "cell_type": "code",
   "execution_count": null,
   "metadata": {},
   "outputs": [],
   "source": []
  },
  {
   "cell_type": "code",
   "execution_count": null,
   "metadata": {},
   "outputs": [],
   "source": []
  },
  {
   "cell_type": "code",
   "execution_count": null,
   "metadata": {},
   "outputs": [],
   "source": []
  },
  {
   "cell_type": "code",
   "execution_count": null,
   "metadata": {},
   "outputs": [],
   "source": []
  },
  {
   "cell_type": "code",
   "execution_count": null,
   "metadata": {},
   "outputs": [],
   "source": []
  },
  {
   "cell_type": "code",
   "execution_count": null,
   "metadata": {},
   "outputs": [],
   "source": []
  },
  {
   "cell_type": "code",
   "execution_count": null,
   "metadata": {},
   "outputs": [],
   "source": []
  },
  {
   "cell_type": "code",
   "execution_count": null,
   "metadata": {},
   "outputs": [],
   "source": []
  },
  {
   "cell_type": "code",
   "execution_count": null,
   "metadata": {},
   "outputs": [],
   "source": []
  },
  {
   "cell_type": "code",
   "execution_count": null,
   "metadata": {},
   "outputs": [],
   "source": []
  },
  {
   "cell_type": "code",
   "execution_count": null,
   "metadata": {},
   "outputs": [],
   "source": []
  },
  {
   "cell_type": "code",
   "execution_count": null,
   "metadata": {},
   "outputs": [],
   "source": []
  },
  {
   "cell_type": "code",
   "execution_count": null,
   "metadata": {},
   "outputs": [],
   "source": []
  },
  {
   "cell_type": "code",
   "execution_count": null,
   "metadata": {},
   "outputs": [],
   "source": []
  },
  {
   "cell_type": "code",
   "execution_count": null,
   "metadata": {},
   "outputs": [],
   "source": []
  },
  {
   "cell_type": "code",
   "execution_count": null,
   "metadata": {},
   "outputs": [],
   "source": []
  },
  {
   "cell_type": "code",
   "execution_count": null,
   "metadata": {},
   "outputs": [],
   "source": []
  },
  {
   "cell_type": "code",
   "execution_count": null,
   "metadata": {},
   "outputs": [],
   "source": []
  },
  {
   "cell_type": "code",
   "execution_count": null,
   "metadata": {},
   "outputs": [],
   "source": []
  },
  {
   "cell_type": "code",
   "execution_count": null,
   "metadata": {},
   "outputs": [],
   "source": []
  },
  {
   "cell_type": "code",
   "execution_count": null,
   "metadata": {},
   "outputs": [],
   "source": []
  },
  {
   "cell_type": "code",
   "execution_count": null,
   "metadata": {},
   "outputs": [],
   "source": []
  },
  {
   "cell_type": "code",
   "execution_count": null,
   "metadata": {},
   "outputs": [],
   "source": []
  },
  {
   "cell_type": "code",
   "execution_count": null,
   "metadata": {},
   "outputs": [],
   "source": []
  },
  {
   "cell_type": "code",
   "execution_count": null,
   "metadata": {},
   "outputs": [],
   "source": []
  },
  {
   "cell_type": "code",
   "execution_count": null,
   "metadata": {},
   "outputs": [],
   "source": []
  },
  {
   "cell_type": "code",
   "execution_count": null,
   "metadata": {},
   "outputs": [],
   "source": []
  },
  {
   "cell_type": "code",
   "execution_count": null,
   "metadata": {},
   "outputs": [],
   "source": []
  }
 ],
 "metadata": {
  "kernelspec": {
   "display_name": "Python 3",
   "language": "python",
   "name": "python3"
  },
  "language_info": {
   "codemirror_mode": {
    "name": "ipython",
    "version": 3
   },
   "file_extension": ".py",
   "mimetype": "text/x-python",
   "name": "python",
   "nbconvert_exporter": "python",
   "pygments_lexer": "ipython3",
   "version": "3.6.5"
  }
 },
 "nbformat": 4,
 "nbformat_minor": 2
}
